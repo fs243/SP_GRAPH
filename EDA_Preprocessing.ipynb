{
 "cells": [
  {
   "cell_type": "code",
   "execution_count": 1,
   "metadata": {
    "colab": {
     "base_uri": "https://localhost:8080/",
     "height": 370
    },
    "id": "b7UR-kxuMfrM",
    "outputId": "f9fa44f8-77dd-4b55-e49d-75a0c0184629"
   },
   "outputs": [
    {
     "name": "stderr",
     "output_type": "stream",
     "text": [
      "C:\\Users\\fsgg7\\AppData\\Roaming\\Python\\Python310\\site-packages\\pyogrio\\raw.py:198: UserWarning: Measured (M) geometry types are not supported. Original type 'Measured 3D LineString' is converted to 'LineString Z'\n",
      "  return ogr_read(\n",
      "C:\\Users\\fsgg7\\AppData\\Roaming\\Python\\Python310\\site-packages\\pyogrio\\raw.py:198: UserWarning: Measured (M) geometry types are not supported. Original type 'Measured 3D LineString' is converted to 'LineString Z'\n",
      "  return ogr_read(\n",
      "C:\\Users\\fsgg7\\AppData\\Roaming\\Python\\Python310\\site-packages\\pyogrio\\raw.py:198: UserWarning: Measured (M) geometry types are not supported. Original type 'Measured 3D LineString' is converted to 'LineString Z'\n",
      "  return ogr_read(\n",
      "C:\\Users\\fsgg7\\AppData\\Roaming\\Python\\Python310\\site-packages\\pyogrio\\raw.py:198: UserWarning: Measured (M) geometry types are not supported. Original type 'Measured 3D LineString' is converted to 'LineString Z'\n",
      "  return ogr_read(\n"
     ]
    }
   ],
   "source": [
    "import geopandas as gpd\n",
    "#from google.colab import drive\n",
    "#drive.mount('/content/drive')\n",
    "#main_dir=r\"C:\\Users\\fsgg7\\Downloads\\NHD_H_Missouri_State_Shape\\Shape\"\n",
    "#new_path1,new_path2=main_dir+r\"\\NHDFlowline_0.shp\", main_dir+r\"\\NHDFlowline_1.shp\"\n",
    "#upper_path=r\"C:\\Users\\fsgg7\\Downloads\\NHDPlusMS\\NHDPlus10U\\NHDSnapshot\\Hydrography\\NHDFlowline.shp\"\n",
    "#MO_half1=gpd.read_file(new_path1)\n",
    "attr_path=r\"\\NHDPlusAttributes\\PlusFlowlineVAA.dbf\"\n",
    "snapshot=r\"\\NHDSnapshot\\Hydrography\\NHDFlowline.shp\"\n",
    "main_dir=r\"C:\\Users\\fsgg7\\Downloads\\NHDPlusMS\"\n",
    "wbd_path=r'\\WBDSnapshot\\WBD\\WBD_Subwatershed.shp'\n",
    "path10=r\"\\NHDPlus10L\"\n",
    "path7=r\"\\NHDPlus07\"\n",
    "path8=r\"\\NHDPlus08\"\n",
    "path11=r\"\\NHDPlus11\"\n",
    "db10=gpd.read_file(main_dir+path10+snapshot)\n",
    "db7=gpd.read_file(main_dir+path7+snapshot)\n",
    "db8=gpd.read_file(main_dir+path8+snapshot)\n",
    "db11=gpd.read_file(main_dir+path11+snapshot)\n",
    "\n",
    "db10_att=gpd.read_file(main_dir+ path10+ attr_path)\n",
    "db7_att=gpd.read_file(main_dir+ path7+ attr_path)\n",
    "db8_att=gpd.read_file(main_dir+ path8+ attr_path)\n",
    "db11_att=gpd.read_file(main_dir+ path11+ attr_path)\n",
    "\n",
    "wbd7 = gpd.read_file(main_dir+ path7+ wbd_path)\n",
    "wbd8 = gpd.read_file(main_dir+ path8+ wbd_path)\n",
    "wbd10 = gpd.read_file(main_dir+ path10+ wbd_path)\n",
    "wbd11=gpd.read_file(main_dir+ path11+ wbd_path)\n",
    "\n",
    "elev7=gpd.read_file(main_dir+ path7+ r\"\\NHDPlusAttributes\\elevslope.dbf\")\n",
    "elev8=gpd.read_file(main_dir+ path8+ r\"\\NHDPlusAttributes\\elevslope.dbf\")\n",
    "elev10=gpd.read_file(main_dir+ path10+ r\"\\NHDPlusAttributes\\elevslope.dbf\")\n",
    "elev11=gpd.read_file(main_dir+ path11+ r\"\\NHDPlusAttributes\\elevslope.dbf\")\n",
    "#dframe2=gpd.read_file(\"/content/drive/MyDrive/NHD_H_Missouri_State_Shape/Shape/NHDFlowline_1.shp\")"
   ]
  },
  {
   "cell_type": "markdown",
   "metadata": {},
   "source": [
    "#### we have 46 missed values for max elevation and 46 missed for min elevation, and as you can see these match, meaning the ones that miss the max also miss the min"
   ]
  },
  {
   "cell_type": "code",
   "execution_count": 2,
   "metadata": {},
   "outputs": [
    {
     "name": "stdout",
     "output_type": "stream",
     "text": [
      "118796 3027 186591\n"
     ]
    }
   ],
   "source": [
    "print(len(elev7[elev7['MAXELEVRAW']== -9998.00]),len(elev7[elev7['MINELEVRAW']== -9998.00]), len(elev7))"
   ]
  },
  {
   "cell_type": "code",
   "execution_count": 3,
   "metadata": {},
   "outputs": [
    {
     "name": "stdout",
     "output_type": "stream",
     "text": [
      "46 186591 46 186591\n"
     ]
    }
   ],
   "source": [
    "print(len(elev7[elev7['MAXELEVSMO']== -9998.00]), len(elev7),len(elev7[elev7['MINELEVSMO']== -9998.00]), len(elev7))"
   ]
  },
  {
   "cell_type": "code",
   "execution_count": 4,
   "metadata": {},
   "outputs": [
    {
     "name": "stdout",
     "output_type": "stream",
     "text": [
      "46\n"
     ]
    }
   ],
   "source": [
    "print(len(elev7[(elev7['MAXELEVSMO']== -9998.00) &  (elev7['MINELEVSMO']== -9998.00)] ))"
   ]
  },
  {
   "cell_type": "code",
   "execution_count": 5,
   "metadata": {},
   "outputs": [],
   "source": [
    "mo_boundary = gpd.read_file(r'C:\\Users\\fsgg7\\Downloads\\MO_state_boundary\\MO_State_Boundary.shp')"
   ]
  },
  {
   "cell_type": "code",
   "execution_count": 6,
   "metadata": {},
   "outputs": [],
   "source": [
    "mo_boundary = mo_boundary.to_crs(epsg=26915)\n",
    "mo_boundary_bf=mo_boundary.buffer(40000)\n",
    "mo_boundary_for_watershed=mo_boundary.buffer(40000)"
   ]
  },
  {
   "cell_type": "code",
   "execution_count": 7,
   "metadata": {},
   "outputs": [],
   "source": [
    "mo_boundary_for_watershed.to_file(r\"C:\\Users\\fsgg7\\Downloads\\bufferedStateBoundary2.shp\")"
   ]
  },
  {
   "cell_type": "code",
   "execution_count": 8,
   "metadata": {},
   "outputs": [
    {
     "name": "stdout",
     "output_type": "stream",
     "text": [
      "True False\n"
     ]
    }
   ],
   "source": [
    "print(db7.crs==db8.crs==db10.crs==db11.crs, db7.crs==mo_boundary_bf.crs)"
   ]
  },
  {
   "cell_type": "code",
   "execution_count": 9,
   "metadata": {},
   "outputs": [],
   "source": [
    "if db7.crs!=mo_boundary_bf.crs:\n",
    "    mo_boundary_bf=mo_boundary_bf.to_crs(db7.crs)"
   ]
  },
  {
   "cell_type": "code",
   "execution_count": 10,
   "metadata": {},
   "outputs": [
    {
     "name": "stderr",
     "output_type": "stream",
     "text": [
      "C:\\Users\\fsgg7\\AppData\\Local\\Temp\\ipykernel_12124\\500283926.py:1: DeprecationWarning: The 'unary_union' attribute is deprecated, use the 'union_all()' method instead.\n",
      "  db7_filtered=db7[db7.geometry.within(mo_boundary_bf.unary_union)]\n",
      "C:\\Users\\fsgg7\\AppData\\Local\\Temp\\ipykernel_12124\\500283926.py:2: DeprecationWarning: The 'unary_union' attribute is deprecated, use the 'union_all()' method instead.\n",
      "  db8_filtered=db8[db8.geometry.within(mo_boundary_bf.unary_union)]\n",
      "C:\\Users\\fsgg7\\AppData\\Local\\Temp\\ipykernel_12124\\500283926.py:3: DeprecationWarning: The 'unary_union' attribute is deprecated, use the 'union_all()' method instead.\n",
      "  db10_filtered=db10[db10.geometry.within(mo_boundary_bf.unary_union)]\n",
      "C:\\Users\\fsgg7\\AppData\\Local\\Temp\\ipykernel_12124\\500283926.py:4: DeprecationWarning: The 'unary_union' attribute is deprecated, use the 'union_all()' method instead.\n",
      "  db11_filtered=db11[db11.geometry.within(mo_boundary_bf.unary_union)]\n"
     ]
    },
    {
     "name": "stdout",
     "output_type": "stream",
     "text": [
      "193286 35765\n",
      "190275 16390\n",
      "212085 60259\n",
      "213620 27318\n"
     ]
    }
   ],
   "source": [
    "db7_filtered=db7[db7.geometry.within(mo_boundary_bf.unary_union)]\n",
    "db8_filtered=db8[db8.geometry.within(mo_boundary_bf.unary_union)]\n",
    "db10_filtered=db10[db10.geometry.within(mo_boundary_bf.unary_union)]\n",
    "db11_filtered=db11[db11.geometry.within(mo_boundary_bf.unary_union)]\n",
    "\n",
    "print(len(db7), len(db7_filtered))\n",
    "print(len(db8), len(db8_filtered))\n",
    "print(len(db10), len(db10_filtered))\n",
    "print(len(db11), len(db11_filtered))"
   ]
  },
  {
   "cell_type": "code",
   "execution_count": 11,
   "metadata": {},
   "outputs": [],
   "source": [
    "import pandas as pd\n",
    "def mergeDataFrames(db1, db2, db3, db4):\n",
    "    if hasattr(db1, 'crs'):\n",
    "        if not (db1.crs==db2.crs==db3.crs==db4.crs):\n",
    "            common_crs=db1.crs\n",
    "            db2=db2.to_crs(common_crs)\n",
    "            db3=db3.to_crs(common_crs)\n",
    "            db4=db4.to_crs(common_crs)\n",
    "\n",
    "    merged_df=gpd.GeoDataFrame(pd.concat([db1,db2, db3, db4],ignore_index=True))\n",
    "    return merged_df\n",
    "    \n",
    "merged_df=mergeDataFrames(db7_filtered,db8_filtered, db10_filtered, db11_filtered)\n",
    "merged_atts=mergeDataFrames(db7_att, db8_att, db10_att, db11_att)\n",
    "merged_elevs=mergeDataFrames(elev7, elev8, elev10,elev11)\n",
    "merged_wdbs=mergeDataFrames(wbd7, wbd8, wbd10,wbd11)"
   ]
  },
  {
   "cell_type": "code",
   "execution_count": 12,
   "metadata": {},
   "outputs": [
    {
     "name": "stderr",
     "output_type": "stream",
     "text": [
      "C:\\Users\\fsgg7\\AppData\\Roaming\\Python\\Python310\\site-packages\\pyogrio\\raw.py:723: RuntimeWarning: Field FDATE create as date field, though DateTime requested.\n",
      "  ogr_write(\n"
     ]
    }
   ],
   "source": [
    "merged_df.to_file(r\"C:\\Users\\fsgg7\\Downloads\\newRiverNetworkWithinBufferedStateBoundary.shp\")"
   ]
  },
  {
   "cell_type": "code",
   "execution_count": 14,
   "metadata": {},
   "outputs": [
    {
     "name": "stdout",
     "output_type": "stream",
     "text": [
      "0    POLYGON ((225494.947 4490057.272, 225417.086 4...\n",
      "dtype: geometry\n",
      "True\n"
     ]
    }
   ],
   "source": [
    "print(mo_boundary_for_watershed)\n",
    "print(mo_boundary_for_watershed.is_valid.all())"
   ]
  },
  {
   "cell_type": "code",
   "execution_count": 15,
   "metadata": {},
   "outputs": [
    {
     "name": "stdout",
     "output_type": "stream",
     "text": [
      "True\n",
      "True\n",
      "True\n",
      "True\n",
      "750902 139732 20319 748458\n"
     ]
    }
   ],
   "source": [
    "print(len(merged_df)== len(db7_filtered)+len(db8_filtered)+len(db10_filtered)+len(db11_filtered))\n",
    "\n",
    "print(len(merged_atts)==len(db7_att)+len(db8_att)+len(db10_att)+ len(db11_att))\n",
    "print(len(merged_wdbs)==len(wbd7)+len(wbd8)+len(wbd10)+ len(wbd11))\n",
    "print(len(merged_elevs)==len(elev7)+len(elev8)+len(elev10)+ len(elev11))\n",
    "print(len(merged_atts), len(merged_df), len(merged_wdbs), len(merged_elevs))"
   ]
  },
  {
   "cell_type": "code",
   "execution_count": 16,
   "metadata": {},
   "outputs": [
    {
     "name": "stderr",
     "output_type": "stream",
     "text": [
      "C:\\Users\\fsgg7\\AppData\\Local\\Temp\\ipykernel_12124\\1148254291.py:5: DeprecationWarning: The 'unary_union' attribute is deprecated, use the 'union_all()' method instead.\n",
      "  merged_wdbs_filtered= merged_wdbs[merged_wdbs.geometry.intersects(mo_boundary_for_watershed.unary_union)]\n"
     ]
    }
   ],
   "source": [
    "if mo_boundary_for_watershed.crs!= merged_wdbs.crs:\n",
    "    mo_boundary_for_watershed=mo_boundary_for_watershed.to_crs(merged_wdbs.crs)\n",
    "    #print(mo_boundary_for_watershed.crs)\n",
    "\n",
    "merged_wdbs_filtered= merged_wdbs[merged_wdbs.geometry.intersects(mo_boundary_for_watershed.unary_union)]"
   ]
  },
  {
   "cell_type": "code",
   "execution_count": 16,
   "metadata": {},
   "outputs": [],
   "source": [
    "merged_wdbs_filtered.to_file(r\"C:\\Users\\fsgg7\\Downloads\\NHDPlusMS\\watershedboundaryfiltrd.shp\")"
   ]
  },
  {
   "cell_type": "code",
   "execution_count": 17,
   "metadata": {},
   "outputs": [
    {
     "data": {
      "text/plain": [
       "2962"
      ]
     },
     "execution_count": 17,
     "metadata": {},
     "output_type": "execute_result"
    }
   ],
   "source": [
    "len(merged_wdbs_filtered)"
   ]
  },
  {
   "cell_type": "code",
   "execution_count": 18,
   "metadata": {},
   "outputs": [
    {
     "data": {
      "text/plain": [
       "(2962, 20319)"
      ]
     },
     "execution_count": 18,
     "metadata": {},
     "output_type": "execute_result"
    }
   ],
   "source": [
    "len(merged_wdbs_filtered), len(merged_wdbs)"
   ]
  },
  {
   "cell_type": "code",
   "execution_count": 19,
   "metadata": {},
   "outputs": [],
   "source": [
    "def standardize_column_names(df1,df2):\n",
    "    #df1_columns=[col.lower() for col in df1.columns]\n",
    "    #df2_columns=[col.lower() for col in df1.columns]\n",
    "    #common_columns=set(df1_columns).intersection(df2_columns)\n",
    "    df1.columns=[col.upper() for col in df1.columns]\n",
    "    df2.columns=[col.upper() for col in df2.columns]\n",
    "def common_columns(df1,df2):\n",
    "    df1_columns=set(df1.columns.str.lower())\n",
    "    df2_columns=set(df2.columns.str.lower())\n",
    "    \n",
    "    common_columns=df1_columns.intersection(df2_cols)\n",
    "    \n",
    "\n",
    "standardize_column_names(merged_df, merged_atts)"
   ]
  },
  {
   "cell_type": "code",
   "execution_count": 20,
   "metadata": {},
   "outputs": [],
   "source": [
    "result=(merged_df.merge(merged_elevs, on=\"COMID\", how='inner')).merge(merged_atts, on=\"COMID\",how='inner')"
   ]
  },
  {
   "cell_type": "code",
   "execution_count": 22,
   "metadata": {},
   "outputs": [],
   "source": [
    "#using intersects to see if the ones that are on the edge are also detected\n",
    "#first we used predicate='within' which was not successful since some reach segments inside the boundary has null huc values,\n",
    "# after using intersects this got fixed\n",
    "merged_wdbs_filtered=merged_wdbs_filtered.set_geometry('geometry')\n",
    "result=result.set_geometry('GEOMETRY')\n",
    "if merged_wdbs_filtered.crs!= result.crs:\n",
    "    result.to_crs(merged_wdbs_filtered.crs)\n",
    "\n",
    "final_dataset=gpd.sjoin(result, merged_wdbs_filtered, how='left', predicate='intersects')"
   ]
  },
  {
   "cell_type": "code",
   "execution_count": 23,
   "metadata": {},
   "outputs": [
    {
     "data": {
      "text/plain": [
       "(COMID             0\n",
       " FDATE_x           0\n",
       " RESOLUTION        0\n",
       " GNIS_ID       80866\n",
       " GNIS_NAME     80866\n",
       "               ...  \n",
       " STATES            0\n",
       " GlobalID          0\n",
       " SHAPE_Leng        0\n",
       " SHAPE_Area        0\n",
       " GAZ_ID            0\n",
       " Length: 86, dtype: int64,\n",
       " (138105, 86))"
      ]
     },
     "execution_count": 23,
     "metadata": {},
     "output_type": "execute_result"
    }
   ],
   "source": [
    "final_dataset.isnull().sum(),final_dataset.shape"
   ]
  },
  {
   "cell_type": "code",
   "execution_count": 24,
   "metadata": {},
   "outputs": [
    {
     "data": {
      "text/plain": [
       "Index(['COMID', 'FDATE_x', 'RESOLUTION', 'GNIS_ID', 'GNIS_NAME', 'LENGTHKM_x',\n",
       "       'REACHCODE_x', 'FLOWDIR', 'WBAREACOMI', 'FTYPE', 'FCODE_x',\n",
       "       'SHAPE_LENG', 'ENABLED', 'GNIS_NBR', 'GEOMETRY', 'FDATE_y',\n",
       "       'MAXELEVRAW', 'MINELEVRAW', 'MAXELEVSMO', 'MINELEVSMO', 'SLOPE',\n",
       "       'ELEVFIXED', 'HWTYPE', 'STATUSFLAG', 'SLOPELENKM', 'FDATE',\n",
       "       'STREAMLEVE', 'STREAMORDE', 'STREAMCALC', 'FROMNODE', 'TONODE',\n",
       "       'HYDROSEQ', 'LEVELPATHI', 'PATHLENGTH', 'TERMINALPA', 'ARBOLATESU',\n",
       "       'DIVERGENCE', 'STARTFLAG', 'TERMINALFL', 'DNLEVEL', 'THINNERCOD',\n",
       "       'UPLEVELPAT', 'UPHYDROSEQ', 'DNLEVELPAT', 'DNMINORHYD', 'DNDRAINCOU',\n",
       "       'DNHYDROSEQ', 'FROMMEAS', 'TOMEAS', 'REACHCODE_y', 'LENGTHKM_y',\n",
       "       'FCODE_y', 'RTNDIV', 'OUTDIV', 'DIVEFFECT', 'VPUIN', 'VPUOUT',\n",
       "       'AREASQKM', 'TOTDASQKM', 'DIVDASQKM', 'TIDAL', 'TOTMA', 'WBAREATYPE',\n",
       "       'PATHTIMEMA', 'index_right', 'OBJECTID', 'HUC_8', 'HUC_10', 'HUC_12',\n",
       "       'ACRES', 'NCONTRB_A', 'HU_10_GNIS', 'HU_12_GNIS', 'HU_10_NAME',\n",
       "       'HU_10_MOD', 'HU_10_TYPE', 'HU_12_DS', 'HU_12_NAME', 'HU_12_MOD',\n",
       "       'HU_12_TYPE', 'META_ID', 'STATES', 'GlobalID', 'SHAPE_Leng',\n",
       "       'SHAPE_Area', 'GAZ_ID'],\n",
       "      dtype='object')"
      ]
     },
     "execution_count": 24,
     "metadata": {},
     "output_type": "execute_result"
    }
   ],
   "source": [
    "final_dataset.columns"
   ]
  },
  {
   "cell_type": "code",
   "execution_count": 25,
   "metadata": {},
   "outputs": [
    {
     "data": {
      "text/plain": [
       "(count       138105\n",
       " unique          97\n",
       " top       10300102\n",
       " freq          5625\n",
       " Name: HUC_8, dtype: object,\n",
       " 0)"
      ]
     },
     "execution_count": 25,
     "metadata": {},
     "output_type": "execute_result"
    }
   ],
   "source": [
    "final_dataset['HUC_8'].describe() , final_dataset['HUC_8'].isnull().sum()"
   ]
  },
  {
   "cell_type": "markdown",
   "metadata": {},
   "source": [
    "#### we can see that we have 1885 columns that miss huc8, huc10 and huc 12 and these are the same rows which is not good, but the good sign is that it indicates that it is likely the rows we are missing are the buffered ones outside the state. so we take a look at it\n",
    "\n",
    "#### after changing the buffer size for state boundary for watersheds, now we have 0 missing values for hucs"
   ]
  },
  {
   "cell_type": "code",
   "execution_count": 26,
   "metadata": {},
   "outputs": [
    {
     "name": "stdout",
     "output_type": "stream",
     "text": [
      "0 0\n",
      "0\n"
     ]
    }
   ],
   "source": [
    "print(final_dataset['HUC_10'].isnull().sum(),final_dataset['HUC_12'].isnull().sum())\n",
    "print(len(final_dataset[(final_dataset['HUC_8'].isnull()) & (final_dataset['HUC_10'].isnull()) & (final_dataset['HUC_12'].isnull())]))"
   ]
  },
  {
   "cell_type": "code",
   "execution_count": 27,
   "metadata": {},
   "outputs": [],
   "source": [
    "noHucReaches=final_dataset[(final_dataset['HUC_8'].isnull()) & (final_dataset['HUC_10'].isnull()) & (final_dataset['HUC_12'].isnull())]"
   ]
  },
  {
   "cell_type": "code",
   "execution_count": 28,
   "metadata": {},
   "outputs": [
    {
     "data": {
      "text/plain": [
       "(0, 138105)"
      ]
     },
     "execution_count": 28,
     "metadata": {},
     "output_type": "execute_result"
    }
   ],
   "source": [
    "len(noHucReaches), len(final_dataset)"
   ]
  },
  {
   "cell_type": "code",
   "execution_count": 27,
   "metadata": {},
   "outputs": [
    {
     "name": "stderr",
     "output_type": "stream",
     "text": [
      "C:\\Users\\fsgg7\\.conda\\envs\\env\\lib\\site-packages\\pyogrio\\raw.py:709: RuntimeWarning: Field FDATE create as date field, though DateTime requested.\n",
      "  ogr_write(\n"
     ]
    }
   ],
   "source": [
    "merged_df.to_file(r'C:\\Users\\fsgg7\\Downloads\\NHDPlusMS\\merged_missouri_river_network.shp')"
   ]
  },
  {
   "cell_type": "code",
   "execution_count": 29,
   "metadata": {},
   "outputs": [
    {
     "name": "stdout",
     "output_type": "stream",
     "text": [
      "Index(['COMID', 'FDATE', 'RESOLUTION', 'GNIS_ID', 'GNIS_NAME', 'LENGTHKM',\n",
      "       'REACHCODE', 'FLOWDIR', 'WBAREACOMI', 'FTYPE', 'FCODE', 'SHAPE_LENG',\n",
      "       'ENABLED', 'GNIS_NBR', 'GEOMETRY'],\n",
      "      dtype='object')\n",
      "Index(['COMID', 'FDATE', 'STREAMLEVE', 'STREAMORDE', 'STREAMCALC', 'FROMNODE',\n",
      "       'TONODE', 'HYDROSEQ', 'LEVELPATHI', 'PATHLENGTH', 'TERMINALPA',\n",
      "       'ARBOLATESU', 'DIVERGENCE', 'STARTFLAG', 'TERMINALFL', 'DNLEVEL',\n",
      "       'THINNERCOD', 'UPLEVELPAT', 'UPHYDROSEQ', 'DNLEVELPAT', 'DNMINORHYD',\n",
      "       'DNDRAINCOU', 'DNHYDROSEQ', 'FROMMEAS', 'TOMEAS', 'REACHCODE',\n",
      "       'LENGTHKM', 'FCODE', 'RTNDIV', 'OUTDIV', 'DIVEFFECT', 'VPUIN', 'VPUOUT',\n",
      "       'AREASQKM', 'TOTDASQKM', 'DIVDASQKM', 'TIDAL', 'TOTMA', 'WBAREATYPE',\n",
      "       'PATHTIMEMA'],\n",
      "      dtype='object')\n"
     ]
    }
   ],
   "source": [
    "print(merged_df.columns)\n",
    "print(merged_atts.columns)"
   ]
  },
  {
   "cell_type": "code",
   "execution_count": 30,
   "metadata": {},
   "outputs": [
    {
     "data": {
      "text/plain": [
       "(count    1.397320e+05\n",
       " mean     1.112698e+07\n",
       " std      6.870546e+07\n",
       " min      3.971860e+05\n",
       " 25%      4.389854e+06\n",
       " 50%      5.802477e+06\n",
       " 75%      7.518060e+06\n",
       " max      9.410702e+08\n",
       " Name: COMID, dtype: float64,\n",
       " count    7.509020e+05\n",
       " mean     2.109706e+07\n",
       " std      9.196289e+07\n",
       " min      1.094400e+04\n",
       " 25%      5.797886e+06\n",
       " 50%      1.346400e+07\n",
       " 75%      1.879758e+07\n",
       " max      9.411402e+08\n",
       " Name: COMID, dtype: float64)"
      ]
     },
     "execution_count": 30,
     "metadata": {},
     "output_type": "execute_result"
    }
   ],
   "source": [
    "merged_df['COMID'].describe(), merged_atts['COMID'].describe()"
   ]
  },
  {
   "cell_type": "code",
   "execution_count": 31,
   "metadata": {},
   "outputs": [
    {
     "data": {
      "text/plain": [
       "COMID              0\n",
       "FDATE              0\n",
       "STREAMLEVE         0\n",
       "STREAMORDE         0\n",
       "STREAMCALC         0\n",
       "FROMNODE           0\n",
       "TONODE             0\n",
       "HYDROSEQ           0\n",
       "LEVELPATHI         0\n",
       "PATHLENGTH         0\n",
       "TERMINALPA         0\n",
       "ARBOLATESU         0\n",
       "DIVERGENCE         0\n",
       "STARTFLAG          0\n",
       "TERMINALFL         0\n",
       "DNLEVEL            0\n",
       "THINNERCOD         0\n",
       "UPLEVELPAT         0\n",
       "UPHYDROSEQ         0\n",
       "DNLEVELPAT         0\n",
       "DNMINORHYD         0\n",
       "DNDRAINCOU         0\n",
       "DNHYDROSEQ         0\n",
       "FROMMEAS           0\n",
       "TOMEAS             0\n",
       "REACHCODE          0\n",
       "LENGTHKM           0\n",
       "FCODE              0\n",
       "RTNDIV             0\n",
       "OUTDIV             0\n",
       "DIVEFFECT          0\n",
       "VPUIN              0\n",
       "VPUOUT             0\n",
       "AREASQKM           0\n",
       "TOTDASQKM          0\n",
       "DIVDASQKM          0\n",
       "TIDAL              0\n",
       "TOTMA              0\n",
       "WBAREATYPE    662829\n",
       "PATHTIMEMA         0\n",
       "dtype: int64"
      ]
     },
     "execution_count": 31,
     "metadata": {},
     "output_type": "execute_result"
    }
   ],
   "source": [
    "merged_atts.isnull().sum()"
   ]
  },
  {
   "cell_type": "markdown",
   "metadata": {},
   "source": [
    "### merged the merged_df with merged elevs and attributes to get the final dataset"
   ]
  },
  {
   "cell_type": "code",
   "execution_count": 32,
   "metadata": {},
   "outputs": [
    {
     "name": "stdout",
     "output_type": "stream",
     "text": [
      "134122 748458 139732\n"
     ]
    }
   ],
   "source": [
    "print(len(result), len(merged_elevs), len(merged_df))"
   ]
  },
  {
   "cell_type": "code",
   "execution_count": 33,
   "metadata": {},
   "outputs": [
    {
     "data": {
      "text/plain": [
       "(Index(['COMID', 'FDATE', 'MAXELEVRAW', 'MINELEVRAW', 'MAXELEVSMO',\n",
       "        'MINELEVSMO', 'SLOPE', 'ELEVFIXED', 'HWTYPE', 'STATUSFLAG',\n",
       "        'SLOPELENKM'],\n",
       "       dtype='object'),\n",
       " Index(['OBJECTID', 'HUC_8', 'HUC_10', 'HUC_12', 'ACRES', 'NCONTRB_A',\n",
       "        'HU_10_GNIS', 'HU_12_GNIS', 'HU_10_NAME', 'HU_10_MOD', 'HU_10_TYPE',\n",
       "        'HU_12_DS', 'HU_12_NAME', 'HU_12_MOD', 'HU_12_TYPE', 'META_ID',\n",
       "        'STATES', 'GlobalID', 'SHAPE_Leng', 'SHAPE_Area', 'GAZ_ID', 'geometry'],\n",
       "       dtype='object'))"
      ]
     },
     "execution_count": 33,
     "metadata": {},
     "output_type": "execute_result"
    }
   ],
   "source": [
    "merged_elevs.columns,merged_wdbs_filtered.columns"
   ]
  },
  {
   "cell_type": "code",
   "execution_count": 35,
   "metadata": {},
   "outputs": [
    {
     "name": "stdout",
     "output_type": "stream",
     "text": [
      "EPSG:4269 EPSG:4269\n"
     ]
    }
   ],
   "source": [
    "print(mo_boundary_bf.crs, merged_wdbs_filtered.crs)"
   ]
  },
  {
   "cell_type": "code",
   "execution_count": 36,
   "metadata": {},
   "outputs": [
    {
     "name": "stdout",
     "output_type": "stream",
     "text": [
      "138105\n"
     ]
    }
   ],
   "source": [
    "print(len(final_dataset))"
   ]
  },
  {
   "cell_type": "code",
   "execution_count": 38,
   "metadata": {},
   "outputs": [
    {
     "name": "stdout",
     "output_type": "stream",
     "text": [
      "Looking in indexes: https://pypi.org/simple, https://pypi.ngc.nvidia.com\n",
      "Requirement already satisfied: folium in c:\\users\\fsgg7\\.conda\\envs\\env\\lib\\site-packages (0.17.0)\n",
      "Requirement already satisfied: branca>=0.6.0 in c:\\users\\fsgg7\\.conda\\envs\\env\\lib\\site-packages (from folium) (0.7.2)\n",
      "Requirement already satisfied: jinja2>=2.9 in c:\\users\\fsgg7\\.conda\\envs\\env\\lib\\site-packages (from folium) (3.1.4)\n",
      "Requirement already satisfied: numpy in c:\\users\\fsgg7\\.conda\\envs\\env\\lib\\site-packages (from folium) (2.0.0)\n",
      "Requirement already satisfied: requests in c:\\users\\fsgg7\\.conda\\envs\\env\\lib\\site-packages (from folium) (2.32.3)\n",
      "Requirement already satisfied: xyzservices in c:\\users\\fsgg7\\.conda\\envs\\env\\lib\\site-packages (from folium) (2024.6.0)\n",
      "Requirement already satisfied: MarkupSafe>=2.0 in c:\\users\\fsgg7\\.conda\\envs\\env\\lib\\site-packages (from jinja2>=2.9->folium) (2.1.3)\n",
      "Requirement already satisfied: charset-normalizer<4,>=2 in c:\\users\\fsgg7\\.conda\\envs\\env\\lib\\site-packages (from requests->folium) (3.3.2)\n",
      "Requirement already satisfied: idna<4,>=2.5 in c:\\users\\fsgg7\\.conda\\envs\\env\\lib\\site-packages (from requests->folium) (3.7)\n",
      "Requirement already satisfied: urllib3<3,>=1.21.1 in c:\\users\\fsgg7\\.conda\\envs\\env\\lib\\site-packages (from requests->folium) (2.2.2)\n",
      "Requirement already satisfied: certifi>=2017.4.17 in c:\\users\\fsgg7\\.conda\\envs\\env\\lib\\site-packages (from requests->folium) (2024.7.4)\n"
     ]
    }
   ],
   "source": [
    "!pip install folium"
   ]
  },
  {
   "cell_type": "code",
   "execution_count": null,
   "metadata": {
    "scrolled": true
   },
   "outputs": [],
   "source": [
    "import folium\n",
    "from shapely.geometry import Point\n",
    "#print(\" before converting\",nlower_int.crs)\n",
    "#print(\" before converting\",nupper_int.crs)\n",
    "def convert_timestamp(df):\n",
    "    for col in df:\n",
    "        if df[col].dtype=='<M8[ms]':\n",
    "            df[col]=df[col].astype(str)\n",
    "    return df\n",
    "convert_timestamp(final_dataset)\n",
    "finaall_dataset=final_dataset.set_geometry('GEOMETRY')\n",
    "#nlower_int=nlower_int.to_crs(epsg=4326)\n",
    "#nupper_int=nupper_int.to_crs(epsg=4326)\n",
    "#merged.to_file(r\"C:\\Users\\fsgg7\\Downloads\\esri\\merged.geojson\", driver=\"GeoJSON\")\n",
    "#print(\"invalid geometries\", nlower_int[~nlower_int.is_valid], nupper_int[~nupper_int.is_valid])\n",
    "gdjson1=final_dataset.to_json()\n",
    "map_center=[final_dataset.geometry.union_all().centroid.y, final_dataset.geometry.union_all().centroid.x]\n",
    "folium_map=folium.Map(location=map_center, zoom_start=5)\n",
    "folium.GeoJson(gdjson1, name=\"gd1\").add_to(folium_map)\n",
    "folium.LayerControl().add_to(folium_map)\n",
    "folium_map.save(r\"C:\\Users\\fsgg7\\Downloads\\allStreamsMap.html\")\n",
    "folium_map"
   ]
  },
  {
   "cell_type": "code",
   "execution_count": 41,
   "metadata": {},
   "outputs": [
    {
     "data": {
      "text/plain": [
       "Index(['COMID', 'FDATE_x', 'RESOLUTION', 'GNIS_ID', 'GNIS_NAME', 'LENGTHKM_x',\n",
       "       'REACHCODE_x', 'FLOWDIR', 'WBAREACOMI', 'FTYPE', 'FCODE_x',\n",
       "       'SHAPE_LENG', 'ENABLED', 'GNIS_NBR', 'GEOMETRY', 'FDATE_y',\n",
       "       'MAXELEVRAW', 'MINELEVRAW', 'MAXELEVSMO', 'MINELEVSMO', 'SLOPE',\n",
       "       'ELEVFIXED', 'HWTYPE', 'STATUSFLAG', 'SLOPELENKM', 'FDATE',\n",
       "       'STREAMLEVE', 'STREAMORDE', 'STREAMCALC', 'FROMNODE', 'TONODE',\n",
       "       'HYDROSEQ', 'LEVELPATHI', 'PATHLENGTH', 'TERMINALPA', 'ARBOLATESU',\n",
       "       'DIVERGENCE', 'STARTFLAG', 'TERMINALFL', 'DNLEVEL', 'THINNERCOD',\n",
       "       'UPLEVELPAT', 'UPHYDROSEQ', 'DNLEVELPAT', 'DNMINORHYD', 'DNDRAINCOU',\n",
       "       'DNHYDROSEQ', 'FROMMEAS', 'TOMEAS', 'REACHCODE_y', 'LENGTHKM_y',\n",
       "       'FCODE_y', 'RTNDIV', 'OUTDIV', 'DIVEFFECT', 'VPUIN', 'VPUOUT',\n",
       "       'AREASQKM', 'TOTDASQKM', 'DIVDASQKM', 'TIDAL', 'TOTMA', 'WBAREATYPE',\n",
       "       'PATHTIMEMA', 'index_right', 'OBJECTID', 'HUC_8', 'HUC_10', 'HUC_12',\n",
       "       'ACRES', 'NCONTRB_A', 'HU_10_GNIS', 'HU_12_GNIS', 'HU_10_NAME',\n",
       "       'HU_10_MOD', 'HU_10_TYPE', 'HU_12_DS', 'HU_12_NAME', 'HU_12_MOD',\n",
       "       'HU_12_TYPE', 'META_ID', 'STATES', 'GlobalID', 'SHAPE_Leng',\n",
       "       'SHAPE_Area', 'GAZ_ID'],\n",
       "      dtype='object')"
      ]
     },
     "execution_count": 41,
     "metadata": {},
     "output_type": "execute_result"
    }
   ],
   "source": [
    "final_dataset.columns"
   ]
  },
  {
   "cell_type": "markdown",
   "metadata": {},
   "source": [
    "#### after merging different databases, are there any mutual columns where the values are not matching? we can see that there is no such case"
   ]
  },
  {
   "cell_type": "code",
   "execution_count": 42,
   "metadata": {},
   "outputs": [
    {
     "name": "stdout",
     "output_type": "stream",
     "text": [
      "0\n",
      "0\n",
      "0\n",
      "0\n"
     ]
    }
   ],
   "source": [
    "print(len(final_dataset[final_dataset['FDATE_x']!= final_dataset['FDATE_y']]))\n",
    "print(len(final_dataset[final_dataset['REACHCODE_x']!= final_dataset['REACHCODE_y']]))\n",
    "print(len(final_dataset[final_dataset['LENGTHKM_x']!= final_dataset['LENGTHKM_y']]))\n",
    "print(len(final_dataset[final_dataset['FCODE_x']!= final_dataset['FCODE_y']]))"
   ]
  },
  {
   "cell_type": "code",
   "execution_count": 43,
   "metadata": {},
   "outputs": [],
   "source": [
    "final_dataset=final_dataset.drop(columns=['FDATE_y','REACHCODE_y','LENGTHKM_y', 'FCODE_y'])"
   ]
  },
  {
   "cell_type": "code",
   "execution_count": 44,
   "metadata": {},
   "outputs": [],
   "source": [
    "final_dataset=final_dataset.rename(columns={'FDATE_x':'FDATE','REACHCODE_x':'REACHCODE','LENGTHKM_x':'LENGTHKM', 'FCODE_x':'FCODE'})"
   ]
  },
  {
   "cell_type": "code",
   "execution_count": 45,
   "metadata": {},
   "outputs": [
    {
     "data": {
      "text/plain": [
       "Index(['COMID', 'FDATE', 'RESOLUTION', 'GNIS_ID', 'GNIS_NAME', 'LENGTHKM',\n",
       "       'REACHCODE', 'FLOWDIR', 'WBAREACOMI', 'FTYPE', 'FCODE', 'SHAPE_LENG',\n",
       "       'ENABLED', 'GNIS_NBR', 'GEOMETRY', 'MAXELEVRAW', 'MINELEVRAW',\n",
       "       'MAXELEVSMO', 'MINELEVSMO', 'SLOPE', 'ELEVFIXED', 'HWTYPE',\n",
       "       'STATUSFLAG', 'SLOPELENKM', 'FDATE', 'STREAMLEVE', 'STREAMORDE',\n",
       "       'STREAMCALC', 'FROMNODE', 'TONODE', 'HYDROSEQ', 'LEVELPATHI',\n",
       "       'PATHLENGTH', 'TERMINALPA', 'ARBOLATESU', 'DIVERGENCE', 'STARTFLAG',\n",
       "       'TERMINALFL', 'DNLEVEL', 'THINNERCOD', 'UPLEVELPAT', 'UPHYDROSEQ',\n",
       "       'DNLEVELPAT', 'DNMINORHYD', 'DNDRAINCOU', 'DNHYDROSEQ', 'FROMMEAS',\n",
       "       'TOMEAS', 'RTNDIV', 'OUTDIV', 'DIVEFFECT', 'VPUIN', 'VPUOUT',\n",
       "       'AREASQKM', 'TOTDASQKM', 'DIVDASQKM', 'TIDAL', 'TOTMA', 'WBAREATYPE',\n",
       "       'PATHTIMEMA', 'index_right', 'OBJECTID', 'HUC_8', 'HUC_10', 'HUC_12',\n",
       "       'ACRES', 'NCONTRB_A', 'HU_10_GNIS', 'HU_12_GNIS', 'HU_10_NAME',\n",
       "       'HU_10_MOD', 'HU_10_TYPE', 'HU_12_DS', 'HU_12_NAME', 'HU_12_MOD',\n",
       "       'HU_12_TYPE', 'META_ID', 'STATES', 'GlobalID', 'SHAPE_Leng',\n",
       "       'SHAPE_Area', 'GAZ_ID'],\n",
       "      dtype='object')"
      ]
     },
     "execution_count": 45,
     "metadata": {},
     "output_type": "execute_result"
    }
   ],
   "source": [
    "final_dataset.columns"
   ]
  },
  {
   "cell_type": "code",
   "execution_count": 46,
   "metadata": {},
   "outputs": [
    {
     "name": "stdout",
     "output_type": "stream",
     "text": [
      "the duplicated columns: Index(['FDATE'], dtype='object')\n"
     ]
    }
   ],
   "source": [
    "def check_duplicate_column(df):\n",
    "    columns=df.columns\n",
    "    duplicates= columns[columns.duplicated()].unique()\n",
    "    return duplicates\n",
    "\n",
    "duplicate_columns=check_duplicate_column(final_dataset)\n",
    "\n",
    "if duplicate_columns.size >0 :\n",
    "    print(\"the duplicated columns:\", duplicate_columns)\n",
    "else:\n",
    "    print(\"nothing found\")\n",
    "#check_duplicate_column(finaal_dataset)"
   ]
  },
  {
   "cell_type": "code",
   "execution_count": 47,
   "metadata": {},
   "outputs": [],
   "source": [
    "final_dataset=final_dataset.drop(columns=['FDATE'])"
   ]
  },
  {
   "cell_type": "code",
   "execution_count": 48,
   "metadata": {},
   "outputs": [
    {
     "data": {
      "text/plain": [
       "(1,\n",
       " With Digitized    138105\n",
       " Name: FLOWDIR, dtype: int64)"
      ]
     },
     "execution_count": 48,
     "metadata": {},
     "output_type": "execute_result"
    }
   ],
   "source": [
    "final_dataset['FLOWDIR'].nunique(),final_dataset['FLOWDIR'].value_counts()\n"
   ]
  },
  {
   "cell_type": "code",
   "execution_count": 49,
   "metadata": {},
   "outputs": [
    {
     "data": {
      "text/plain": [
       "False"
      ]
     },
     "execution_count": 49,
     "metadata": {},
     "output_type": "execute_result"
    }
   ],
   "source": [
    "final_dataset['FLOWDIR'].nunique()==len(final_dataset)"
   ]
  },
  {
   "cell_type": "code",
   "execution_count": 50,
   "metadata": {},
   "outputs": [
    {
     "data": {
      "text/plain": [
       "Index(['COMID', 'RESOLUTION', 'GNIS_ID', 'GNIS_NAME', 'LENGTHKM', 'REACHCODE',\n",
       "       'FLOWDIR', 'WBAREACOMI', 'FTYPE', 'FCODE', 'SHAPE_LENG', 'ENABLED',\n",
       "       'GNIS_NBR', 'GEOMETRY', 'MAXELEVRAW', 'MINELEVRAW', 'MAXELEVSMO',\n",
       "       'MINELEVSMO', 'SLOPE', 'ELEVFIXED', 'HWTYPE', 'STATUSFLAG',\n",
       "       'SLOPELENKM', 'STREAMLEVE', 'STREAMORDE', 'STREAMCALC', 'FROMNODE',\n",
       "       'TONODE', 'HYDROSEQ', 'LEVELPATHI', 'PATHLENGTH', 'TERMINALPA',\n",
       "       'ARBOLATESU', 'DIVERGENCE', 'STARTFLAG', 'TERMINALFL', 'DNLEVEL',\n",
       "       'THINNERCOD', 'UPLEVELPAT', 'UPHYDROSEQ', 'DNLEVELPAT', 'DNMINORHYD',\n",
       "       'DNDRAINCOU', 'DNHYDROSEQ', 'FROMMEAS', 'TOMEAS', 'RTNDIV', 'OUTDIV',\n",
       "       'DIVEFFECT', 'VPUIN', 'VPUOUT', 'AREASQKM', 'TOTDASQKM', 'DIVDASQKM',\n",
       "       'TIDAL', 'TOTMA', 'WBAREATYPE', 'PATHTIMEMA', 'index_right', 'OBJECTID',\n",
       "       'HUC_8', 'HUC_10', 'HUC_12', 'ACRES', 'NCONTRB_A', 'HU_10_GNIS',\n",
       "       'HU_12_GNIS', 'HU_10_NAME', 'HU_10_MOD', 'HU_10_TYPE', 'HU_12_DS',\n",
       "       'HU_12_NAME', 'HU_12_MOD', 'HU_12_TYPE', 'META_ID', 'STATES',\n",
       "       'GlobalID', 'SHAPE_Leng', 'SHAPE_Area', 'GAZ_ID'],\n",
       "      dtype='object')"
      ]
     },
     "execution_count": 50,
     "metadata": {},
     "output_type": "execute_result"
    }
   ],
   "source": [
    "final_dataset.columns"
   ]
  },
  {
   "cell_type": "code",
   "execution_count": 51,
   "metadata": {},
   "outputs": [],
   "source": [
    "\n",
    "columnss=['COMID', 'RESOLUTION','FROMNODE','TONODE', 'GNIS_ID', 'GNIS_NAME', 'LENGTHKM',\n",
    "       'REACHCODE', 'FLOWDIR', 'WBAREACOMI', 'FTYPE', 'FCODE', 'SHAPE_LENG',\n",
    "       'ENABLED', 'GNIS_NBR', 'GEOMETRY','ARBOLATESU','AREASQKM','TOTDASQKM','HUC_8','HUC_10','HUC_12','MAXELEVSMO',\n",
    "       'MINELEVSMO', 'SLOPE','SHAPE_Area']\n",
    "\n",
    "finaal_dataset=final_dataset[columnss]\n",
    "#finaal_dataset.to_file(r\"C:\\Users\\fsgg7\\Downloads\\NHDPlusMS\\finalMOshapefile.shp\")"
   ]
  },
  {
   "cell_type": "markdown",
   "metadata": {},
   "source": [
    "### generating our cumulative values using graphs"
   ]
  },
  {
   "cell_type": "code",
   "execution_count": 52,
   "metadata": {},
   "outputs": [],
   "source": [
    "import pandas as pd\n",
    "import networkx as nx\n",
    "\n",
    "def graphGenerator(df):\n",
    "\n",
    "  # Initialize the graph\n",
    "  G = nx.DiGraph()\n",
    "\n",
    "  # Add edges to the graph with LENGTHKM as weight\n",
    "  for _, row in df.iterrows():\n",
    "      #G.add_edge(row['TONODE'], row['FROMNODE'], weight=row['LENGTHKM'], comid=row['COMID'])\n",
    "      G.add_edge(row['FROMNODE'], row['TONODE'], weight=row['LENGTHKM'],maxEl=row['MAXELEVSMO'],\\\n",
    "                  minEl=row['MINELEVSMO'],slope=row['SLOPE'],area=row[\"AREASQKM\"],  comid=row['COMID'])\n",
    "\n",
    "  # Dictionary for memoization\n",
    "  distance_memo = {}\n",
    "  upstream_path_memo = {}\n",
    "  upstream_result_memo = {} # Initialize result_memo here\n",
    "  visited = set()\n",
    "\n",
    "\n",
    "  def longest_path_func(G, node):\n",
    "      if node in distance_memo:\n",
    "          return distance_memo[node], upstream_path_memo[node], upstream_result_memo[node]\n",
    "\n",
    "      max_upstream_length = 0\n",
    "      upstream_longest_path = [node]\n",
    "      upstream_result = {'MinElev':[], 'MaxElev':[], 'Slope':[], 'Area':0, 'cumElev':0, 'cumSlope':0} # Initialize result here\n",
    "      #for cumulative raw value use\n",
    "      #result = {'MinElev':0, 'MaxElev':0, 'Slope':0} # Initialize result here\n",
    "      # Get all incoming edges (upstream connections)\n",
    "      incoming_edges = G.in_edges(node, data=True)\n",
    "\n",
    "      for u, v, data in incoming_edges:\n",
    "        if u not in visited:\n",
    "          visited.add(u)\n",
    "          upstream_sub_length, upstream_sub_path,upstream_sub_result = longest_path_func(G, u)\n",
    "          current_upstream_length = upstream_sub_length + data['weight']\n",
    "\n",
    "          # Use sub_result to update current_result\n",
    "          '''current_result={}\n",
    "          current_result['MinElev'] = sub_result['MinElev'] + data['minEl']\n",
    "          current_result['MaxElev']= sub_result['MaxElev'] + data['maxEl']\n",
    "          current_result['Slope']=sub_result['Slope']+data['slope']'''\n",
    "\n",
    "\n",
    "          current_upstream_result={'MinElev': upstream_sub_result['MinElev'] + [data['minEl']],\n",
    "                          'MaxElev': upstream_sub_result['MaxElev'] + [data['maxEl']],\n",
    "                          \n",
    "                          'Slope': upstream_sub_result['Slope'] + [data['slope']],\n",
    "                          'Area': upstream_sub_result['Area'] + data['area'],\n",
    "                          'cumElev':upstream_sub_result['cumElev']+((data['maxEl']+data['minEl'])/2),\n",
    "                          'cumSlope':upstream_sub_result['cumSlope']+data['slope']\n",
    "                         }\n",
    "\n",
    "\n",
    "          if current_upstream_length > max_upstream_length:\n",
    "              max_upstream_length = current_upstream_length\n",
    "              upstream_longest_path = upstream_sub_path + [node]\n",
    "              upstream_result = current_upstream_result\n",
    "\n",
    "          visited.remove(u)\n",
    "      distance_memo[node] = max_upstream_length\n",
    "      upstream_path_memo[node] = upstream_longest_path\n",
    "      upstream_result_memo[node] = upstream_result # Update result_memo here\n",
    "      return max_upstream_length, upstream_longest_path, upstream_result\n",
    "\n",
    "\n",
    "  df['cumDistance'] = df.apply(lambda row: longest_path_func(G,row['TONODE'])[0], axis=1)\n",
    "  df['cumMinElev']=df.apply(lambda row: longest_path_func(G,row['TONODE'])[2]['MinElev'], axis=1)\n",
    "  df['cumMaxElev']=df.apply(lambda row: longest_path_func(G,row['TONODE'])[2]['MaxElev'], axis=1)\n",
    "  df['cumSlope']=df.apply(lambda row: longest_path_func(G,row['TONODE'])[2]['Slope'], axis=1)\n",
    "  df['cumAveElev']=df.apply(lambda row: [(i+j)/2 for i,j in zip(row['cumMinElev'],row['cumMaxElev'])], axis=1)\n",
    "\n",
    " \n",
    "  df['HydroConn']=df.apply(lambda row: longest_path_func(G,row['TONODE'])[1][0],axis=1)\n",
    "  df['cumArea'] = df.apply(lambda row: longest_path_func(G,row['TONODE'])[2]['Area'], axis=1)\n",
    "  df['cumElev'] = df.apply(lambda row: longest_path_func(G,row['TONODE'])[2]['cumElev'], axis=1)\n",
    "  df['cumSlope'] = df.apply(lambda row: longest_path_func(G,row['TONODE'])[2]['cumSlope'], axis=1)"
   ]
  },
  {
   "cell_type": "code",
   "execution_count": 53,
   "metadata": {},
   "outputs": [
    {
     "name": "stdout",
     "output_type": "stream",
     "text": [
      "passed all the test cases successfully\n"
     ]
    }
   ],
   "source": [
    "#Creating a small dataset for test, assigning and calculating values manually\n",
    "testcase_dataset= {\n",
    "    'COMID': [1001, 1002, 1003, 1004, 1005],\n",
    "    'UPLEVELPAT': [1001, 1001, 1001, 1004, 1004],\n",
    "    'FROMNODE': [0, 1, 1, 3, 4],\n",
    "    'TONODE': [1, 2, 4, 4, 5],\n",
    "    \"AREASQKM\": [100,90,220,250,600],\n",
    "    'MINELEVSMO': [200, 150, 220, 170, 160],\n",
    "    'MAXELEVSMO': [300, 250, 320, 270, 260],\n",
    "    'SLOPE': [10, 15, 12, 11, 14],\n",
    "    'LENGTHKM': [5, 3, 2, 4, 1],\n",
    "    'realcumulativeDistance':[5,8,7,7,8],\n",
    "    'realcumulativeminEl': [200, 350, 420, 420, 580],\n",
    "    'realcumulativemaxEl':[300,550,620,620,880]\n",
    "}\n",
    "test_data = pd.DataFrame(testcase_dataset)\n",
    "graphGenerator(test_data)\n",
    "def check_test_cases(realCol,resCol):\n",
    "  for row1 in realCol:\n",
    "    for row2 in resCol:\n",
    "      if row1!=row2:\n",
    "        return False\n",
    "  return True\n",
    "results=[]\n",
    "result1=check_test_cases(test_data['realcumulativeminEl'],test_data['cumMinElev'])\n",
    "result2=check_test_cases(test_data['realcumulativemaxEl'],test_data['cumMaxElev'])\n",
    "result3=check_test_cases(test_data['realcumulativeDistance'],test_data['cumDistance'])\n",
    "if all(results):\n",
    "  print(\"passed all the test cases successfully\")\n",
    "\n",
    "else:\n",
    "  print(\"test case results are not compatible with real results\")"
   ]
  },
  {
   "cell_type": "code",
   "execution_count": 54,
   "metadata": {},
   "outputs": [],
   "source": [
    "#graphGenerator(finaal_dataset)\n",
    "graphGenerator(final_dataset)"
   ]
  },
  {
   "cell_type": "code",
   "execution_count": 55,
   "metadata": {},
   "outputs": [
    {
     "data": {
      "text/plain": [
       "88"
      ]
     },
     "execution_count": 55,
     "metadata": {},
     "output_type": "execute_result"
    }
   ],
   "source": [
    "len(final_dataset.columns)"
   ]
  },
  {
   "cell_type": "code",
   "execution_count": 56,
   "metadata": {},
   "outputs": [
    {
     "data": {
      "text/plain": [
       "19278"
      ]
     },
     "execution_count": 56,
     "metadata": {},
     "output_type": "execute_result"
    }
   ],
   "source": [
    "final_dataset['HydroConn'].nunique()"
   ]
  },
  {
   "cell_type": "code",
   "execution_count": 57,
   "metadata": {},
   "outputs": [
    {
     "data": {
      "text/plain": [
       "(count    1.381050e+05\n",
       " mean     9.064680e+03\n",
       " std      9.043310e+04\n",
       " min      8.000000e-03\n",
       " 25%      2.270000e+00\n",
       " 50%      5.502000e+00\n",
       " 75%      4.113100e+01\n",
       " max      1.707886e+06\n",
       " Name: ARBOLATESU, dtype: float64,\n",
       " count    138105.000000\n",
       " mean         41.261444\n",
       " std         109.511299\n",
       " min           0.006000\n",
       " 25%           3.548000\n",
       " 50%           8.523000\n",
       " 75%          29.274000\n",
       " max        1574.591000\n",
       " Name: cumDistance, dtype: float64,\n",
       " count    138105.000000\n",
       " mean          1.750095\n",
       " std           1.480541\n",
       " min           0.001000\n",
       " 25%           0.647000\n",
       " 50%           1.585000\n",
       " 75%           2.378000\n",
       " max          40.725000\n",
       " Name: LENGTHKM, dtype: float64)"
      ]
     },
     "execution_count": 57,
     "metadata": {},
     "output_type": "execute_result"
    }
   ],
   "source": [
    "final_dataset['ARBOLATESU'].describe(), final_dataset['cumDistance'].describe(),final_dataset['LENGTHKM'].describe()"
   ]
  },
  {
   "cell_type": "code",
   "execution_count": 58,
   "metadata": {},
   "outputs": [],
   "source": [
    "final_dataset.drop(columns=['GEOMETRY']).to_csv(r\"C:\\Users\\fsgg7\\Downloads\\NHDPlusMS\\comprehensiveMOFeaturedataset.csv\")\n",
    "final_dataset.drop(columns=['GEOMETRY']).to_excel(r\"C:\\Users\\fsgg7\\Downloads\\NHDPlusMS\\comprehensiveMOFeaturedataset.xlsx\")"
   ]
  },
  {
   "cell_type": "code",
   "execution_count": 59,
   "metadata": {},
   "outputs": [
    {
     "data": {
      "text/plain": [
       "Index(['COMID', 'RESOLUTION', 'GNIS_ID', 'GNIS_NAME', 'LENGTHKM', 'REACHCODE',\n",
       "       'FLOWDIR', 'WBAREACOMI', 'FTYPE', 'FCODE', 'SHAPE_LENG', 'ENABLED',\n",
       "       'GNIS_NBR', 'GEOMETRY', 'MAXELEVRAW', 'MINELEVRAW', 'MAXELEVSMO',\n",
       "       'MINELEVSMO', 'SLOPE', 'ELEVFIXED', 'HWTYPE', 'STATUSFLAG',\n",
       "       'SLOPELENKM', 'STREAMLEVE', 'STREAMORDE', 'STREAMCALC', 'FROMNODE',\n",
       "       'TONODE', 'HYDROSEQ', 'LEVELPATHI', 'PATHLENGTH', 'TERMINALPA',\n",
       "       'ARBOLATESU', 'DIVERGENCE', 'STARTFLAG', 'TERMINALFL', 'DNLEVEL',\n",
       "       'THINNERCOD', 'UPLEVELPAT', 'UPHYDROSEQ', 'DNLEVELPAT', 'DNMINORHYD',\n",
       "       'DNDRAINCOU', 'DNHYDROSEQ', 'FROMMEAS', 'TOMEAS', 'RTNDIV', 'OUTDIV',\n",
       "       'DIVEFFECT', 'VPUIN', 'VPUOUT', 'AREASQKM', 'TOTDASQKM', 'DIVDASQKM',\n",
       "       'TIDAL', 'TOTMA', 'WBAREATYPE', 'PATHTIMEMA', 'index_right', 'OBJECTID',\n",
       "       'HUC_8', 'HUC_10', 'HUC_12', 'ACRES', 'NCONTRB_A', 'HU_10_GNIS',\n",
       "       'HU_12_GNIS', 'HU_10_NAME', 'HU_10_MOD', 'HU_10_TYPE', 'HU_12_DS',\n",
       "       'HU_12_NAME', 'HU_12_MOD', 'HU_12_TYPE', 'META_ID', 'STATES',\n",
       "       'GlobalID', 'SHAPE_Leng', 'SHAPE_Area', 'GAZ_ID', 'cumDistance',\n",
       "       'cumMinElev', 'cumMaxElev', 'cumSlope', 'cumAveElev', 'HydroConn',\n",
       "       'cumArea', 'cumElev'],\n",
       "      dtype='object')"
      ]
     },
     "execution_count": 59,
     "metadata": {},
     "output_type": "execute_result"
    }
   ],
   "source": [
    "final_dataset.columns"
   ]
  },
  {
   "cell_type": "code",
   "execution_count": 60,
   "metadata": {},
   "outputs": [],
   "source": [
    "final_dataset.drop(columns=['RESOLUTION', 'GNIS_ID', 'GNIS_NAME','REACHCODE','FLOWDIR','WBAREACOMI','FTYPE', 'FCODE','SHAPE_LENG', 'ENABLED', 'GNIS_NBR','MAXELEVRAW', 'MINELEVRAW'\\\n",
    "                            ,'ELEVFIXED', 'HWTYPE', 'STATUSFLAG','STREAMLEVE','STREAMCALC', 'FROMNODE',\n",
    "       'TONODE', 'HYDROSEQ','STARTFLAG', 'TERMINALFL', 'DNLEVEL',\n",
    "       'THINNERCOD','UPHYDROSEQ','DNMINORHYD',\n",
    "       'DNDRAINCOU', 'DNHYDROSEQ', 'FROMMEAS', 'TOMEAS', 'RTNDIV', 'OUTDIV',\n",
    "       'DIVEFFECT', 'VPUIN', 'VPUOUT','TIDAL', 'TOTMA', 'WBAREATYPE', 'PATHTIMEMA', 'index_right', 'OBJECTID', 'ACRES', 'NCONTRB_A', 'HU_10_GNIS',\n",
    "       'HU_12_GNIS', 'HU_10_NAME', 'HU_10_MOD', 'HU_10_TYPE', 'HU_12_DS',\n",
    "       'HU_12_NAME', 'HU_12_MOD', 'HU_12_TYPE', 'META_ID', 'STATES',\n",
    "       'GlobalID', 'SHAPE_Leng', 'SHAPE_Area', 'GAZ_ID', ], inplace=True)"
   ]
  },
  {
   "cell_type": "code",
   "execution_count": 61,
   "metadata": {},
   "outputs": [
    {
     "data": {
      "text/plain": [
       "(Index(['COMID', 'LENGTHKM', 'GEOMETRY', 'MAXELEVSMO', 'MINELEVSMO', 'SLOPE',\n",
       "        'SLOPELENKM', 'STREAMORDE', 'LEVELPATHI', 'PATHLENGTH', 'TERMINALPA',\n",
       "        'ARBOLATESU', 'DIVERGENCE', 'UPLEVELPAT', 'DNLEVELPAT', 'AREASQKM',\n",
       "        'TOTDASQKM', 'DIVDASQKM', 'HUC_8', 'HUC_10', 'HUC_12', 'cumDistance',\n",
       "        'cumMinElev', 'cumMaxElev', 'cumSlope', 'cumAveElev', 'HydroConn',\n",
       "        'cumArea', 'cumElev'],\n",
       "       dtype='object'),\n",
       " 29)"
      ]
     },
     "execution_count": 61,
     "metadata": {},
     "output_type": "execute_result"
    }
   ],
   "source": [
    "final_dataset.columns, len(final_dataset.columns)"
   ]
  },
  {
   "cell_type": "code",
   "execution_count": 63,
   "metadata": {},
   "outputs": [],
   "source": [
    "bridges=pd.read_excel(\"C:/Users/fsgg7/Downloads/State System NBI Data File Dump March 2024.xlsx\")"
   ]
  },
  {
   "cell_type": "code",
   "execution_count": 64,
   "metadata": {},
   "outputs": [
    {
     "data": {
      "text/html": [
       "<div>\n",
       "<style scoped>\n",
       "    .dataframe tbody tr th:only-of-type {\n",
       "        vertical-align: middle;\n",
       "    }\n",
       "\n",
       "    .dataframe tbody tr th {\n",
       "        vertical-align: top;\n",
       "    }\n",
       "\n",
       "    .dataframe thead th {\n",
       "        text-align: right;\n",
       "    }\n",
       "</style>\n",
       "<table border=\"1\" class=\"dataframe\">\n",
       "  <thead>\n",
       "    <tr style=\"text-align: right;\">\n",
       "      <th></th>\n",
       "      <th>Class</th>\n",
       "      <th>Structure NBI Submittal ID</th>\n",
       "      <th>Submittal Date</th>\n",
       "      <th>Fed ID</th>\n",
       "      <th>Structure Design #</th>\n",
       "      <th>Type</th>\n",
       "      <th>State FIPS</th>\n",
       "      <th>FWHA Region</th>\n",
       "      <th>District</th>\n",
       "      <th>County</th>\n",
       "      <th>...</th>\n",
       "      <th>Square FT</th>\n",
       "      <th>Major Route</th>\n",
       "      <th>Latitude Decimal Degree</th>\n",
       "      <th>Longitude Decimal Degree</th>\n",
       "      <th>Sufficiency</th>\n",
       "      <th>Deficiency</th>\n",
       "      <th>Federal Aid Route</th>\n",
       "      <th>Major Bridge</th>\n",
       "      <th>State System Class</th>\n",
       "      <th>Good, Fair, or Poor</th>\n",
       "    </tr>\n",
       "  </thead>\n",
       "  <tbody>\n",
       "    <tr>\n",
       "      <th>0</th>\n",
       "      <td>STBR</td>\n",
       "      <td>2993484</td>\n",
       "      <td>2024-03-07</td>\n",
       "      <td>1</td>\n",
       "      <td>A0001</td>\n",
       "      <td>A0002</td>\n",
       "      <td>A0003</td>\n",
       "      <td>A0004</td>\n",
       "      <td>A0005</td>\n",
       "      <td>A0006</td>\n",
       "      <td>...</td>\n",
       "      <td>18870.166667</td>\n",
       "      <td>Y</td>\n",
       "      <td>39.777008</td>\n",
       "      <td>-94.793636</td>\n",
       "      <td>83.1</td>\n",
       "      <td>NOT DEF</td>\n",
       "      <td>FA</td>\n",
       "      <td>N</td>\n",
       "      <td>PRIMARY</td>\n",
       "      <td>FAIR</td>\n",
       "    </tr>\n",
       "    <tr>\n",
       "      <th>1</th>\n",
       "      <td>STBR</td>\n",
       "      <td>3008274</td>\n",
       "      <td>2024-03-07</td>\n",
       "      <td>2213</td>\n",
       "      <td>A2557</td>\n",
       "      <td>P</td>\n",
       "      <td>29</td>\n",
       "      <td>7</td>\n",
       "      <td>7</td>\n",
       "      <td>OREGON</td>\n",
       "      <td>...</td>\n",
       "      <td>3989.400000</td>\n",
       "      <td>N</td>\n",
       "      <td>36.689675</td>\n",
       "      <td>-91.394836</td>\n",
       "      <td>89.2</td>\n",
       "      <td>NOT DEF</td>\n",
       "      <td>FA</td>\n",
       "      <td>N</td>\n",
       "      <td>PRIMARY</td>\n",
       "      <td>FAIR</td>\n",
       "    </tr>\n",
       "    <tr>\n",
       "      <th>2</th>\n",
       "      <td>STBR</td>\n",
       "      <td>3003160</td>\n",
       "      <td>2024-03-07</td>\n",
       "      <td>1679</td>\n",
       "      <td>A1995</td>\n",
       "      <td>P</td>\n",
       "      <td>29</td>\n",
       "      <td>7</td>\n",
       "      <td>6</td>\n",
       "      <td>BATES</td>\n",
       "      <td>...</td>\n",
       "      <td>15205.266667</td>\n",
       "      <td>Y</td>\n",
       "      <td>38.240800</td>\n",
       "      <td>-94.352667</td>\n",
       "      <td>94.4</td>\n",
       "      <td>NOT DEF</td>\n",
       "      <td>FA</td>\n",
       "      <td>N</td>\n",
       "      <td>INTERSTATE</td>\n",
       "      <td>GOOD</td>\n",
       "    </tr>\n",
       "    <tr>\n",
       "      <th>3</th>\n",
       "      <td>STCUL</td>\n",
       "      <td>2993846</td>\n",
       "      <td>2024-03-07</td>\n",
       "      <td>1683</td>\n",
       "      <td>A1999</td>\n",
       "      <td>P</td>\n",
       "      <td>29</td>\n",
       "      <td>7</td>\n",
       "      <td>1</td>\n",
       "      <td>HOLT</td>\n",
       "      <td>...</td>\n",
       "      <td>740.000000</td>\n",
       "      <td>N</td>\n",
       "      <td>39.903044</td>\n",
       "      <td>-95.082786</td>\n",
       "      <td>99.8</td>\n",
       "      <td>NOT DEF</td>\n",
       "      <td>FA</td>\n",
       "      <td>N</td>\n",
       "      <td>SUPPLEMENTARY</td>\n",
       "      <td>GOOD</td>\n",
       "    </tr>\n",
       "    <tr>\n",
       "      <th>4</th>\n",
       "      <td>STBR</td>\n",
       "      <td>3008078</td>\n",
       "      <td>2024-03-07</td>\n",
       "      <td>1682</td>\n",
       "      <td>A1998</td>\n",
       "      <td>P</td>\n",
       "      <td>29</td>\n",
       "      <td>7</td>\n",
       "      <td>7</td>\n",
       "      <td>TEXAS</td>\n",
       "      <td>...</td>\n",
       "      <td>3046.650000</td>\n",
       "      <td>N</td>\n",
       "      <td>37.176958</td>\n",
       "      <td>-91.726222</td>\n",
       "      <td>89.5</td>\n",
       "      <td>NOT DEF</td>\n",
       "      <td>NFA</td>\n",
       "      <td>N</td>\n",
       "      <td>SUPPLEMENTARY</td>\n",
       "      <td>FAIR</td>\n",
       "    </tr>\n",
       "    <tr>\n",
       "      <th>...</th>\n",
       "      <td>...</td>\n",
       "      <td>...</td>\n",
       "      <td>...</td>\n",
       "      <td>...</td>\n",
       "      <td>...</td>\n",
       "      <td>...</td>\n",
       "      <td>...</td>\n",
       "      <td>...</td>\n",
       "      <td>...</td>\n",
       "      <td>...</td>\n",
       "      <td>...</td>\n",
       "      <td>...</td>\n",
       "      <td>...</td>\n",
       "      <td>...</td>\n",
       "      <td>...</td>\n",
       "      <td>...</td>\n",
       "      <td>...</td>\n",
       "      <td>...</td>\n",
       "      <td>...</td>\n",
       "      <td>...</td>\n",
       "      <td>...</td>\n",
       "    </tr>\n",
       "    <tr>\n",
       "      <th>10387</th>\n",
       "      <td>STBR</td>\n",
       "      <td>3001881</td>\n",
       "      <td>2024-03-07</td>\n",
       "      <td>31998</td>\n",
       "      <td>A7483</td>\n",
       "      <td>P</td>\n",
       "      <td>29</td>\n",
       "      <td>7</td>\n",
       "      <td>3</td>\n",
       "      <td>JACKSON</td>\n",
       "      <td>...</td>\n",
       "      <td>35503.150000</td>\n",
       "      <td>N</td>\n",
       "      <td>38.933933</td>\n",
       "      <td>-94.412197</td>\n",
       "      <td>94.2</td>\n",
       "      <td>NOT DEF</td>\n",
       "      <td>FA</td>\n",
       "      <td>N</td>\n",
       "      <td>SUPPLEMENTARY</td>\n",
       "      <td>GOOD</td>\n",
       "    </tr>\n",
       "    <tr>\n",
       "      <th>10388</th>\n",
       "      <td>STBR</td>\n",
       "      <td>2997425</td>\n",
       "      <td>2024-03-07</td>\n",
       "      <td>31791</td>\n",
       "      <td>A6759</td>\n",
       "      <td>P</td>\n",
       "      <td>29</td>\n",
       "      <td>7</td>\n",
       "      <td>1</td>\n",
       "      <td>DAVIESS</td>\n",
       "      <td>...</td>\n",
       "      <td>6732.425000</td>\n",
       "      <td>Y</td>\n",
       "      <td>39.931844</td>\n",
       "      <td>-93.892186</td>\n",
       "      <td>97.7</td>\n",
       "      <td>NOT DEF</td>\n",
       "      <td>FA</td>\n",
       "      <td>N</td>\n",
       "      <td>PRIMARY</td>\n",
       "      <td>GOOD</td>\n",
       "    </tr>\n",
       "    <tr>\n",
       "      <th>10389</th>\n",
       "      <td>STBR</td>\n",
       "      <td>2997426</td>\n",
       "      <td>2024-03-07</td>\n",
       "      <td>31797</td>\n",
       "      <td>A6760</td>\n",
       "      <td>P</td>\n",
       "      <td>29</td>\n",
       "      <td>7</td>\n",
       "      <td>1</td>\n",
       "      <td>DAVIESS</td>\n",
       "      <td>...</td>\n",
       "      <td>9330.008333</td>\n",
       "      <td>Y</td>\n",
       "      <td>39.931853</td>\n",
       "      <td>-93.894258</td>\n",
       "      <td>94.4</td>\n",
       "      <td>NOT DEF</td>\n",
       "      <td>FA</td>\n",
       "      <td>N</td>\n",
       "      <td>PRIMARY</td>\n",
       "      <td>GOOD</td>\n",
       "    </tr>\n",
       "    <tr>\n",
       "      <th>10390</th>\n",
       "      <td>STBR</td>\n",
       "      <td>2997427</td>\n",
       "      <td>2024-03-07</td>\n",
       "      <td>31798</td>\n",
       "      <td>A6784</td>\n",
       "      <td>P</td>\n",
       "      <td>29</td>\n",
       "      <td>7</td>\n",
       "      <td>1</td>\n",
       "      <td>DAVIESS</td>\n",
       "      <td>...</td>\n",
       "      <td>3772.883333</td>\n",
       "      <td>Y</td>\n",
       "      <td>39.931992</td>\n",
       "      <td>-93.880656</td>\n",
       "      <td>97.7</td>\n",
       "      <td>NOT DEF</td>\n",
       "      <td>FA</td>\n",
       "      <td>N</td>\n",
       "      <td>PRIMARY</td>\n",
       "      <td>GOOD</td>\n",
       "    </tr>\n",
       "    <tr>\n",
       "      <th>10391</th>\n",
       "      <td>STBR</td>\n",
       "      <td>2969184</td>\n",
       "      <td>2024-02-29</td>\n",
       "      <td>31800</td>\n",
       "      <td>A7278</td>\n",
       "      <td>P</td>\n",
       "      <td>29</td>\n",
       "      <td>7</td>\n",
       "      <td>5</td>\n",
       "      <td>FRANKLIN</td>\n",
       "      <td>...</td>\n",
       "      <td>12404.266667</td>\n",
       "      <td>N</td>\n",
       "      <td>38.208422</td>\n",
       "      <td>-91.174794</td>\n",
       "      <td>93.3</td>\n",
       "      <td>DEF</td>\n",
       "      <td>FA</td>\n",
       "      <td>N</td>\n",
       "      <td>SUPPLEMENTARY</td>\n",
       "      <td>GOOD</td>\n",
       "    </tr>\n",
       "  </tbody>\n",
       "</table>\n",
       "<p>10392 rows × 224 columns</p>\n",
       "</div>"
      ],
      "text/plain": [
       "       Class  Structure NBI Submittal ID Submittal Date  Fed ID  \\\n",
       "0       STBR                     2993484     2024-03-07       1   \n",
       "1       STBR                     3008274     2024-03-07    2213   \n",
       "2       STBR                     3003160     2024-03-07    1679   \n",
       "3      STCUL                     2993846     2024-03-07    1683   \n",
       "4       STBR                     3008078     2024-03-07    1682   \n",
       "...      ...                         ...            ...     ...   \n",
       "10387   STBR                     3001881     2024-03-07   31998   \n",
       "10388   STBR                     2997425     2024-03-07   31791   \n",
       "10389   STBR                     2997426     2024-03-07   31797   \n",
       "10390   STBR                     2997427     2024-03-07   31798   \n",
       "10391   STBR                     2969184     2024-02-29   31800   \n",
       "\n",
       "      Structure Design #   Type State FIPS FWHA Region District    County  \\\n",
       "0                  A0001  A0002      A0003       A0004    A0005     A0006   \n",
       "1                  A2557      P         29           7        7    OREGON   \n",
       "2                  A1995      P         29           7        6     BATES   \n",
       "3                  A1999      P         29           7        1      HOLT   \n",
       "4                  A1998      P         29           7        7     TEXAS   \n",
       "...                  ...    ...        ...         ...      ...       ...   \n",
       "10387              A7483      P         29           7        3   JACKSON   \n",
       "10388              A6759      P         29           7        1   DAVIESS   \n",
       "10389              A6760      P         29           7        1   DAVIESS   \n",
       "10390              A6784      P         29           7        1   DAVIESS   \n",
       "10391              A7278      P         29           7        5  FRANKLIN   \n",
       "\n",
       "       ...     Square FT Major Route Latitude Decimal Degree  \\\n",
       "0      ...  18870.166667           Y               39.777008   \n",
       "1      ...   3989.400000           N               36.689675   \n",
       "2      ...  15205.266667           Y               38.240800   \n",
       "3      ...    740.000000           N               39.903044   \n",
       "4      ...   3046.650000           N               37.176958   \n",
       "...    ...           ...         ...                     ...   \n",
       "10387  ...  35503.150000           N               38.933933   \n",
       "10388  ...   6732.425000           Y               39.931844   \n",
       "10389  ...   9330.008333           Y               39.931853   \n",
       "10390  ...   3772.883333           Y               39.931992   \n",
       "10391  ...  12404.266667           N               38.208422   \n",
       "\n",
       "      Longitude Decimal Degree Sufficiency Deficiency Federal Aid Route  \\\n",
       "0                   -94.793636        83.1    NOT DEF                FA   \n",
       "1                   -91.394836        89.2    NOT DEF                FA   \n",
       "2                   -94.352667        94.4    NOT DEF                FA   \n",
       "3                   -95.082786        99.8    NOT DEF                FA   \n",
       "4                   -91.726222        89.5    NOT DEF               NFA   \n",
       "...                        ...         ...        ...               ...   \n",
       "10387               -94.412197        94.2    NOT DEF                FA   \n",
       "10388               -93.892186        97.7    NOT DEF                FA   \n",
       "10389               -93.894258        94.4    NOT DEF                FA   \n",
       "10390               -93.880656        97.7    NOT DEF                FA   \n",
       "10391               -91.174794        93.3        DEF                FA   \n",
       "\n",
       "      Major Bridge State System Class Good, Fair, or Poor  \n",
       "0                N            PRIMARY                FAIR  \n",
       "1                N            PRIMARY                FAIR  \n",
       "2                N         INTERSTATE                GOOD  \n",
       "3                N      SUPPLEMENTARY                GOOD  \n",
       "4                N      SUPPLEMENTARY                FAIR  \n",
       "...            ...                ...                 ...  \n",
       "10387            N      SUPPLEMENTARY                GOOD  \n",
       "10388            N            PRIMARY                GOOD  \n",
       "10389            N            PRIMARY                GOOD  \n",
       "10390            N            PRIMARY                GOOD  \n",
       "10391            N      SUPPLEMENTARY                GOOD  \n",
       "\n",
       "[10392 rows x 224 columns]"
      ]
     },
     "execution_count": 64,
     "metadata": {},
     "output_type": "execute_result"
    }
   ],
   "source": [
    "bridges"
   ]
  },
  {
   "cell_type": "code",
   "execution_count": 65,
   "metadata": {},
   "outputs": [],
   "source": [
    "selected_cls=['Structure NBI Submittal ID','Structure Length','Skew Degrees','Latitude Decimal Degree','Longitude Decimal Degree','Curb Width Left FT',\t'Curb Width Left IN',\t'Curb Width Right FT',\t'Curb With Right IN',\\\n",
    "              'Curb to Curb FT',\t'Curb to Curb IN',\t'Out to Out FT'\\\n",
    " ,\t'Out to Out IN',\t'Minimum Vertical Clearance Over FT',\t'Minimum Vertical Clearance Over IN',\t'Vertical Reference Feature','Minimum Vertical Clearance Under FT'\\\n",
    " ,\t'Minimum Vertical Clearance Under IN',\t'Lateral Reference Feature',\t'Right Lateral Clearance FT',\t'Right Lateral Clearance IN',\t'Left Lateral Clearance FT',\\\n",
    " 'Left Lateral Clearance IN']\n",
    "\n",
    "bridges2=bridges[selected_cls]"
   ]
  },
  {
   "cell_type": "code",
   "execution_count": 66,
   "metadata": {},
   "outputs": [
    {
     "name": "stdout",
     "output_type": "stream",
     "text": [
      "Structure NBI Submittal ID 0.0 percent\n",
      "Structure Length 0.0 percent\n",
      "Skew Degrees 39.46304849884527 percent\n",
      "Latitude Decimal Degree 0.0 percent\n",
      "Longitude Decimal Degree 0.0 percent\n",
      "Curb Width Left FT 96.78598922247883 percent\n",
      "Curb Width Left IN 83.20823710546574 percent\n",
      "Curb Width Right FT 96.72825250192456 percent\n",
      "Curb With Right IN 83.10238645111625 percent\n",
      "Curb to Curb FT 12.095842956120093 percent\n",
      "Curb to Curb IN 28.23325635103926 percent\n",
      "Out to Out FT 11.383756735950731 percent\n",
      "Out to Out IN 15.973826020015396 percent\n",
      "Minimum Vertical Clearance Over FT 0.0 percent\n",
      "Minimum Vertical Clearance Over IN 0.1924557351809084 percent\n",
      "Vertical Reference Feature 0.0 percent\n",
      "Minimum Vertical Clearance Under FT 75.0866050808314 percent\n",
      "Minimum Vertical Clearance Under IN 76.98229407236336 percent\n",
      "Lateral Reference Feature 0.0 percent\n",
      "Right Lateral Clearance FT 76.3760585065435 percent\n",
      "Right Lateral Clearance IN 77.3960739030023 percent\n",
      "Left Lateral Clearance FT 87.75981524249423 percent\n",
      "Left Lateral Clearance IN 88.26982294072363 percent\n"
     ]
    }
   ],
   "source": [
    "diction, percentages, cols={},[],[]\n",
    "for col in bridges2.columns:\n",
    "  print(col, len(bridges2[bridges2[col]==0])/len(bridges2)*100 ,\"percent\")\n",
    "  cols.append(col)\n",
    "  percentages.append(len(bridges2[bridges2[col]==0])/len(bridges2)*100)\n",
    "tb1=pd.DataFrame({'characteristic':cols, 'missing value %': percentages})\n"
   ]
  },
  {
   "cell_type": "code",
   "execution_count": 67,
   "metadata": {},
   "outputs": [
    {
     "data": {
      "text/html": [
       "<div>\n",
       "<style scoped>\n",
       "    .dataframe tbody tr th:only-of-type {\n",
       "        vertical-align: middle;\n",
       "    }\n",
       "\n",
       "    .dataframe tbody tr th {\n",
       "        vertical-align: top;\n",
       "    }\n",
       "\n",
       "    .dataframe thead th {\n",
       "        text-align: right;\n",
       "    }\n",
       "</style>\n",
       "<table border=\"1\" class=\"dataframe\">\n",
       "  <thead>\n",
       "    <tr style=\"text-align: right;\">\n",
       "      <th></th>\n",
       "      <th>characteristic</th>\n",
       "      <th>missing value %</th>\n",
       "    </tr>\n",
       "  </thead>\n",
       "  <tbody>\n",
       "    <tr>\n",
       "      <th>0</th>\n",
       "      <td>Structure NBI Submittal ID</td>\n",
       "      <td>0.000000</td>\n",
       "    </tr>\n",
       "    <tr>\n",
       "      <th>1</th>\n",
       "      <td>Structure Length</td>\n",
       "      <td>0.000000</td>\n",
       "    </tr>\n",
       "    <tr>\n",
       "      <th>2</th>\n",
       "      <td>Skew Degrees</td>\n",
       "      <td>39.463048</td>\n",
       "    </tr>\n",
       "    <tr>\n",
       "      <th>3</th>\n",
       "      <td>Latitude Decimal Degree</td>\n",
       "      <td>0.000000</td>\n",
       "    </tr>\n",
       "    <tr>\n",
       "      <th>4</th>\n",
       "      <td>Longitude Decimal Degree</td>\n",
       "      <td>0.000000</td>\n",
       "    </tr>\n",
       "    <tr>\n",
       "      <th>5</th>\n",
       "      <td>Curb Width Left FT</td>\n",
       "      <td>96.785989</td>\n",
       "    </tr>\n",
       "    <tr>\n",
       "      <th>6</th>\n",
       "      <td>Curb Width Left IN</td>\n",
       "      <td>83.208237</td>\n",
       "    </tr>\n",
       "    <tr>\n",
       "      <th>7</th>\n",
       "      <td>Curb Width Right FT</td>\n",
       "      <td>96.728253</td>\n",
       "    </tr>\n",
       "    <tr>\n",
       "      <th>8</th>\n",
       "      <td>Curb With Right IN</td>\n",
       "      <td>83.102386</td>\n",
       "    </tr>\n",
       "    <tr>\n",
       "      <th>9</th>\n",
       "      <td>Curb to Curb FT</td>\n",
       "      <td>12.095843</td>\n",
       "    </tr>\n",
       "    <tr>\n",
       "      <th>10</th>\n",
       "      <td>Curb to Curb IN</td>\n",
       "      <td>28.233256</td>\n",
       "    </tr>\n",
       "    <tr>\n",
       "      <th>11</th>\n",
       "      <td>Out to Out FT</td>\n",
       "      <td>11.383757</td>\n",
       "    </tr>\n",
       "    <tr>\n",
       "      <th>12</th>\n",
       "      <td>Out to Out IN</td>\n",
       "      <td>15.973826</td>\n",
       "    </tr>\n",
       "    <tr>\n",
       "      <th>13</th>\n",
       "      <td>Minimum Vertical Clearance Over FT</td>\n",
       "      <td>0.000000</td>\n",
       "    </tr>\n",
       "    <tr>\n",
       "      <th>14</th>\n",
       "      <td>Minimum Vertical Clearance Over IN</td>\n",
       "      <td>0.192456</td>\n",
       "    </tr>\n",
       "    <tr>\n",
       "      <th>15</th>\n",
       "      <td>Vertical Reference Feature</td>\n",
       "      <td>0.000000</td>\n",
       "    </tr>\n",
       "    <tr>\n",
       "      <th>16</th>\n",
       "      <td>Minimum Vertical Clearance Under FT</td>\n",
       "      <td>75.086605</td>\n",
       "    </tr>\n",
       "    <tr>\n",
       "      <th>17</th>\n",
       "      <td>Minimum Vertical Clearance Under IN</td>\n",
       "      <td>76.982294</td>\n",
       "    </tr>\n",
       "    <tr>\n",
       "      <th>18</th>\n",
       "      <td>Lateral Reference Feature</td>\n",
       "      <td>0.000000</td>\n",
       "    </tr>\n",
       "    <tr>\n",
       "      <th>19</th>\n",
       "      <td>Right Lateral Clearance FT</td>\n",
       "      <td>76.376059</td>\n",
       "    </tr>\n",
       "    <tr>\n",
       "      <th>20</th>\n",
       "      <td>Right Lateral Clearance IN</td>\n",
       "      <td>77.396074</td>\n",
       "    </tr>\n",
       "    <tr>\n",
       "      <th>21</th>\n",
       "      <td>Left Lateral Clearance FT</td>\n",
       "      <td>87.759815</td>\n",
       "    </tr>\n",
       "    <tr>\n",
       "      <th>22</th>\n",
       "      <td>Left Lateral Clearance IN</td>\n",
       "      <td>88.269823</td>\n",
       "    </tr>\n",
       "  </tbody>\n",
       "</table>\n",
       "</div>"
      ],
      "text/plain": [
       "                         characteristic  missing value %\n",
       "0            Structure NBI Submittal ID         0.000000\n",
       "1                      Structure Length         0.000000\n",
       "2                          Skew Degrees        39.463048\n",
       "3               Latitude Decimal Degree         0.000000\n",
       "4              Longitude Decimal Degree         0.000000\n",
       "5                    Curb Width Left FT        96.785989\n",
       "6                    Curb Width Left IN        83.208237\n",
       "7                   Curb Width Right FT        96.728253\n",
       "8                    Curb With Right IN        83.102386\n",
       "9                       Curb to Curb FT        12.095843\n",
       "10                      Curb to Curb IN        28.233256\n",
       "11                        Out to Out FT        11.383757\n",
       "12                        Out to Out IN        15.973826\n",
       "13   Minimum Vertical Clearance Over FT         0.000000\n",
       "14   Minimum Vertical Clearance Over IN         0.192456\n",
       "15           Vertical Reference Feature         0.000000\n",
       "16  Minimum Vertical Clearance Under FT        75.086605\n",
       "17  Minimum Vertical Clearance Under IN        76.982294\n",
       "18            Lateral Reference Feature         0.000000\n",
       "19           Right Lateral Clearance FT        76.376059\n",
       "20           Right Lateral Clearance IN        77.396074\n",
       "21            Left Lateral Clearance FT        87.759815\n",
       "22            Left Lateral Clearance IN        88.269823"
      ]
     },
     "execution_count": 67,
     "metadata": {},
     "output_type": "execute_result"
    }
   ],
   "source": [
    "tb1"
   ]
  },
  {
   "cell_type": "code",
   "execution_count": 68,
   "metadata": {},
   "outputs": [
    {
     "data": {
      "text/plain": [
       "(10392,\n",
       " Class                          0\n",
       " Structure NBI Submittal ID     0\n",
       " Submittal Date                 0\n",
       " Fed ID                         0\n",
       " Structure Design #             0\n",
       "                               ..\n",
       " Deficiency                     0\n",
       " Federal Aid Route              0\n",
       " Major Bridge                   0\n",
       " State System Class            17\n",
       " Good, Fair, or Poor            0\n",
       " Length: 224, dtype: int64)"
      ]
     },
     "execution_count": 68,
     "metadata": {},
     "output_type": "execute_result"
    }
   ],
   "source": [
    "len(bridges), bridges.isnull().sum()"
   ]
  },
  {
   "cell_type": "code",
   "execution_count": 69,
   "metadata": {},
   "outputs": [
    {
     "data": {
      "text/plain": [
       "Index(['Class', 'Structure NBI Submittal ID', 'Submittal Date', 'Fed ID',\n",
       "       'Structure Design #', 'Type', 'State FIPS', 'FWHA Region', 'District',\n",
       "       'County',\n",
       "       ...\n",
       "       'Square FT', 'Major Route', 'Latitude Decimal Degree',\n",
       "       'Longitude Decimal Degree', 'Sufficiency', 'Deficiency',\n",
       "       'Federal Aid Route', 'Major Bridge', 'State System Class',\n",
       "       'Good, Fair, or Poor'],\n",
       "      dtype='object', length=224)"
      ]
     },
     "execution_count": 69,
     "metadata": {},
     "output_type": "execute_result"
    }
   ],
   "source": [
    "bridges.columns"
   ]
  },
  {
   "cell_type": "code",
   "execution_count": 70,
   "metadata": {},
   "outputs": [
    {
     "data": {
      "text/plain": [
       "WATERWAY                     7669\n",
       "HIGHWAY                      1983\n",
       "RAILROAD                      313\n",
       "HIGHWAY-RAILROAD              108\n",
       "HIGHWAY-WATERWAY              105\n",
       "RELIEF FOR WATERWAY            89\n",
       "RAILROAD-WATERWAY              60\n",
       "HIGHWAY-WATERWAY-RAILROAD      36\n",
       "OTHER                          20\n",
       "PEDESTRIAN-BICYCLE              8\n",
       "A0060                           1\n",
       "Name: Service Under, dtype: int64"
      ]
     },
     "execution_count": 70,
     "metadata": {},
     "output_type": "execute_result"
    }
   ],
   "source": [
    "bridges['Service Under'].value_counts()"
   ]
  },
  {
   "cell_type": "code",
   "execution_count": 71,
   "metadata": {},
   "outputs": [],
   "source": [
    "len(bridges[bridges['Service Under'] == 'WATERWAY']), len(bridges[bridges['Service Under'] == 'HIGHWAY-WATERWAY']),\\\n",
    "len(bridges[bridges['Service Under'] == 'HIGHWAY-WATERWAY-RAILROAD'])\n",
    "waterway_bridges = bridges[\n",
    "    (bridges['Service Under'] == 'WATERWAY') |\n",
    "    (bridges['Service Under'] == 'HIGHWAY-WATERWAY') |\n",
    "    (bridges['Service Under'] == 'HIGHWAY-WATERWAY-RAILROAD')\n",
    "]\n"
   ]
  },
  {
   "cell_type": "code",
   "execution_count": 72,
   "metadata": {},
   "outputs": [
    {
     "data": {
      "text/plain": [
       "(0, 0)"
      ]
     },
     "execution_count": 72,
     "metadata": {},
     "output_type": "execute_result"
    }
   ],
   "source": [
    "#indicating no missing coordinate values\n",
    "waterway_bridges['Longitude Decimal Degree'].isnull().sum(),waterway_bridges['Latitude Decimal Degree'].isnull().sum()"
   ]
  },
  {
   "cell_type": "code",
   "execution_count": 73,
   "metadata": {},
   "outputs": [],
   "source": [
    "#selected_columns=['Structure NBI Submittal ID','Structure Length'\t,'Curb to Curb FT',\t'Curb to Curb IN',\t'Out to Out FT'\\\n",
    " #,\t'Out to Out IN','Longitude Decimal Degree','Latitude Decimal Degree', 'Service Under']\n",
    "selected_columns=['Structure NBI Submittal ID','Structure Length'\t,\t'Out to Out FT'\\\n",
    " ,\t'Out to Out IN','Longitude Decimal Degree','Latitude Decimal Degree', 'Service Under']\n",
    "waterway_bridges=waterway_bridges[selected_columns]"
   ]
  },
  {
   "cell_type": "code",
   "execution_count": 74,
   "metadata": {},
   "outputs": [
    {
     "data": {
      "text/plain": [
       "count    7810.000000\n",
       "mean      163.578310\n",
       "std       341.381705\n",
       "min        12.100000\n",
       "25%        29.800000\n",
       "50%        89.900000\n",
       "75%       181.100000\n",
       "max      7100.200000\n",
       "Name: Structure Length, dtype: float64"
      ]
     },
     "execution_count": 74,
     "metadata": {},
     "output_type": "execute_result"
    }
   ],
   "source": [
    "waterway_bridges['Structure Length'].describe()"
   ]
  },
  {
   "cell_type": "code",
   "execution_count": 75,
   "metadata": {},
   "outputs": [
    {
     "data": {
      "text/plain": [
       "True"
      ]
     },
     "execution_count": 75,
     "metadata": {},
     "output_type": "execute_result"
    }
   ],
   "source": [
    "# Structure NBI Submittal Id is the unique identifier of bridges\n",
    "waterway_bridges['Structure NBI Submittal ID'].nunique()== len(waterway_bridges)==waterway_bridges.shape[0]"
   ]
  },
  {
   "cell_type": "code",
   "execution_count": 76,
   "metadata": {},
   "outputs": [
    {
     "data": {
      "text/plain": [
       "<Geographic 2D CRS: EPSG:4269>\n",
       "Name: NAD83\n",
       "Axis Info [ellipsoidal]:\n",
       "- Lat[north]: Geodetic latitude (degree)\n",
       "- Lon[east]: Geodetic longitude (degree)\n",
       "Area of Use:\n",
       "- name: North America - onshore and offshore: Canada - Alberta; British Columbia; Manitoba; New Brunswick; Newfoundland and Labrador; Northwest Territories; Nova Scotia; Nunavut; Ontario; Prince Edward Island; Quebec; Saskatchewan; Yukon. Puerto Rico. United States (USA) - Alabama; Alaska; Arizona; Arkansas; California; Colorado; Connecticut; Delaware; Florida; Georgia; Hawaii; Idaho; Illinois; Indiana; Iowa; Kansas; Kentucky; Louisiana; Maine; Maryland; Massachusetts; Michigan; Minnesota; Mississippi; Missouri; Montana; Nebraska; Nevada; New Hampshire; New Jersey; New Mexico; New York; North Carolina; North Dakota; Ohio; Oklahoma; Oregon; Pennsylvania; Rhode Island; South Carolina; South Dakota; Tennessee; Texas; Utah; Vermont; Virginia; Washington; West Virginia; Wisconsin; Wyoming. US Virgin Islands. British Virgin Islands.\n",
       "- bounds: (167.65, 14.92, -40.73, 86.45)\n",
       "Datum: North American Datum 1983\n",
       "- Ellipsoid: GRS 1980\n",
       "- Prime Meridian: Greenwich"
      ]
     },
     "execution_count": 76,
     "metadata": {},
     "output_type": "execute_result"
    }
   ],
   "source": [
    "finaal_dataset.crs"
   ]
  },
  {
   "cell_type": "markdown",
   "metadata": {},
   "source": [
    "\n",
    "## change bridge to a circle (instead of buffer) relative to it's length \n",
    "#### this projection is conducted since the long and lat only refer to a point and there is no way to find the intersection of bridge and river that way, so we extend the bridge to find the intersection easier"
   ]
  },
  {
   "cell_type": "code",
   "execution_count": 77,
   "metadata": {},
   "outputs": [],
   "source": [
    "import pyproj\n",
    "import numpy as np\n",
    "from shapely.geometry import Polygon\n",
    "import warnings\n",
    "import geopandas as gpd\n",
    "\n",
    "# Suppress warnings\n",
    "warnings.filterwarnings(\"ignore\", category=UserWarning)\n",
    "warnings.filterwarnings(\"ignore\", category=FutureWarning)\n",
    "\n",
    "def create_circle_geometry(longitude, latitude, structure_length, epsg_code=26915):\n",
    "    \"\"\"\n",
    "    Creates a circular polygon representing the bridge, with a diameter equal to structure length.\n",
    "\n",
    "    Args:\n",
    "        longitude (float): The longitude of the bridge center.\n",
    "        latitude (float): The latitude of the bridge center.\n",
    "        structure_length (float): The diameter of the circle (in feet).\n",
    "        epsg_code (int): EPSG code for the projection (UTM zone or state plane).\n",
    "\n",
    "    Returns:\n",
    "        shapely.geometry.Polygon: The resulting circular polygon.\n",
    "    \"\"\"\n",
    "\n",
    "    # Convert structure length to radius (in feet)\n",
    "    radius_ft = structure_length / 20\n",
    "    \n",
    "    # Define the source CRS (WGS84)\n",
    "    source_crs = pyproj.Proj(init='epsg:4326')  # Latitude and longitude in WGS84\n",
    "\n",
    "    # Define the target projection (use UTM or state plane based on location)\n",
    "    # Example: EPSG:26915 (NAD83 / UTM zone 15N for central USA)\n",
    "    epsg_code= 26915\n",
    "    target_crs = pyproj.Proj(init=f'epsg:{epsg_code}')\n",
    "\n",
    "    # Create a projection transformer\n",
    "    projection = pyproj.Transformer.from_proj(source_crs, target_crs)\n",
    "\n",
    "    # Project the coordinates\n",
    "    x, y = projection.transform(longitude, latitude)\n",
    "\n",
    "    # Create a circle polygon in projected coordinates\n",
    "    num_points = 100  # Number of points to create a smooth circle\n",
    "    angle = np.linspace(0, 2 * np.pi, num_points)\n",
    "    x_circle = x + radius_ft * np.cos(angle)\n",
    "    y_circle = y + radius_ft * np.sin(angle)\n",
    "\n",
    "    # Create a polygon from the circle points\n",
    "    circle_polygon = Polygon(zip(x_circle, y_circle))\n",
    "\n",
    "    # Reproject back to EPSG:4269 (NAD83)\n",
    "    reproject_back = pyproj.Transformer.from_proj(target_crs, pyproj.Proj(init='epsg:4269'))\n",
    "    reprojected_circle = Polygon([reproject_back.transform(xy[0], xy[1]) for xy in circle_polygon.exterior.coords])\n",
    "\n",
    "    return reprojected_circle\n",
    "\n",
    "# Example usage with EPSG:26915 for UTM zone 15N (adjust based on state)\n",
    "waterway_bridges['circle geometry'] = waterway_bridges.apply(\n",
    "    lambda row: create_circle_geometry(\n",
    "        row['Longitude Decimal Degree'], row['Latitude Decimal Degree'], row['Structure Length'], epsg_code=26915\n",
    "    ), axis=1)\n",
    "\n"
   ]
  },
  {
   "cell_type": "code",
   "execution_count": 78,
   "metadata": {},
   "outputs": [
    {
     "data": {
      "text/plain": [
       "count                                                  7810\n",
       "unique                                                 7807\n",
       "top       POLYGON ((-92.54514637666009 38.95850398466274...\n",
       "freq                                                      2\n",
       "Name: circle geometry, dtype: object"
      ]
     },
     "execution_count": 78,
     "metadata": {},
     "output_type": "execute_result"
    }
   ],
   "source": [
    "waterway_bridges['circle geometry'].describe()"
   ]
  },
  {
   "cell_type": "code",
   "execution_count": 79,
   "metadata": {},
   "outputs": [
    {
     "data": {
      "text/html": [
       "<div>\n",
       "<style scoped>\n",
       "    .dataframe tbody tr th:only-of-type {\n",
       "        vertical-align: middle;\n",
       "    }\n",
       "\n",
       "    .dataframe tbody tr th {\n",
       "        vertical-align: top;\n",
       "    }\n",
       "\n",
       "    .dataframe thead th {\n",
       "        text-align: right;\n",
       "    }\n",
       "</style>\n",
       "<table border=\"1\" class=\"dataframe\">\n",
       "  <thead>\n",
       "    <tr style=\"text-align: right;\">\n",
       "      <th></th>\n",
       "      <th>COMID</th>\n",
       "      <th>LENGTHKM</th>\n",
       "      <th>GEOMETRY</th>\n",
       "      <th>MAXELEVSMO</th>\n",
       "      <th>MINELEVSMO</th>\n",
       "      <th>SLOPE</th>\n",
       "      <th>SLOPELENKM</th>\n",
       "      <th>STREAMORDE</th>\n",
       "      <th>LEVELPATHI</th>\n",
       "      <th>PATHLENGTH</th>\n",
       "      <th>...</th>\n",
       "      <th>HUC_10</th>\n",
       "      <th>HUC_12</th>\n",
       "      <th>cumDistance</th>\n",
       "      <th>cumMinElev</th>\n",
       "      <th>cumMaxElev</th>\n",
       "      <th>cumSlope</th>\n",
       "      <th>cumAveElev</th>\n",
       "      <th>HydroConn</th>\n",
       "      <th>cumArea</th>\n",
       "      <th>cumElev</th>\n",
       "    </tr>\n",
       "  </thead>\n",
       "  <tbody>\n",
       "    <tr>\n",
       "      <th>0</th>\n",
       "      <td>6966863</td>\n",
       "      <td>1.388</td>\n",
       "      <td>LINESTRING Z (-91.36901 40.39589 0, -91.36911 ...</td>\n",
       "      <td>14811.0</td>\n",
       "      <td>14788.0</td>\n",
       "      <td>0.000166</td>\n",
       "      <td>1.388</td>\n",
       "      <td>8.0</td>\n",
       "      <td>350002977.0</td>\n",
       "      <td>2148.279</td>\n",
       "      <td>...</td>\n",
       "      <td>0708010418</td>\n",
       "      <td>070801041806</td>\n",
       "      <td>72.525</td>\n",
       "      <td>[20123.0, 19830.0, 19830.0, 19525.0, 19501.0, ...</td>\n",
       "      <td>[21065.0, 20123.0, 19830.0, 19830.0, 19525.0, ...</td>\n",
       "      <td>0.061275</td>\n",
       "      <td>[20594.0, 19976.5, 19830.0, 19677.5, 19513.0, ...</td>\n",
       "      <td>510148994.0</td>\n",
       "      <td>100.0422</td>\n",
       "      <td>1093599.5</td>\n",
       "    </tr>\n",
       "    <tr>\n",
       "      <th>1</th>\n",
       "      <td>6966857</td>\n",
       "      <td>0.216</td>\n",
       "      <td>LINESTRING Z (-91.36512 40.40084 0, -91.36533 ...</td>\n",
       "      <td>15708.0</td>\n",
       "      <td>15708.0</td>\n",
       "      <td>0.000010</td>\n",
       "      <td>0.216</td>\n",
       "      <td>8.0</td>\n",
       "      <td>350002977.0</td>\n",
       "      <td>2150.101</td>\n",
       "      <td>...</td>\n",
       "      <td>0708010418</td>\n",
       "      <td>070801041806</td>\n",
       "      <td>70.703</td>\n",
       "      <td>[20123.0, 19830.0, 19830.0, 19525.0, 19501.0, ...</td>\n",
       "      <td>[21065.0, 20123.0, 19830.0, 19830.0, 19525.0, ...</td>\n",
       "      <td>0.040441</td>\n",
       "      <td>[20594.0, 19976.5, 19830.0, 19677.5, 19513.0, ...</td>\n",
       "      <td>510148994.0</td>\n",
       "      <td>98.1450</td>\n",
       "      <td>1063540.5</td>\n",
       "    </tr>\n",
       "    <tr>\n",
       "      <th>2</th>\n",
       "      <td>6966859</td>\n",
       "      <td>0.434</td>\n",
       "      <td>LINESTRING Z (-91.3665 40.39925 0, -91.36704 4...</td>\n",
       "      <td>15708.0</td>\n",
       "      <td>14811.0</td>\n",
       "      <td>0.020668</td>\n",
       "      <td>0.434</td>\n",
       "      <td>8.0</td>\n",
       "      <td>350002977.0</td>\n",
       "      <td>2149.667</td>\n",
       "      <td>...</td>\n",
       "      <td>0708010418</td>\n",
       "      <td>070801041806</td>\n",
       "      <td>71.137</td>\n",
       "      <td>[20123.0, 19830.0, 19830.0, 19525.0, 19501.0, ...</td>\n",
       "      <td>[21065.0, 20123.0, 19830.0, 19830.0, 19525.0, ...</td>\n",
       "      <td>0.061109</td>\n",
       "      <td>[20594.0, 19976.5, 19830.0, 19677.5, 19513.0, ...</td>\n",
       "      <td>510148994.0</td>\n",
       "      <td>98.5725</td>\n",
       "      <td>1078800.0</td>\n",
       "    </tr>\n",
       "    <tr>\n",
       "      <th>3</th>\n",
       "      <td>6966855</td>\n",
       "      <td>2.322</td>\n",
       "      <td>LINESTRING Z (-91.37278 40.42029 0, -91.37084 ...</td>\n",
       "      <td>15710.0</td>\n",
       "      <td>15708.0</td>\n",
       "      <td>0.000010</td>\n",
       "      <td>2.322</td>\n",
       "      <td>8.0</td>\n",
       "      <td>350002977.0</td>\n",
       "      <td>2150.317</td>\n",
       "      <td>...</td>\n",
       "      <td>0708010418</td>\n",
       "      <td>070801041806</td>\n",
       "      <td>70.487</td>\n",
       "      <td>[20123.0, 19830.0, 19830.0, 19525.0, 19501.0, ...</td>\n",
       "      <td>[21065.0, 20123.0, 19830.0, 19830.0, 19525.0, ...</td>\n",
       "      <td>0.040431</td>\n",
       "      <td>[20594.0, 19976.5, 19830.0, 19677.5, 19513.0, ...</td>\n",
       "      <td>510148994.0</td>\n",
       "      <td>98.0109</td>\n",
       "      <td>1047832.5</td>\n",
       "    </tr>\n",
       "    <tr>\n",
       "      <th>3</th>\n",
       "      <td>6966855</td>\n",
       "      <td>2.322</td>\n",
       "      <td>LINESTRING Z (-91.37278 40.42029 0, -91.37084 ...</td>\n",
       "      <td>15710.0</td>\n",
       "      <td>15708.0</td>\n",
       "      <td>0.000010</td>\n",
       "      <td>2.322</td>\n",
       "      <td>8.0</td>\n",
       "      <td>350002977.0</td>\n",
       "      <td>2150.317</td>\n",
       "      <td>...</td>\n",
       "      <td>0708010418</td>\n",
       "      <td>070801041805</td>\n",
       "      <td>70.487</td>\n",
       "      <td>[20123.0, 19830.0, 19830.0, 19525.0, 19501.0, ...</td>\n",
       "      <td>[21065.0, 20123.0, 19830.0, 19830.0, 19525.0, ...</td>\n",
       "      <td>0.040431</td>\n",
       "      <td>[20594.0, 19976.5, 19830.0, 19677.5, 19513.0, ...</td>\n",
       "      <td>510148994.0</td>\n",
       "      <td>98.0109</td>\n",
       "      <td>1047832.5</td>\n",
       "    </tr>\n",
       "  </tbody>\n",
       "</table>\n",
       "<p>5 rows × 29 columns</p>\n",
       "</div>"
      ],
      "text/plain": [
       "     COMID  LENGTHKM                                           GEOMETRY  \\\n",
       "0  6966863     1.388  LINESTRING Z (-91.36901 40.39589 0, -91.36911 ...   \n",
       "1  6966857     0.216  LINESTRING Z (-91.36512 40.40084 0, -91.36533 ...   \n",
       "2  6966859     0.434  LINESTRING Z (-91.3665 40.39925 0, -91.36704 4...   \n",
       "3  6966855     2.322  LINESTRING Z (-91.37278 40.42029 0, -91.37084 ...   \n",
       "3  6966855     2.322  LINESTRING Z (-91.37278 40.42029 0, -91.37084 ...   \n",
       "\n",
       "   MAXELEVSMO  MINELEVSMO     SLOPE  SLOPELENKM  STREAMORDE   LEVELPATHI  \\\n",
       "0     14811.0     14788.0  0.000166       1.388         8.0  350002977.0   \n",
       "1     15708.0     15708.0  0.000010       0.216         8.0  350002977.0   \n",
       "2     15708.0     14811.0  0.020668       0.434         8.0  350002977.0   \n",
       "3     15710.0     15708.0  0.000010       2.322         8.0  350002977.0   \n",
       "3     15710.0     15708.0  0.000010       2.322         8.0  350002977.0   \n",
       "\n",
       "   PATHLENGTH  ...      HUC_10        HUC_12  cumDistance  \\\n",
       "0    2148.279  ...  0708010418  070801041806       72.525   \n",
       "1    2150.101  ...  0708010418  070801041806       70.703   \n",
       "2    2149.667  ...  0708010418  070801041806       71.137   \n",
       "3    2150.317  ...  0708010418  070801041806       70.487   \n",
       "3    2150.317  ...  0708010418  070801041805       70.487   \n",
       "\n",
       "                                          cumMinElev  \\\n",
       "0  [20123.0, 19830.0, 19830.0, 19525.0, 19501.0, ...   \n",
       "1  [20123.0, 19830.0, 19830.0, 19525.0, 19501.0, ...   \n",
       "2  [20123.0, 19830.0, 19830.0, 19525.0, 19501.0, ...   \n",
       "3  [20123.0, 19830.0, 19830.0, 19525.0, 19501.0, ...   \n",
       "3  [20123.0, 19830.0, 19830.0, 19525.0, 19501.0, ...   \n",
       "\n",
       "                                          cumMaxElev  cumSlope  \\\n",
       "0  [21065.0, 20123.0, 19830.0, 19830.0, 19525.0, ...  0.061275   \n",
       "1  [21065.0, 20123.0, 19830.0, 19830.0, 19525.0, ...  0.040441   \n",
       "2  [21065.0, 20123.0, 19830.0, 19830.0, 19525.0, ...  0.061109   \n",
       "3  [21065.0, 20123.0, 19830.0, 19830.0, 19525.0, ...  0.040431   \n",
       "3  [21065.0, 20123.0, 19830.0, 19830.0, 19525.0, ...  0.040431   \n",
       "\n",
       "                                          cumAveElev    HydroConn   cumArea  \\\n",
       "0  [20594.0, 19976.5, 19830.0, 19677.5, 19513.0, ...  510148994.0  100.0422   \n",
       "1  [20594.0, 19976.5, 19830.0, 19677.5, 19513.0, ...  510148994.0   98.1450   \n",
       "2  [20594.0, 19976.5, 19830.0, 19677.5, 19513.0, ...  510148994.0   98.5725   \n",
       "3  [20594.0, 19976.5, 19830.0, 19677.5, 19513.0, ...  510148994.0   98.0109   \n",
       "3  [20594.0, 19976.5, 19830.0, 19677.5, 19513.0, ...  510148994.0   98.0109   \n",
       "\n",
       "     cumElev  \n",
       "0  1093599.5  \n",
       "1  1063540.5  \n",
       "2  1078800.0  \n",
       "3  1047832.5  \n",
       "3  1047832.5  \n",
       "\n",
       "[5 rows x 29 columns]"
      ]
     },
     "execution_count": 79,
     "metadata": {},
     "output_type": "execute_result"
    }
   ],
   "source": [
    "final_dataset.head()"
   ]
  },
  {
   "cell_type": "code",
   "execution_count": 80,
   "metadata": {},
   "outputs": [
    {
     "data": {
      "text/plain": [
       "Index(['Structure NBI Submittal ID', 'Structure Length', 'Out to Out FT',\n",
       "       'Out to Out IN', 'Longitude Decimal Degree', 'Latitude Decimal Degree',\n",
       "       'Service Under', 'circle geometry'],\n",
       "      dtype='object')"
      ]
     },
     "execution_count": 80,
     "metadata": {},
     "output_type": "execute_result"
    }
   ],
   "source": [
    "waterway_bridges.columns"
   ]
  },
  {
   "cell_type": "code",
   "execution_count": 84,
   "metadata": {},
   "outputs": [],
   "source": [
    "from shapely.geometry import Point\n",
    "import geopandas as gpd\n",
    "import pandas as pd\n",
    "from collections import defaultdict\n",
    "\n",
    "\n",
    "def find_river_features(waterway_bridges, final_dataset, buffer_size):\n",
    "# Passing river reaches of Missouri and waterway bridges to find the intersections\n",
    "    buffer_size=0.0005\n",
    "    # Copying the waterway bridges dataset\n",
    "    filtered_bridges = waterway_bridges.copy()\n",
    "    \n",
    "    # Convert bridge latitude/longitude to geometry points\n",
    "    bridge_gdf = gpd.GeoDataFrame(\n",
    "        filtered_bridges,\n",
    "        geometry=filtered_bridges['circle geometry'],\n",
    "        crs=final_dataset.crs  # Ensure final_dataset.crs is valid\n",
    "    )\n",
    "    \n",
    "    # Copying the dataset for buffering operations\n",
    "    gdf_copy2 = final_dataset.copy()\n",
    "    gdf_copy22 = final_dataset.copy()\n",
    "    print(gdf_copy2.crs)\n",
    "    \n",
    "    # Create buffered geometry for rivers\n",
    "    gdf_copy22['buffered_geometry'] = gdf_copy2.geometry.buffer(buffer_size)\n",
    "    gdf_copy22 = gdf_copy22.set_geometry('buffered_geometry')\n",
    "    #print(\"Columns of gdf_copy22:\", gdf_copy22.columns)\n",
    "    \n",
    "    # Check and align CRS of bridge and river datasets\n",
    "    if bridge_gdf.crs != gdf_copy2.crs:\n",
    "        print(\"The CRSs do not match, converting one to the other\")\n",
    "        bridge_gdf = bridge_gdf.to_crs(gdf_copy2.crs)\n",
    "    \n",
    "    # Perform spatial join to check which bridges intersect rivers\n",
    "    bridges_on_r = gpd.sjoin(bridge_gdf, gdf_copy2, how='left', predicate='intersects')\n",
    "    #print(\"Columns in bridges_on_r:\", bridges_on_r.columns)\n",
    "    \n",
    "    # Identify non-intersecting bridges\n",
    "    non_intersected = bridges_on_r[bridges_on_r['index_right'].isnull()].reset_index(drop=True)\n",
    "    #print(\"Columns in non_intersected:\", non_intersected.columns)\n",
    "    \n",
    "    bridges_on_r = bridges_on_r[bridges_on_r['index_right'].notna()].reset_index(drop=True)\n",
    "    \n",
    "    # Drop index_right column if it exists\n",
    "    non_intersected = non_intersected.drop(columns=['index_right'], errors='ignore')\n",
    "    gdf_copy22 = gdf_copy22.drop(columns=['index_right'], errors='ignore')\n",
    "    \n",
    "    # Perform spatial join on non-intersected bridges with buffered geometry\n",
    "    bridges_on_r_nonint = gpd.sjoin(non_intersected, gdf_copy22, how='left', predicate='intersects')\n",
    "    #print(\"Columns in bridges_on_r_nonint:\", bridges_on_r_nonint.columns)\n",
    "    \n",
    "    not_left_columns=[col for col in bridges_on_r_nonint.columns if  not(col.endswith('_left'))]\n",
    "    right_columns=[col for col in bridges_on_r_nonint.columns if (col.endswith('_right'))]\n",
    "    original_columns=[col for col in bridges_on_r_nonint.columns if not (col.endswith('_right')) and not (col.endswith('_left'))]\n",
    "    bridges_on_r_nonint =bridges_on_r_nonint[not_left_columns]\n",
    "    \n",
    "    \n",
    "    matching_dict=defaultdict()\n",
    "    for col in bridges_on_r_nonint.columns:\n",
    "        matching_dict[col]= col[:-6] if \"_right\" in col else col\n",
    "    bridges_on_r_nonint.rename(columns= matching_dict, inplace=True)\n",
    "    \n",
    "    #print(\"columsn after renaming\", bridges_on_r_nonint.columns)\n",
    "    # Concatenate the results (preserving only relevant columns)\n",
    "    bridges_on_rivers = pd.concat([bridges_on_r, bridges_on_r_nonint], ignore_index=True)\n",
    "    #print(\"Columns in bridges_on_rivers:\", bridges_on_rivers.columns)\n",
    "    \n",
    "    # Count and output the result\n",
    "    num_bridges_crossing_rivers = bridges_on_rivers.shape[0]\n",
    "    #print(f\"Number of bridges crossing rivers: {num_bridges_crossing_rivers}\")\n",
    "    \n",
    "    # Selecting columns without '_left' or '_right' suffixed names\n",
    "    relevant_columns = [col for col in bridges_on_rivers.columns if not (col.endswith('_left') or col.endswith('_right'))]\n",
    "    bridges_on_rivers = bridges_on_rivers[relevant_columns]\n",
    "    return bridges_on_rivers\n",
    "\n",
    "\n",
    "# Save the resulting GeoDataFrame (uncomment when needed)\n",
    "# bridges_on_rivers.to_file(\"/path/to/your/output/bridges_circle_on_rivers.shp\")\n"
   ]
  },
  {
   "cell_type": "code",
   "execution_count": 86,
   "metadata": {},
   "outputs": [
    {
     "name": "stdout",
     "output_type": "stream",
     "text": [
      "EPSG:4269\n",
      "Number of bridges crossing rivers: 9034\n"
     ]
    }
   ],
   "source": [
    "bridges_on_rivers=find_river_features(waterway_bridges, final_dataset, buffer_size=0.00025)"
   ]
  },
  {
   "cell_type": "code",
   "execution_count": 87,
   "metadata": {},
   "outputs": [
    {
     "data": {
      "text/plain": [
       "(Structure NBI Submittal ID       0\n",
       " Structure Length                 0\n",
       " Out to Out FT                    0\n",
       " Out to Out IN                    0\n",
       " Longitude Decimal Degree         0\n",
       " Latitude Decimal Degree          0\n",
       " Service Under                    0\n",
       " circle geometry                  0\n",
       " geometry                         0\n",
       " COMID                          908\n",
       " LENGTHKM                       908\n",
       " MAXELEVSMO                     908\n",
       " MINELEVSMO                     908\n",
       " SLOPE                          908\n",
       " SLOPELENKM                     908\n",
       " STREAMORDE                     908\n",
       " LEVELPATHI                     908\n",
       " PATHLENGTH                     908\n",
       " TERMINALPA                     908\n",
       " ARBOLATESU                     908\n",
       " DIVERGENCE                     908\n",
       " UPLEVELPAT                     908\n",
       " DNLEVELPAT                     908\n",
       " AREASQKM                       908\n",
       " TOTDASQKM                      908\n",
       " DIVDASQKM                      908\n",
       " HUC_8                          908\n",
       " HUC_10                         908\n",
       " HUC_12                         908\n",
       " cumDistance                    908\n",
       " cumMinElev                     908\n",
       " cumMaxElev                     908\n",
       " cumSlope                       908\n",
       " cumAveElev                     908\n",
       " HydroConn                      908\n",
       " cumArea                        908\n",
       " cumElev                        908\n",
       " index                         3087\n",
       " GEOMETRY                      3087\n",
       " dtype: int64,\n",
       " (9034, 39))"
      ]
     },
     "execution_count": 87,
     "metadata": {},
     "output_type": "execute_result"
    }
   ],
   "source": [
    "bridges_on_rivers.isnull().sum(), bridges_on_rivers.shape"
   ]
  },
  {
   "cell_type": "code",
   "execution_count": 88,
   "metadata": {},
   "outputs": [
    {
     "data": {
      "text/plain": [
       "0.0            52711\n",
       "550008686.0      619\n",
       "350002977.0      607\n",
       "550000017.0      581\n",
       "510004201.0      412\n",
       "               ...  \n",
       "550113855.0        1\n",
       "510112196.0        1\n",
       "350086729.0        1\n",
       "350086727.0        1\n",
       "390131026.0        1\n",
       "Name: UPLEVELPAT, Length: 20068, dtype: int64"
      ]
     },
     "execution_count": 88,
     "metadata": {},
     "output_type": "execute_result"
    }
   ],
   "source": [
    "final_dataset['UPLEVELPAT'].value_counts()"
   ]
  },
  {
   "cell_type": "code",
   "execution_count": 89,
   "metadata": {},
   "outputs": [],
   "source": [
    "bridges_on_rivers['GEOMETRY'].dropna(inplace=True)"
   ]
  },
  {
   "cell_type": "code",
   "execution_count": 90,
   "metadata": {},
   "outputs": [],
   "source": [
    "bridges_on_rivers.dropna(inplace=True)"
   ]
  },
  {
   "cell_type": "code",
   "execution_count": 91,
   "metadata": {},
   "outputs": [
    {
     "data": {
      "text/plain": [
       "Structure NBI Submittal ID    0\n",
       "Structure Length              0\n",
       "Out to Out FT                 0\n",
       "Out to Out IN                 0\n",
       "Longitude Decimal Degree      0\n",
       "Latitude Decimal Degree       0\n",
       "Service Under                 0\n",
       "circle geometry               0\n",
       "geometry                      0\n",
       "COMID                         0\n",
       "LENGTHKM                      0\n",
       "MAXELEVSMO                    0\n",
       "MINELEVSMO                    0\n",
       "SLOPE                         0\n",
       "SLOPELENKM                    0\n",
       "STREAMORDE                    0\n",
       "LEVELPATHI                    0\n",
       "PATHLENGTH                    0\n",
       "TERMINALPA                    0\n",
       "ARBOLATESU                    0\n",
       "DIVERGENCE                    0\n",
       "UPLEVELPAT                    0\n",
       "DNLEVELPAT                    0\n",
       "AREASQKM                      0\n",
       "TOTDASQKM                     0\n",
       "DIVDASQKM                     0\n",
       "HUC_8                         0\n",
       "HUC_10                        0\n",
       "HUC_12                        0\n",
       "cumDistance                   0\n",
       "cumMinElev                    0\n",
       "cumMaxElev                    0\n",
       "cumSlope                      0\n",
       "cumAveElev                    0\n",
       "HydroConn                     0\n",
       "cumArea                       0\n",
       "cumElev                       0\n",
       "index                         0\n",
       "GEOMETRY                      0\n",
       "dtype: int64"
      ]
     },
     "execution_count": 91,
     "metadata": {},
     "output_type": "execute_result"
    }
   ],
   "source": [
    "bridges_on_rivers.isnull().sum()"
   ]
  },
  {
   "cell_type": "code",
   "execution_count": 92,
   "metadata": {},
   "outputs": [
    {
     "name": "stdout",
     "output_type": "stream",
     "text": [
      "EPSG:4269\n",
      "Number of bridges crossing rivers: 9034\n",
      "number of notnull rows at this iteration 8126\n",
      "EPSG:4269\n",
      "Number of bridges crossing rivers: 908\n"
     ]
    }
   ],
   "source": [
    "cond=True\n",
    "buffer_size=0.00025\n",
    "count=0\n",
    "bridges_on_rivers=find_river_features(waterway_bridges, final_dataset, buffer_size)\n",
    "#notnull_bridges=notnull_bridges=bridges_on_rivers[bridges_on_rivers['COMID'].notna()]\n",
    "while bridges_on_rivers['COMID'].isnull().sum()!=0 and count<10:\n",
    "    null_bridges=bridges_on_rivers[bridges_on_rivers['COMID'].isna()]\n",
    "    notnull_bridges=bridges_on_rivers[bridges_on_rivers['COMID'].notna()]\n",
    "    print(\"number of notnull rows at this iteration\", len(notnull_bridges))\n",
    "    \n",
    "    null_bridges=null_bridges[[col for col in null_bridges.columns if col in waterway_bridges.columns]]\n",
    "    res=find_river_features(null_bridges, final_dataset, buffer_size)\n",
    "    bridges_on_rivers=pd.concat([res[res['COMID'].notna()], notnull_bridges], axis=0)\n",
    "    buffer_size*=2\n",
    "    count+=1\n",
    "    \n",
    "        \n",
    "\n",
    "\n",
    "            \n",
    "    "
   ]
  },
  {
   "cell_type": "code",
   "execution_count": 98,
   "metadata": {},
   "outputs": [
    {
     "data": {
      "text/plain": [
       "(Structure NBI Submittal ID       0\n",
       " Structure Length                 0\n",
       " Out to Out FT                    0\n",
       " Out to Out IN                    0\n",
       " Longitude Decimal Degree         0\n",
       " Latitude Decimal Degree          0\n",
       " Service Under                    0\n",
       " circle geometry                  0\n",
       " geometry                         0\n",
       " COMID                            0\n",
       " LENGTHKM                         0\n",
       " MAXELEVSMO                       0\n",
       " MINELEVSMO                       0\n",
       " SLOPE                            0\n",
       " SLOPELENKM                       0\n",
       " STREAMORDE                       0\n",
       " LEVELPATHI                       0\n",
       " PATHLENGTH                       0\n",
       " TERMINALPA                       0\n",
       " ARBOLATESU                       0\n",
       " DIVERGENCE                       0\n",
       " UPLEVELPAT                       0\n",
       " DNLEVELPAT                       0\n",
       " AREASQKM                         0\n",
       " TOTDASQKM                        0\n",
       " DIVDASQKM                        0\n",
       " HUC_8                            0\n",
       " HUC_10                           0\n",
       " HUC_12                           0\n",
       " cumDistance                      0\n",
       " cumMinElev                       0\n",
       " cumMaxElev                       0\n",
       " cumSlope                         0\n",
       " cumAveElev                       0\n",
       " HydroConn                        0\n",
       " cumArea                          0\n",
       " cumElev                          0\n",
       " index                         2179\n",
       " GEOMETRY                      2179\n",
       " dtype: int64,\n",
       " (8126, 39))"
      ]
     },
     "execution_count": 98,
     "metadata": {},
     "output_type": "execute_result"
    }
   ],
   "source": [
    "bridges_on_rivers.isnull().sum(), bridges_on_rivers.shape"
   ]
  },
  {
   "cell_type": "code",
   "execution_count": 99,
   "metadata": {},
   "outputs": [],
   "source": [
    "bridges_on_rivers=bridges_on_rivers[bridges_on_rivers['GEOMETRY'].notna()]"
   ]
  },
  {
   "cell_type": "code",
   "execution_count": 100,
   "metadata": {},
   "outputs": [
    {
     "data": {
      "text/plain": [
       "(5947, 39)"
      ]
     },
     "execution_count": 100,
     "metadata": {},
     "output_type": "execute_result"
    }
   ],
   "source": [
    "bridges_on_rivers.shape"
   ]
  },
  {
   "cell_type": "code",
   "execution_count": 101,
   "metadata": {},
   "outputs": [
    {
     "data": {
      "text/plain": [
       "Index(['Structure NBI Submittal ID', 'Structure Length', 'Out to Out FT',\n",
       "       'Out to Out IN', 'Longitude Decimal Degree', 'Latitude Decimal Degree',\n",
       "       'Service Under', 'circle geometry'],\n",
       "      dtype='object')"
      ]
     },
     "execution_count": 101,
     "metadata": {},
     "output_type": "execute_result"
    }
   ],
   "source": [
    "waterway_bridges.columns"
   ]
  },
  {
   "cell_type": "code",
   "execution_count": 103,
   "metadata": {},
   "outputs": [],
   "source": [
    "import datetime\n",
    "addon=datetime.datetime.now().strftime(\"%Y-%m-%d_%H-%M-%S\")\n",
    "bridges_on_rivers.to_excel(fr\"C:\\Users\\fsgg7\\Downloads\\gage_height_data\\updated_bridge{addon}.xlsx\")"
   ]
  },
  {
   "cell_type": "code",
   "execution_count": 104,
   "metadata": {},
   "outputs": [],
   "source": [
    "for col in bridges_on_rivers.columns:\n",
    "    if type(bridges_on_rivers[col])=='list':\n",
    "        bridges_on_rivers.drop(col,inplace=True)"
   ]
  },
  {
   "cell_type": "code",
   "execution_count": 105,
   "metadata": {},
   "outputs": [
    {
     "data": {
      "text/plain": [
       "39"
      ]
     },
     "execution_count": 105,
     "metadata": {},
     "output_type": "execute_result"
    }
   ],
   "source": [
    "len(bridges_on_rivers.columns)"
   ]
  },
  {
   "cell_type": "code",
   "execution_count": 106,
   "metadata": {},
   "outputs": [
    {
     "data": {
      "text/plain": [
       "5947"
      ]
     },
     "execution_count": 106,
     "metadata": {},
     "output_type": "execute_result"
    }
   ],
   "source": [
    "len(bridges_on_rivers)"
   ]
  },
  {
   "cell_type": "code",
   "execution_count": 107,
   "metadata": {},
   "outputs": [
    {
     "data": {
      "text/html": [
       "<div>\n",
       "<style scoped>\n",
       "    .dataframe tbody tr th:only-of-type {\n",
       "        vertical-align: middle;\n",
       "    }\n",
       "\n",
       "    .dataframe tbody tr th {\n",
       "        vertical-align: top;\n",
       "    }\n",
       "\n",
       "    .dataframe thead th {\n",
       "        text-align: right;\n",
       "    }\n",
       "</style>\n",
       "<table border=\"1\" class=\"dataframe\">\n",
       "  <thead>\n",
       "    <tr style=\"text-align: right;\">\n",
       "      <th></th>\n",
       "      <th>Structure NBI Submittal ID</th>\n",
       "      <th>Structure Length</th>\n",
       "      <th>Out to Out FT</th>\n",
       "      <th>Out to Out IN</th>\n",
       "      <th>Longitude Decimal Degree</th>\n",
       "      <th>Latitude Decimal Degree</th>\n",
       "      <th>Service Under</th>\n",
       "      <th>circle geometry</th>\n",
       "      <th>geometry</th>\n",
       "      <th>COMID</th>\n",
       "      <th>...</th>\n",
       "      <th>cumDistance</th>\n",
       "      <th>cumMinElev</th>\n",
       "      <th>cumMaxElev</th>\n",
       "      <th>cumSlope</th>\n",
       "      <th>cumAveElev</th>\n",
       "      <th>HydroConn</th>\n",
       "      <th>cumArea</th>\n",
       "      <th>cumElev</th>\n",
       "      <th>index</th>\n",
       "      <th>GEOMETRY</th>\n",
       "    </tr>\n",
       "  </thead>\n",
       "  <tbody>\n",
       "    <tr>\n",
       "      <th>2179</th>\n",
       "      <td>2993846</td>\n",
       "      <td>20.0</td>\n",
       "      <td>37</td>\n",
       "      <td>0</td>\n",
       "      <td>-95.082786</td>\n",
       "      <td>39.903044</td>\n",
       "      <td>WATERWAY</td>\n",
       "      <td>POLYGON ((-95.08277430914515 39.90304421005767...</td>\n",
       "      <td>POLYGON ((-95.08277 39.90304, -95.08277 39.903...</td>\n",
       "      <td>3703196.0</td>\n",
       "      <td>...</td>\n",
       "      <td>11.336</td>\n",
       "      <td>[32349.0, 27310.0, 25242.0, 25215.0, 25177.0]</td>\n",
       "      <td>[33266.0, 32349.0, 27310.0, 25242.0, 25215.0]</td>\n",
       "      <td>0.045073</td>\n",
       "      <td>[32807.5, 29829.5, 26276.0, 25228.5, 25196.0]</td>\n",
       "      <td>550136866.0</td>\n",
       "      <td>9.0297</td>\n",
       "      <td>139337.5</td>\n",
       "      <td>49231.0</td>\n",
       "      <td>LINESTRING Z (-95.08526 39.93081 0, -95.08526 ...</td>\n",
       "    </tr>\n",
       "    <tr>\n",
       "      <th>2180</th>\n",
       "      <td>3008078</td>\n",
       "      <td>106.9</td>\n",
       "      <td>28</td>\n",
       "      <td>6</td>\n",
       "      <td>-91.726222</td>\n",
       "      <td>37.176958</td>\n",
       "      <td>WATERWAY</td>\n",
       "      <td>POLYGON ((-91.72616180276388 37.17695735277365...</td>\n",
       "      <td>POLYGON ((-91.72616 37.17696, -91.72616 37.176...</td>\n",
       "      <td>7518581.0</td>\n",
       "      <td>...</td>\n",
       "      <td>7.821</td>\n",
       "      <td>[39380.0, 39083.0, 38301.0, 38155.0, 37496.0, ...</td>\n",
       "      <td>[42069.0, 39380.0, 39083.0, 38301.0, 38155.0, ...</td>\n",
       "      <td>0.053164</td>\n",
       "      <td>[40724.5, 39231.5, 38692.0, 38228.0, 37825.5, ...</td>\n",
       "      <td>390155583.0</td>\n",
       "      <td>7.0065</td>\n",
       "      <td>269220.5</td>\n",
       "      <td>124268.0</td>\n",
       "      <td>LINESTRING Z (-91.72656 37.17707 0, -91.72481 ...</td>\n",
       "    </tr>\n",
       "    <tr>\n",
       "      <th>2181</th>\n",
       "      <td>3008078</td>\n",
       "      <td>106.9</td>\n",
       "      <td>28</td>\n",
       "      <td>6</td>\n",
       "      <td>-91.726222</td>\n",
       "      <td>37.176958</td>\n",
       "      <td>WATERWAY</td>\n",
       "      <td>POLYGON ((-91.72616180276388 37.17695735277365...</td>\n",
       "      <td>POLYGON ((-91.72616 37.17696, -91.72616 37.176...</td>\n",
       "      <td>7518569.0</td>\n",
       "      <td>...</td>\n",
       "      <td>5.558</td>\n",
       "      <td>[39380.0, 39083.0, 38301.0, 38155.0, 37496.0, ...</td>\n",
       "      <td>[42069.0, 39380.0, 39083.0, 38301.0, 38155.0, ...</td>\n",
       "      <td>0.049501</td>\n",
       "      <td>[40724.5, 39231.5, 38692.0, 38228.0, 37825.5, ...</td>\n",
       "      <td>390155583.0</td>\n",
       "      <td>4.4118</td>\n",
       "      <td>232178.0</td>\n",
       "      <td>124269.0</td>\n",
       "      <td>LINESTRING Z (-91.72693 37.17709 0, -91.72656 ...</td>\n",
       "    </tr>\n",
       "    <tr>\n",
       "      <th>2182</th>\n",
       "      <td>3008078</td>\n",
       "      <td>106.9</td>\n",
       "      <td>28</td>\n",
       "      <td>6</td>\n",
       "      <td>-91.726222</td>\n",
       "      <td>37.176958</td>\n",
       "      <td>WATERWAY</td>\n",
       "      <td>POLYGON ((-91.72616180276388 37.17695735277365...</td>\n",
       "      <td>POLYGON ((-91.72616 37.17696, -91.72616 37.176...</td>\n",
       "      <td>7518567.0</td>\n",
       "      <td>...</td>\n",
       "      <td>5.558</td>\n",
       "      <td>[39380.0, 39083.0, 38301.0, 38155.0, 37496.0, ...</td>\n",
       "      <td>[42069.0, 39380.0, 39083.0, 38301.0, 38155.0, ...</td>\n",
       "      <td>0.049501</td>\n",
       "      <td>[40724.5, 39231.5, 38692.0, 38228.0, 37825.5, ...</td>\n",
       "      <td>390155583.0</td>\n",
       "      <td>4.4118</td>\n",
       "      <td>232178.0</td>\n",
       "      <td>124278.0</td>\n",
       "      <td>LINESTRING Z (-91.73138 37.18959 0, -91.73127 ...</td>\n",
       "    </tr>\n",
       "    <tr>\n",
       "      <th>2183</th>\n",
       "      <td>2993716</td>\n",
       "      <td>167.0</td>\n",
       "      <td>30</td>\n",
       "      <td>6</td>\n",
       "      <td>-94.771233</td>\n",
       "      <td>40.170506</td>\n",
       "      <td>WATERWAY</td>\n",
       "      <td>POLYGON ((-94.77113498127343 40.17050749990723...</td>\n",
       "      <td>POLYGON ((-94.77113 40.17051, -94.77114 40.170...</td>\n",
       "      <td>2528861.0</td>\n",
       "      <td>...</td>\n",
       "      <td>118.642</td>\n",
       "      <td>[35926.0, 35343.0, 34980.0, 34980.0, 34980.0, ...</td>\n",
       "      <td>[37392.0, 35926.0, 35343.0, 34980.0, 34980.0, ...</td>\n",
       "      <td>0.085844</td>\n",
       "      <td>[36659.0, 35634.5, 35161.5, 34980.0, 34980.0, ...</td>\n",
       "      <td>550130812.0</td>\n",
       "      <td>249.2073</td>\n",
       "      <td>2482874.0</td>\n",
       "      <td>52295.0</td>\n",
       "      <td>LINESTRING Z (-94.73328 40.43968 0, -94.73342 ...</td>\n",
       "    </tr>\n",
       "    <tr>\n",
       "      <th>...</th>\n",
       "      <td>...</td>\n",
       "      <td>...</td>\n",
       "      <td>...</td>\n",
       "      <td>...</td>\n",
       "      <td>...</td>\n",
       "      <td>...</td>\n",
       "      <td>...</td>\n",
       "      <td>...</td>\n",
       "      <td>...</td>\n",
       "      <td>...</td>\n",
       "      <td>...</td>\n",
       "      <td>...</td>\n",
       "      <td>...</td>\n",
       "      <td>...</td>\n",
       "      <td>...</td>\n",
       "      <td>...</td>\n",
       "      <td>...</td>\n",
       "      <td>...</td>\n",
       "      <td>...</td>\n",
       "      <td>...</td>\n",
       "      <td>...</td>\n",
       "    </tr>\n",
       "    <tr>\n",
       "      <th>9026</th>\n",
       "      <td>3014389</td>\n",
       "      <td>222.4</td>\n",
       "      <td>25</td>\n",
       "      <td>10</td>\n",
       "      <td>-92.125186</td>\n",
       "      <td>40.413981</td>\n",
       "      <td>WATERWAY</td>\n",
       "      <td>POLYGON ((-92.12505494813658 40.41398000830613...</td>\n",
       "      <td>POLYGON ((-92.12505 40.41398, -92.12506 40.413...</td>\n",
       "      <td>5017840.0</td>\n",
       "      <td>...</td>\n",
       "      <td>70.641</td>\n",
       "      <td>[28548.0, 26057.0, 26024.0, 25836.0, 25610.0, ...</td>\n",
       "      <td>[29226.0, 28548.0, 26057.0, 26024.0, 25836.0, ...</td>\n",
       "      <td>0.045102</td>\n",
       "      <td>[28887.0, 27302.5, 26040.5, 25930.0, 25723.0, ...</td>\n",
       "      <td>510137648.0</td>\n",
       "      <td>86.9580</td>\n",
       "      <td>808244.5</td>\n",
       "      <td>4796.0</td>\n",
       "      <td>LINESTRING Z (-92.14907 40.42704 0, -92.14775 ...</td>\n",
       "    </tr>\n",
       "    <tr>\n",
       "      <th>9027</th>\n",
       "      <td>3011094</td>\n",
       "      <td>227.0</td>\n",
       "      <td>41</td>\n",
       "      <td>11</td>\n",
       "      <td>-90.307578</td>\n",
       "      <td>37.522836</td>\n",
       "      <td>WATERWAY</td>\n",
       "      <td>POLYGON ((-90.30744969496999 37.52283307287981...</td>\n",
       "      <td>POLYGON ((-90.30745 37.52283, -90.30745 37.522...</td>\n",
       "      <td>731403.0</td>\n",
       "      <td>...</td>\n",
       "      <td>6.686</td>\n",
       "      <td>[26212.0, 24236.0, 23063.0, 22593.0, 21919.0]</td>\n",
       "      <td>[29819.0, 26212.0, 24236.0, 23063.0, 22593.0]</td>\n",
       "      <td>0.057101</td>\n",
       "      <td>[28015.5, 25224.0, 23649.5, 22828.0, 22256.0]</td>\n",
       "      <td>350106590.0</td>\n",
       "      <td>11.1879</td>\n",
       "      <td>121973.0</td>\n",
       "      <td>40847.0</td>\n",
       "      <td>LINESTRING Z (-90.30386 37.51916 0, -90.30398 ...</td>\n",
       "    </tr>\n",
       "    <tr>\n",
       "      <th>9031</th>\n",
       "      <td>2969367</td>\n",
       "      <td>75.1</td>\n",
       "      <td>46</td>\n",
       "      <td>6</td>\n",
       "      <td>-90.316431</td>\n",
       "      <td>38.139122</td>\n",
       "      <td>WATERWAY</td>\n",
       "      <td>POLYGON ((-90.31638819708132 38.13912102143752...</td>\n",
       "      <td>POLYGON ((-90.31639 38.13912, -90.31639 38.139...</td>\n",
       "      <td>3627859.0</td>\n",
       "      <td>...</td>\n",
       "      <td>5.316</td>\n",
       "      <td>[13431.0, 12498.0, 12447.0]</td>\n",
       "      <td>[18520.0, 13431.0, 12498.0]</td>\n",
       "      <td>0.027474</td>\n",
       "      <td>[15975.5, 12964.5, 12472.5]</td>\n",
       "      <td>510129776.0</td>\n",
       "      <td>4.0824</td>\n",
       "      <td>41412.5</td>\n",
       "      <td>19734.0</td>\n",
       "      <td>LINESTRING Z (-90.32206 38.13737 0, -90.32116 ...</td>\n",
       "    </tr>\n",
       "    <tr>\n",
       "      <th>9032</th>\n",
       "      <td>2997425</td>\n",
       "      <td>158.1</td>\n",
       "      <td>42</td>\n",
       "      <td>7</td>\n",
       "      <td>-93.892186</td>\n",
       "      <td>39.931844</td>\n",
       "      <td>WATERWAY</td>\n",
       "      <td>POLYGON ((-93.89209349505104 39.93184471181346...</td>\n",
       "      <td>POLYGON ((-93.89209 39.93184, -93.89209 39.931...</td>\n",
       "      <td>5106758.0</td>\n",
       "      <td>...</td>\n",
       "      <td>37.507</td>\n",
       "      <td>[27914.0, 26807.0, 26445.0, 26144.0, 25215.0, ...</td>\n",
       "      <td>[29420.0, 27914.0, 26807.0, 26445.0, 26144.0, ...</td>\n",
       "      <td>0.069525</td>\n",
       "      <td>[28667.0, 27360.5, 26626.0, 26294.5, 25679.5, ...</td>\n",
       "      <td>550141344.0</td>\n",
       "      <td>46.5516</td>\n",
       "      <td>646710.0</td>\n",
       "      <td>57678.0</td>\n",
       "      <td>LINESTRING Z (-93.89274 39.95007 0, -93.89297 ...</td>\n",
       "    </tr>\n",
       "    <tr>\n",
       "      <th>9033</th>\n",
       "      <td>2997427</td>\n",
       "      <td>88.6</td>\n",
       "      <td>42</td>\n",
       "      <td>7</td>\n",
       "      <td>-93.880656</td>\n",
       "      <td>39.931992</td>\n",
       "      <td>WATERWAY</td>\n",
       "      <td>POLYGON ((-93.8806041595089 39.931992393758975...</td>\n",
       "      <td>POLYGON ((-93.8806 39.93199, -93.8806 39.93199...</td>\n",
       "      <td>5106784.0</td>\n",
       "      <td>...</td>\n",
       "      <td>38.842</td>\n",
       "      <td>[27914.0, 26807.0, 26445.0, 26144.0, 25215.0, ...</td>\n",
       "      <td>[29420.0, 27914.0, 26807.0, 26445.0, 26144.0, ...</td>\n",
       "      <td>0.069535</td>\n",
       "      <td>[28667.0, 27360.5, 26626.0, 26294.5, 25679.5, ...</td>\n",
       "      <td>550141344.0</td>\n",
       "      <td>47.0340</td>\n",
       "      <td>668874.0</td>\n",
       "      <td>57660.0</td>\n",
       "      <td>LINESTRING Z (-93.87585 39.93977 0, -93.8765 3...</td>\n",
       "    </tr>\n",
       "  </tbody>\n",
       "</table>\n",
       "<p>5947 rows × 39 columns</p>\n",
       "</div>"
      ],
      "text/plain": [
       "      Structure NBI Submittal ID  Structure Length  Out to Out FT  \\\n",
       "2179                     2993846              20.0             37   \n",
       "2180                     3008078             106.9             28   \n",
       "2181                     3008078             106.9             28   \n",
       "2182                     3008078             106.9             28   \n",
       "2183                     2993716             167.0             30   \n",
       "...                          ...               ...            ...   \n",
       "9026                     3014389             222.4             25   \n",
       "9027                     3011094             227.0             41   \n",
       "9031                     2969367              75.1             46   \n",
       "9032                     2997425             158.1             42   \n",
       "9033                     2997427              88.6             42   \n",
       "\n",
       "      Out to Out IN  Longitude Decimal Degree  Latitude Decimal Degree  \\\n",
       "2179              0                -95.082786                39.903044   \n",
       "2180              6                -91.726222                37.176958   \n",
       "2181              6                -91.726222                37.176958   \n",
       "2182              6                -91.726222                37.176958   \n",
       "2183              6                -94.771233                40.170506   \n",
       "...             ...                       ...                      ...   \n",
       "9026             10                -92.125186                40.413981   \n",
       "9027             11                -90.307578                37.522836   \n",
       "9031              6                -90.316431                38.139122   \n",
       "9032              7                -93.892186                39.931844   \n",
       "9033              7                -93.880656                39.931992   \n",
       "\n",
       "     Service Under                                    circle geometry  \\\n",
       "2179      WATERWAY  POLYGON ((-95.08277430914515 39.90304421005767...   \n",
       "2180      WATERWAY  POLYGON ((-91.72616180276388 37.17695735277365...   \n",
       "2181      WATERWAY  POLYGON ((-91.72616180276388 37.17695735277365...   \n",
       "2182      WATERWAY  POLYGON ((-91.72616180276388 37.17695735277365...   \n",
       "2183      WATERWAY  POLYGON ((-94.77113498127343 40.17050749990723...   \n",
       "...            ...                                                ...   \n",
       "9026      WATERWAY  POLYGON ((-92.12505494813658 40.41398000830613...   \n",
       "9027      WATERWAY  POLYGON ((-90.30744969496999 37.52283307287981...   \n",
       "9031      WATERWAY  POLYGON ((-90.31638819708132 38.13912102143752...   \n",
       "9032      WATERWAY  POLYGON ((-93.89209349505104 39.93184471181346...   \n",
       "9033      WATERWAY  POLYGON ((-93.8806041595089 39.931992393758975...   \n",
       "\n",
       "                                               geometry      COMID  ...  \\\n",
       "2179  POLYGON ((-95.08277 39.90304, -95.08277 39.903...  3703196.0  ...   \n",
       "2180  POLYGON ((-91.72616 37.17696, -91.72616 37.176...  7518581.0  ...   \n",
       "2181  POLYGON ((-91.72616 37.17696, -91.72616 37.176...  7518569.0  ...   \n",
       "2182  POLYGON ((-91.72616 37.17696, -91.72616 37.176...  7518567.0  ...   \n",
       "2183  POLYGON ((-94.77113 40.17051, -94.77114 40.170...  2528861.0  ...   \n",
       "...                                                 ...        ...  ...   \n",
       "9026  POLYGON ((-92.12505 40.41398, -92.12506 40.413...  5017840.0  ...   \n",
       "9027  POLYGON ((-90.30745 37.52283, -90.30745 37.522...   731403.0  ...   \n",
       "9031  POLYGON ((-90.31639 38.13912, -90.31639 38.139...  3627859.0  ...   \n",
       "9032  POLYGON ((-93.89209 39.93184, -93.89209 39.931...  5106758.0  ...   \n",
       "9033  POLYGON ((-93.8806 39.93199, -93.8806 39.93199...  5106784.0  ...   \n",
       "\n",
       "      cumDistance                                         cumMinElev  \\\n",
       "2179       11.336      [32349.0, 27310.0, 25242.0, 25215.0, 25177.0]   \n",
       "2180        7.821  [39380.0, 39083.0, 38301.0, 38155.0, 37496.0, ...   \n",
       "2181        5.558  [39380.0, 39083.0, 38301.0, 38155.0, 37496.0, ...   \n",
       "2182        5.558  [39380.0, 39083.0, 38301.0, 38155.0, 37496.0, ...   \n",
       "2183      118.642  [35926.0, 35343.0, 34980.0, 34980.0, 34980.0, ...   \n",
       "...           ...                                                ...   \n",
       "9026       70.641  [28548.0, 26057.0, 26024.0, 25836.0, 25610.0, ...   \n",
       "9027        6.686      [26212.0, 24236.0, 23063.0, 22593.0, 21919.0]   \n",
       "9031        5.316                        [13431.0, 12498.0, 12447.0]   \n",
       "9032       37.507  [27914.0, 26807.0, 26445.0, 26144.0, 25215.0, ...   \n",
       "9033       38.842  [27914.0, 26807.0, 26445.0, 26144.0, 25215.0, ...   \n",
       "\n",
       "                                             cumMaxElev  cumSlope  \\\n",
       "2179      [33266.0, 32349.0, 27310.0, 25242.0, 25215.0]  0.045073   \n",
       "2180  [42069.0, 39380.0, 39083.0, 38301.0, 38155.0, ...  0.053164   \n",
       "2181  [42069.0, 39380.0, 39083.0, 38301.0, 38155.0, ...  0.049501   \n",
       "2182  [42069.0, 39380.0, 39083.0, 38301.0, 38155.0, ...  0.049501   \n",
       "2183  [37392.0, 35926.0, 35343.0, 34980.0, 34980.0, ...  0.085844   \n",
       "...                                                 ...       ...   \n",
       "9026  [29226.0, 28548.0, 26057.0, 26024.0, 25836.0, ...  0.045102   \n",
       "9027      [29819.0, 26212.0, 24236.0, 23063.0, 22593.0]  0.057101   \n",
       "9031                        [18520.0, 13431.0, 12498.0]  0.027474   \n",
       "9032  [29420.0, 27914.0, 26807.0, 26445.0, 26144.0, ...  0.069525   \n",
       "9033  [29420.0, 27914.0, 26807.0, 26445.0, 26144.0, ...  0.069535   \n",
       "\n",
       "                                             cumAveElev    HydroConn  \\\n",
       "2179      [32807.5, 29829.5, 26276.0, 25228.5, 25196.0]  550136866.0   \n",
       "2180  [40724.5, 39231.5, 38692.0, 38228.0, 37825.5, ...  390155583.0   \n",
       "2181  [40724.5, 39231.5, 38692.0, 38228.0, 37825.5, ...  390155583.0   \n",
       "2182  [40724.5, 39231.5, 38692.0, 38228.0, 37825.5, ...  390155583.0   \n",
       "2183  [36659.0, 35634.5, 35161.5, 34980.0, 34980.0, ...  550130812.0   \n",
       "...                                                 ...          ...   \n",
       "9026  [28887.0, 27302.5, 26040.5, 25930.0, 25723.0, ...  510137648.0   \n",
       "9027      [28015.5, 25224.0, 23649.5, 22828.0, 22256.0]  350106590.0   \n",
       "9031                        [15975.5, 12964.5, 12472.5]  510129776.0   \n",
       "9032  [28667.0, 27360.5, 26626.0, 26294.5, 25679.5, ...  550141344.0   \n",
       "9033  [28667.0, 27360.5, 26626.0, 26294.5, 25679.5, ...  550141344.0   \n",
       "\n",
       "       cumArea    cumElev     index  \\\n",
       "2179    9.0297   139337.5   49231.0   \n",
       "2180    7.0065   269220.5  124268.0   \n",
       "2181    4.4118   232178.0  124269.0   \n",
       "2182    4.4118   232178.0  124278.0   \n",
       "2183  249.2073  2482874.0   52295.0   \n",
       "...        ...        ...       ...   \n",
       "9026   86.9580   808244.5    4796.0   \n",
       "9027   11.1879   121973.0   40847.0   \n",
       "9031    4.0824    41412.5   19734.0   \n",
       "9032   46.5516   646710.0   57678.0   \n",
       "9033   47.0340   668874.0   57660.0   \n",
       "\n",
       "                                               GEOMETRY  \n",
       "2179  LINESTRING Z (-95.08526 39.93081 0, -95.08526 ...  \n",
       "2180  LINESTRING Z (-91.72656 37.17707 0, -91.72481 ...  \n",
       "2181  LINESTRING Z (-91.72693 37.17709 0, -91.72656 ...  \n",
       "2182  LINESTRING Z (-91.73138 37.18959 0, -91.73127 ...  \n",
       "2183  LINESTRING Z (-94.73328 40.43968 0, -94.73342 ...  \n",
       "...                                                 ...  \n",
       "9026  LINESTRING Z (-92.14907 40.42704 0, -92.14775 ...  \n",
       "9027  LINESTRING Z (-90.30386 37.51916 0, -90.30398 ...  \n",
       "9031  LINESTRING Z (-90.32206 38.13737 0, -90.32116 ...  \n",
       "9032  LINESTRING Z (-93.89274 39.95007 0, -93.89297 ...  \n",
       "9033  LINESTRING Z (-93.87585 39.93977 0, -93.8765 3...  \n",
       "\n",
       "[5947 rows x 39 columns]"
      ]
     },
     "execution_count": 107,
     "metadata": {},
     "output_type": "execute_result"
    }
   ],
   "source": [
    "bridges_on_rivers"
   ]
  },
  {
   "cell_type": "code",
   "execution_count": 109,
   "metadata": {},
   "outputs": [],
   "source": [
    "bridges_on_rivers.to_csv(r\"C:\\Users\\fsgg7\\Downloads\\gage_height_data\\bridges_on_rivers_9_23_2024.csv\")"
   ]
  },
  {
   "cell_type": "code",
   "execution_count": 336,
   "metadata": {},
   "outputs": [],
   "source": [
    "gage_gdf.to_file(r\"C:\\Users\\fsgg7\\Downloads\\gage_height_data\\gages.shp\")"
   ]
  },
  {
   "cell_type": "code",
   "execution_count": 121,
   "metadata": {},
   "outputs": [
    {
     "data": {
      "text/plain": [
       "2179"
      ]
     },
     "execution_count": 121,
     "metadata": {},
     "output_type": "execute_result"
    }
   ],
   "source": [
    "len(bridges_on_rivers)"
   ]
  },
  {
   "cell_type": "code",
   "execution_count": 110,
   "metadata": {},
   "outputs": [],
   "source": [
    "dfaf=pd.read_csv(r\"C:\\Users\\fsgg7\\Downloads\\gage_height_data\\gage_height_2014_2024_appliedUniform.csv\")"
   ]
  },
  {
   "cell_type": "code",
   "execution_count": 111,
   "metadata": {},
   "outputs": [
    {
     "data": {
      "text/plain": [
       "(245, True)"
      ]
     },
     "execution_count": 111,
     "metadata": {},
     "output_type": "execute_result"
    }
   ],
   "source": [
    "dfaf.columns.nunique(),dfaf.columns.nunique()==len(dfaf.columns)"
   ]
  },
  {
   "cell_type": "markdown",
   "metadata": {},
   "source": [
    "gages = ['05514840', '05514860', '06818000', '06893750', '06935755', '06935770',\n",
    "         '06935830', '06935850', '06935890', '06935955', '06935980', '06935997',\n",
    "         '06936475', '06936530', '07001960', '07005000', '07010022', '07010030',\n",
    "         '07010035', '07010038', '07010040', '07010055', '07010061', '07010070',\n",
    "         '07010075', '07010082', '07010088', '07010090', '07010094', '07010097',\n",
    "         '07010180', '07010208', '07019072', '07019090', '07019120', '07019150',\n",
    "         '07019175', '07019185', '07019195', '07019220', '07019317', '07019500',\n",
    "         '07050152', '07052152', '07053690', '07053710', '07053810']\n",
    "print(len(gages))"
   ]
  },
  {
   "cell_type": "code",
   "execution_count": 112,
   "metadata": {},
   "outputs": [],
   "source": [
    "gages=dfaf.columns"
   ]
  },
  {
   "cell_type": "markdown",
   "metadata": {},
   "source": [
    "### getting gage coordinates"
   ]
  },
  {
   "cell_type": "code",
   "execution_count": 113,
   "metadata": {},
   "outputs": [
    {
     "name": "stdout",
     "output_type": "stream",
     "text": [
      "gage with site number dateTime is missing\n"
     ]
    }
   ],
   "source": [
    "import requests\n",
    "import geopandas as gpd\n",
    "import pandas as pd\n",
    "from shapely.geometry import Point\n",
    "import warnings\n",
    "import geopandas as gpd\n",
    "gages=dfaf.columns\n",
    "# Suppress warnings\n",
    "warnings.filterwarnings(\"ignore\", category=RuntimeWarning)\n",
    "\n",
    "# List of USGS gage site numbers\n",
    "# Function to get latitude and longitude using USGS API\n",
    "def get_gage_coordinates(gage_id):\n",
    "    url = f'https://waterservices.usgs.gov/nwis/site/?format=rdb&sites={gage_id}&siteOutput=expanded&siteStatus=active'\n",
    "    response = requests.get(url)\n",
    "\n",
    "    if response.status_code == 200:\n",
    "        lines = response.text.splitlines()\n",
    "\n",
    "        headers = None\n",
    "        lat_idx = long_idx = None\n",
    "\n",
    "        for i, line in enumerate(lines):\n",
    "            if line.startswith(\"#\"):\n",
    "                continue\n",
    "            if headers is None:  # Header line\n",
    "                headers = line.split('\\t')\n",
    "                if 'dec_lat_va' in headers and 'dec_long_va' in headers:\n",
    "                    lat_idx = headers.index('dec_lat_va')\n",
    "                    long_idx = headers.index('dec_long_va')\n",
    "            else:  # Data line\n",
    "                data = line.split('\\t')\n",
    "                if len(data) > max(lat_idx, long_idx):\n",
    "                    try:\n",
    "                        latitude = float(data[lat_idx])\n",
    "                        longitude = float(data[long_idx])\n",
    "                        return longitude, latitude\n",
    "                    except ValueError:\n",
    "                        continue\n",
    "    return None, None\n",
    "\n",
    "# Retrieve coordinates for all gages\n",
    "coordinates = []\n",
    "for gage in gages:\n",
    "    longitude, latitude = get_gage_coordinates(gage)\n",
    "    if longitude is not None and latitude is not None:\n",
    "        coordinates.append({'site_no': gage, 'longitude': longitude, 'latitude': latitude})\n",
    "    else:\n",
    "        print(f\"gage with site number {gage} is missing\")\n",
    "# Create a GeoDataFrame from the gage coordinates\n",
    "if coordinates:\n",
    "    gage_df = pd.DataFrame(coordinates)\n",
    "    geometry = [Point(xy) for xy in zip(gage_df['longitude'], gage_df['latitude'])]\n",
    "    gage_gdf = gpd.GeoDataFrame(gage_df, geometry=geometry, crs=finaal_dataset.crs)  # Assuming WGS 84\n",
    "    gage_gdf.set_geometry('geometry')\n",
    "    # Load the river data (assuming it's a shapefile with EPSG:4326 CRS)\n",
    "    \n",
    "\n",
    "    # Re-project both GeoDataFrames to a suitable projected CRS\n",
    "    if final_dataset.crs != gage_gdf.crs:\n",
    "\n",
    "        gage_gdf = gage_gdf.to_crs(finaal_dataset.crs)\n",
    "    gdf_copy3=final_dataset.copy()\n",
    "    gdf_copy3.reset_index(drop=True, inplace=True)\n",
    "    gdf_copy3=gdf_copy3.set_geometry('GEOMETRY')\n",
    "    # Buffer the rivers and gages\n",
    "    #gdf_copy3['GEOMETRY'] = finaal_dataset.buffer(0.00512)  # Buffer size in meters\n",
    "    #gage_gdf['geometry'] = gage_gdf.buffer(0.001225)  # Buffer size in meters\n",
    "\n",
    "    # Perform intersection of buffered gages with rivers\n",
    "  "
   ]
  },
  {
   "cell_type": "code",
   "execution_count": 114,
   "metadata": {},
   "outputs": [
    {
     "data": {
      "text/html": [
       "<div>\n",
       "<style scoped>\n",
       "    .dataframe tbody tr th:only-of-type {\n",
       "        vertical-align: middle;\n",
       "    }\n",
       "\n",
       "    .dataframe tbody tr th {\n",
       "        vertical-align: top;\n",
       "    }\n",
       "\n",
       "    .dataframe thead th {\n",
       "        text-align: right;\n",
       "    }\n",
       "</style>\n",
       "<table border=\"1\" class=\"dataframe\">\n",
       "  <thead>\n",
       "    <tr style=\"text-align: right;\">\n",
       "      <th></th>\n",
       "      <th>site_no</th>\n",
       "      <th>longitude</th>\n",
       "      <th>latitude</th>\n",
       "      <th>geometry</th>\n",
       "    </tr>\n",
       "  </thead>\n",
       "  <tbody>\n",
       "    <tr>\n",
       "      <th>0</th>\n",
       "      <td>05490600</td>\n",
       "      <td>-91.566964</td>\n",
       "      <td>40.462408</td>\n",
       "      <td>POINT (-91.56696 40.46241)</td>\n",
       "    </tr>\n",
       "    <tr>\n",
       "      <th>1</th>\n",
       "      <td>05495000</td>\n",
       "      <td>-91.597889</td>\n",
       "      <td>40.392417</td>\n",
       "      <td>POINT (-91.59789 40.39242)</td>\n",
       "    </tr>\n",
       "    <tr>\n",
       "      <th>2</th>\n",
       "      <td>05496000</td>\n",
       "      <td>-91.565694</td>\n",
       "      <td>40.142111</td>\n",
       "      <td>POINT (-91.56569 40.14211)</td>\n",
       "    </tr>\n",
       "    <tr>\n",
       "      <th>3</th>\n",
       "      <td>05497150</td>\n",
       "      <td>-91.622342</td>\n",
       "      <td>40.018903</td>\n",
       "      <td>POINT (-91.62234 40.0189)</td>\n",
       "    </tr>\n",
       "    <tr>\n",
       "      <th>4</th>\n",
       "      <td>05498150</td>\n",
       "      <td>-91.705718</td>\n",
       "      <td>40.028933</td>\n",
       "      <td>POINT (-91.70572 40.02893)</td>\n",
       "    </tr>\n",
       "    <tr>\n",
       "      <th>...</th>\n",
       "      <td>...</td>\n",
       "      <td>...</td>\n",
       "      <td>...</td>\n",
       "      <td>...</td>\n",
       "    </tr>\n",
       "    <tr>\n",
       "      <th>239</th>\n",
       "      <td>07188653</td>\n",
       "      <td>-94.182222</td>\n",
       "      <td>36.615861</td>\n",
       "      <td>POINT (-94.18222 36.61586)</td>\n",
       "    </tr>\n",
       "    <tr>\n",
       "      <th>240</th>\n",
       "      <td>07188838</td>\n",
       "      <td>-94.372972</td>\n",
       "      <td>36.584056</td>\n",
       "      <td>POINT (-94.37297 36.58406)</td>\n",
       "    </tr>\n",
       "    <tr>\n",
       "      <th>241</th>\n",
       "      <td>07188885</td>\n",
       "      <td>-94.449639</td>\n",
       "      <td>36.599278</td>\n",
       "      <td>POINT (-94.44964 36.59928)</td>\n",
       "    </tr>\n",
       "    <tr>\n",
       "      <th>242</th>\n",
       "      <td>07189000</td>\n",
       "      <td>-94.586889</td>\n",
       "      <td>36.631461</td>\n",
       "      <td>POINT (-94.58689 36.63146)</td>\n",
       "    </tr>\n",
       "    <tr>\n",
       "      <th>243</th>\n",
       "      <td>07189100</td>\n",
       "      <td>-94.604000</td>\n",
       "      <td>36.670806</td>\n",
       "      <td>POINT (-94.604 36.67081)</td>\n",
       "    </tr>\n",
       "  </tbody>\n",
       "</table>\n",
       "<p>244 rows × 4 columns</p>\n",
       "</div>"
      ],
      "text/plain": [
       "      site_no  longitude   latitude                    geometry\n",
       "0    05490600 -91.566964  40.462408  POINT (-91.56696 40.46241)\n",
       "1    05495000 -91.597889  40.392417  POINT (-91.59789 40.39242)\n",
       "2    05496000 -91.565694  40.142111  POINT (-91.56569 40.14211)\n",
       "3    05497150 -91.622342  40.018903   POINT (-91.62234 40.0189)\n",
       "4    05498150 -91.705718  40.028933  POINT (-91.70572 40.02893)\n",
       "..        ...        ...        ...                         ...\n",
       "239  07188653 -94.182222  36.615861  POINT (-94.18222 36.61586)\n",
       "240  07188838 -94.372972  36.584056  POINT (-94.37297 36.58406)\n",
       "241  07188885 -94.449639  36.599278  POINT (-94.44964 36.59928)\n",
       "242  07189000 -94.586889  36.631461  POINT (-94.58689 36.63146)\n",
       "243  07189100 -94.604000  36.670806    POINT (-94.604 36.67081)\n",
       "\n",
       "[244 rows x 4 columns]"
      ]
     },
     "execution_count": 114,
     "metadata": {},
     "output_type": "execute_result"
    }
   ],
   "source": [
    "gage_gdf"
   ]
  },
  {
   "cell_type": "code",
   "execution_count": 115,
   "metadata": {},
   "outputs": [
    {
     "data": {
      "text/plain": [
       "(244, 245)"
      ]
     },
     "execution_count": 115,
     "metadata": {},
     "output_type": "execute_result"
    }
   ],
   "source": [
    "len(gage_gdf),len(dfaf.columns)"
   ]
  },
  {
   "cell_type": "code",
   "execution_count": 116,
   "metadata": {},
   "outputs": [
    {
     "data": {
      "text/html": [
       "<div>\n",
       "<style scoped>\n",
       "    .dataframe tbody tr th:only-of-type {\n",
       "        vertical-align: middle;\n",
       "    }\n",
       "\n",
       "    .dataframe tbody tr th {\n",
       "        vertical-align: top;\n",
       "    }\n",
       "\n",
       "    .dataframe thead th {\n",
       "        text-align: right;\n",
       "    }\n",
       "</style>\n",
       "<table border=\"1\" class=\"dataframe\">\n",
       "  <thead>\n",
       "    <tr style=\"text-align: right;\">\n",
       "      <th></th>\n",
       "      <th>site_no</th>\n",
       "      <th>longitude</th>\n",
       "      <th>latitude</th>\n",
       "      <th>geometry</th>\n",
       "    </tr>\n",
       "  </thead>\n",
       "  <tbody>\n",
       "    <tr>\n",
       "      <th>0</th>\n",
       "      <td>05490600</td>\n",
       "      <td>-91.566964</td>\n",
       "      <td>40.462408</td>\n",
       "      <td>POINT (-91.56696 40.46241)</td>\n",
       "    </tr>\n",
       "    <tr>\n",
       "      <th>1</th>\n",
       "      <td>05495000</td>\n",
       "      <td>-91.597889</td>\n",
       "      <td>40.392417</td>\n",
       "      <td>POINT (-91.59789 40.39242)</td>\n",
       "    </tr>\n",
       "    <tr>\n",
       "      <th>2</th>\n",
       "      <td>05496000</td>\n",
       "      <td>-91.565694</td>\n",
       "      <td>40.142111</td>\n",
       "      <td>POINT (-91.56569 40.14211)</td>\n",
       "    </tr>\n",
       "    <tr>\n",
       "      <th>3</th>\n",
       "      <td>05497150</td>\n",
       "      <td>-91.622342</td>\n",
       "      <td>40.018903</td>\n",
       "      <td>POINT (-91.62234 40.0189)</td>\n",
       "    </tr>\n",
       "    <tr>\n",
       "      <th>4</th>\n",
       "      <td>05498150</td>\n",
       "      <td>-91.705718</td>\n",
       "      <td>40.028933</td>\n",
       "      <td>POINT (-91.70572 40.02893)</td>\n",
       "    </tr>\n",
       "    <tr>\n",
       "      <th>...</th>\n",
       "      <td>...</td>\n",
       "      <td>...</td>\n",
       "      <td>...</td>\n",
       "      <td>...</td>\n",
       "    </tr>\n",
       "    <tr>\n",
       "      <th>239</th>\n",
       "      <td>07188653</td>\n",
       "      <td>-94.182222</td>\n",
       "      <td>36.615861</td>\n",
       "      <td>POINT (-94.18222 36.61586)</td>\n",
       "    </tr>\n",
       "    <tr>\n",
       "      <th>240</th>\n",
       "      <td>07188838</td>\n",
       "      <td>-94.372972</td>\n",
       "      <td>36.584056</td>\n",
       "      <td>POINT (-94.37297 36.58406)</td>\n",
       "    </tr>\n",
       "    <tr>\n",
       "      <th>241</th>\n",
       "      <td>07188885</td>\n",
       "      <td>-94.449639</td>\n",
       "      <td>36.599278</td>\n",
       "      <td>POINT (-94.44964 36.59928)</td>\n",
       "    </tr>\n",
       "    <tr>\n",
       "      <th>242</th>\n",
       "      <td>07189000</td>\n",
       "      <td>-94.586889</td>\n",
       "      <td>36.631461</td>\n",
       "      <td>POINT (-94.58689 36.63146)</td>\n",
       "    </tr>\n",
       "    <tr>\n",
       "      <th>243</th>\n",
       "      <td>07189100</td>\n",
       "      <td>-94.604000</td>\n",
       "      <td>36.670806</td>\n",
       "      <td>POINT (-94.604 36.67081)</td>\n",
       "    </tr>\n",
       "  </tbody>\n",
       "</table>\n",
       "<p>244 rows × 4 columns</p>\n",
       "</div>"
      ],
      "text/plain": [
       "      site_no  longitude   latitude                    geometry\n",
       "0    05490600 -91.566964  40.462408  POINT (-91.56696 40.46241)\n",
       "1    05495000 -91.597889  40.392417  POINT (-91.59789 40.39242)\n",
       "2    05496000 -91.565694  40.142111  POINT (-91.56569 40.14211)\n",
       "3    05497150 -91.622342  40.018903   POINT (-91.62234 40.0189)\n",
       "4    05498150 -91.705718  40.028933  POINT (-91.70572 40.02893)\n",
       "..        ...        ...        ...                         ...\n",
       "239  07188653 -94.182222  36.615861  POINT (-94.18222 36.61586)\n",
       "240  07188838 -94.372972  36.584056  POINT (-94.37297 36.58406)\n",
       "241  07188885 -94.449639  36.599278  POINT (-94.44964 36.59928)\n",
       "242  07189000 -94.586889  36.631461  POINT (-94.58689 36.63146)\n",
       "243  07189100 -94.604000  36.670806    POINT (-94.604 36.67081)\n",
       "\n",
       "[244 rows x 4 columns]"
      ]
     },
     "execution_count": 116,
     "metadata": {},
     "output_type": "execute_result"
    }
   ],
   "source": [
    "gage_gdf"
   ]
  },
  {
   "cell_type": "code",
   "execution_count": 117,
   "metadata": {},
   "outputs": [
    {
     "data": {
      "text/html": [
       "<div>\n",
       "<style scoped>\n",
       "    .dataframe tbody tr th:only-of-type {\n",
       "        vertical-align: middle;\n",
       "    }\n",
       "\n",
       "    .dataframe tbody tr th {\n",
       "        vertical-align: top;\n",
       "    }\n",
       "\n",
       "    .dataframe thead th {\n",
       "        text-align: right;\n",
       "    }\n",
       "</style>\n",
       "<table border=\"1\" class=\"dataframe\">\n",
       "  <thead>\n",
       "    <tr style=\"text-align: right;\">\n",
       "      <th></th>\n",
       "      <th>dateTime</th>\n",
       "      <th>05490600</th>\n",
       "      <th>05495000</th>\n",
       "      <th>05496000</th>\n",
       "      <th>05497150</th>\n",
       "      <th>05498150</th>\n",
       "      <th>05498700</th>\n",
       "      <th>05500000</th>\n",
       "      <th>05501000</th>\n",
       "      <th>05502000</th>\n",
       "      <th>...</th>\n",
       "      <th>07185700</th>\n",
       "      <th>07185765</th>\n",
       "      <th>07185910</th>\n",
       "      <th>07186000</th>\n",
       "      <th>07187000</th>\n",
       "      <th>07188653</th>\n",
       "      <th>07188838</th>\n",
       "      <th>07188885</th>\n",
       "      <th>07189000</th>\n",
       "      <th>07189100</th>\n",
       "    </tr>\n",
       "  </thead>\n",
       "  <tbody>\n",
       "    <tr>\n",
       "      <th>0</th>\n",
       "      <td>2014-01-01 00:00:00+00:00</td>\n",
       "      <td>9.795132</td>\n",
       "      <td>1.655373</td>\n",
       "      <td>2.762714</td>\n",
       "      <td>3.344028</td>\n",
       "      <td>3.157778</td>\n",
       "      <td>3.334722</td>\n",
       "      <td>1.635694</td>\n",
       "      <td>3.778750</td>\n",
       "      <td>2.672143</td>\n",
       "      <td>...</td>\n",
       "      <td>2.079861</td>\n",
       "      <td>3.695217</td>\n",
       "      <td>3.393333</td>\n",
       "      <td>2.450972</td>\n",
       "      <td>2.715556</td>\n",
       "      <td>4.609861</td>\n",
       "      <td>3.495915</td>\n",
       "      <td>1.900278</td>\n",
       "      <td>4.412083</td>\n",
       "      <td>2.979118</td>\n",
       "    </tr>\n",
       "    <tr>\n",
       "      <th>1</th>\n",
       "      <td>2014-01-02 00:00:00+00:00</td>\n",
       "      <td>9.795132</td>\n",
       "      <td>1.655373</td>\n",
       "      <td>2.762714</td>\n",
       "      <td>3.344028</td>\n",
       "      <td>3.153333</td>\n",
       "      <td>3.353958</td>\n",
       "      <td>1.635694</td>\n",
       "      <td>3.764783</td>\n",
       "      <td>2.692609</td>\n",
       "      <td>...</td>\n",
       "      <td>2.055312</td>\n",
       "      <td>3.675889</td>\n",
       "      <td>3.366042</td>\n",
       "      <td>2.410978</td>\n",
       "      <td>2.694167</td>\n",
       "      <td>4.581979</td>\n",
       "      <td>3.453333</td>\n",
       "      <td>1.873125</td>\n",
       "      <td>4.340521</td>\n",
       "      <td>2.961279</td>\n",
       "    </tr>\n",
       "    <tr>\n",
       "      <th>2</th>\n",
       "      <td>2014-01-03 00:00:00+00:00</td>\n",
       "      <td>9.795132</td>\n",
       "      <td>1.655373</td>\n",
       "      <td>2.762714</td>\n",
       "      <td>3.344028</td>\n",
       "      <td>3.151354</td>\n",
       "      <td>3.336413</td>\n",
       "      <td>1.648625</td>\n",
       "      <td>3.623636</td>\n",
       "      <td>2.747660</td>\n",
       "      <td>...</td>\n",
       "      <td>2.014063</td>\n",
       "      <td>3.634842</td>\n",
       "      <td>3.253229</td>\n",
       "      <td>2.345978</td>\n",
       "      <td>2.652917</td>\n",
       "      <td>4.541042</td>\n",
       "      <td>3.400989</td>\n",
       "      <td>1.832500</td>\n",
       "      <td>4.257191</td>\n",
       "      <td>2.934891</td>\n",
       "    </tr>\n",
       "    <tr>\n",
       "      <th>3</th>\n",
       "      <td>2014-01-04 00:00:00+00:00</td>\n",
       "      <td>9.795132</td>\n",
       "      <td>1.655373</td>\n",
       "      <td>2.762714</td>\n",
       "      <td>3.344028</td>\n",
       "      <td>3.133125</td>\n",
       "      <td>3.318854</td>\n",
       "      <td>1.657917</td>\n",
       "      <td>3.661458</td>\n",
       "      <td>2.772211</td>\n",
       "      <td>...</td>\n",
       "      <td>1.993229</td>\n",
       "      <td>3.611236</td>\n",
       "      <td>3.220625</td>\n",
       "      <td>2.295417</td>\n",
       "      <td>2.620417</td>\n",
       "      <td>4.517917</td>\n",
       "      <td>3.358864</td>\n",
       "      <td>1.804062</td>\n",
       "      <td>4.179136</td>\n",
       "      <td>2.917766</td>\n",
       "    </tr>\n",
       "    <tr>\n",
       "      <th>4</th>\n",
       "      <td>2014-01-05 00:00:00+00:00</td>\n",
       "      <td>9.795132</td>\n",
       "      <td>1.655373</td>\n",
       "      <td>2.762714</td>\n",
       "      <td>3.344028</td>\n",
       "      <td>3.149167</td>\n",
       "      <td>3.317917</td>\n",
       "      <td>1.670556</td>\n",
       "      <td>3.795000</td>\n",
       "      <td>2.759375</td>\n",
       "      <td>...</td>\n",
       "      <td>1.995417</td>\n",
       "      <td>3.611444</td>\n",
       "      <td>3.244167</td>\n",
       "      <td>2.276458</td>\n",
       "      <td>2.629583</td>\n",
       "      <td>4.518542</td>\n",
       "      <td>3.363579</td>\n",
       "      <td>1.808523</td>\n",
       "      <td>4.159367</td>\n",
       "      <td>2.909667</td>\n",
       "    </tr>\n",
       "    <tr>\n",
       "      <th>...</th>\n",
       "      <td>...</td>\n",
       "      <td>...</td>\n",
       "      <td>...</td>\n",
       "      <td>...</td>\n",
       "      <td>...</td>\n",
       "      <td>...</td>\n",
       "      <td>...</td>\n",
       "      <td>...</td>\n",
       "      <td>...</td>\n",
       "      <td>...</td>\n",
       "      <td>...</td>\n",
       "      <td>...</td>\n",
       "      <td>...</td>\n",
       "      <td>...</td>\n",
       "      <td>...</td>\n",
       "      <td>...</td>\n",
       "      <td>...</td>\n",
       "      <td>...</td>\n",
       "      <td>...</td>\n",
       "      <td>...</td>\n",
       "      <td>...</td>\n",
       "    </tr>\n",
       "    <tr>\n",
       "      <th>3649</th>\n",
       "      <td>2023-12-29 00:00:00+00:00</td>\n",
       "      <td>6.287500</td>\n",
       "      <td>2.265417</td>\n",
       "      <td>3.185326</td>\n",
       "      <td>3.454545</td>\n",
       "      <td>3.987375</td>\n",
       "      <td>2.894479</td>\n",
       "      <td>1.643646</td>\n",
       "      <td>3.999792</td>\n",
       "      <td>3.169063</td>\n",
       "      <td>...</td>\n",
       "      <td>1.754706</td>\n",
       "      <td>3.398438</td>\n",
       "      <td>3.893646</td>\n",
       "      <td>2.442500</td>\n",
       "      <td>2.211364</td>\n",
       "      <td>5.833542</td>\n",
       "      <td>3.732188</td>\n",
       "      <td>1.945109</td>\n",
       "      <td>4.830417</td>\n",
       "      <td>3.062708</td>\n",
       "    </tr>\n",
       "    <tr>\n",
       "      <th>3650</th>\n",
       "      <td>2023-12-30 00:00:00+00:00</td>\n",
       "      <td>6.626875</td>\n",
       "      <td>2.166042</td>\n",
       "      <td>3.148229</td>\n",
       "      <td>3.404271</td>\n",
       "      <td>3.849565</td>\n",
       "      <td>2.931354</td>\n",
       "      <td>1.917500</td>\n",
       "      <td>3.974896</td>\n",
       "      <td>3.145104</td>\n",
       "      <td>...</td>\n",
       "      <td>1.716667</td>\n",
       "      <td>3.352500</td>\n",
       "      <td>3.697083</td>\n",
       "      <td>2.271771</td>\n",
       "      <td>2.145217</td>\n",
       "      <td>5.728333</td>\n",
       "      <td>3.596042</td>\n",
       "      <td>1.802604</td>\n",
       "      <td>4.572813</td>\n",
       "      <td>2.934479</td>\n",
       "    </tr>\n",
       "    <tr>\n",
       "      <th>3651</th>\n",
       "      <td>2023-12-31 00:00:00+00:00</td>\n",
       "      <td>6.400625</td>\n",
       "      <td>2.100104</td>\n",
       "      <td>3.163021</td>\n",
       "      <td>3.402917</td>\n",
       "      <td>3.764687</td>\n",
       "      <td>2.871354</td>\n",
       "      <td>1.803854</td>\n",
       "      <td>3.997708</td>\n",
       "      <td>3.115729</td>\n",
       "      <td>...</td>\n",
       "      <td>1.668316</td>\n",
       "      <td>3.305417</td>\n",
       "      <td>3.555208</td>\n",
       "      <td>2.153229</td>\n",
       "      <td>2.089130</td>\n",
       "      <td>5.636354</td>\n",
       "      <td>3.485521</td>\n",
       "      <td>1.692796</td>\n",
       "      <td>4.360833</td>\n",
       "      <td>2.833261</td>\n",
       "    </tr>\n",
       "    <tr>\n",
       "      <th>3652</th>\n",
       "      <td>2024-01-01 00:00:00+00:00</td>\n",
       "      <td>6.525417</td>\n",
       "      <td>1.994375</td>\n",
       "      <td>3.060729</td>\n",
       "      <td>3.337708</td>\n",
       "      <td>3.718958</td>\n",
       "      <td>2.782917</td>\n",
       "      <td>1.751042</td>\n",
       "      <td>3.955000</td>\n",
       "      <td>3.092812</td>\n",
       "      <td>...</td>\n",
       "      <td>1.621771</td>\n",
       "      <td>3.260521</td>\n",
       "      <td>3.443229</td>\n",
       "      <td>2.055938</td>\n",
       "      <td>2.031905</td>\n",
       "      <td>5.553646</td>\n",
       "      <td>3.395000</td>\n",
       "      <td>1.607895</td>\n",
       "      <td>4.188750</td>\n",
       "      <td>2.736875</td>\n",
       "    </tr>\n",
       "    <tr>\n",
       "      <th>3653</th>\n",
       "      <td>2024-01-02 00:00:00+00:00</td>\n",
       "      <td>6.473750</td>\n",
       "      <td>1.934583</td>\n",
       "      <td>3.015417</td>\n",
       "      <td>3.305417</td>\n",
       "      <td>3.709583</td>\n",
       "      <td>2.738333</td>\n",
       "      <td>1.755417</td>\n",
       "      <td>3.941250</td>\n",
       "      <td>3.073750</td>\n",
       "      <td>...</td>\n",
       "      <td>1.593043</td>\n",
       "      <td>3.234167</td>\n",
       "      <td>3.378750</td>\n",
       "      <td>2.000833</td>\n",
       "      <td>1.998000</td>\n",
       "      <td>5.509167</td>\n",
       "      <td>3.344583</td>\n",
       "      <td>1.560435</td>\n",
       "      <td>4.093750</td>\n",
       "      <td>2.683333</td>\n",
       "    </tr>\n",
       "  </tbody>\n",
       "</table>\n",
       "<p>3654 rows × 245 columns</p>\n",
       "</div>"
      ],
      "text/plain": [
       "                       dateTime  05490600  05495000  05496000  05497150  \\\n",
       "0     2014-01-01 00:00:00+00:00  9.795132  1.655373  2.762714  3.344028   \n",
       "1     2014-01-02 00:00:00+00:00  9.795132  1.655373  2.762714  3.344028   \n",
       "2     2014-01-03 00:00:00+00:00  9.795132  1.655373  2.762714  3.344028   \n",
       "3     2014-01-04 00:00:00+00:00  9.795132  1.655373  2.762714  3.344028   \n",
       "4     2014-01-05 00:00:00+00:00  9.795132  1.655373  2.762714  3.344028   \n",
       "...                         ...       ...       ...       ...       ...   \n",
       "3649  2023-12-29 00:00:00+00:00  6.287500  2.265417  3.185326  3.454545   \n",
       "3650  2023-12-30 00:00:00+00:00  6.626875  2.166042  3.148229  3.404271   \n",
       "3651  2023-12-31 00:00:00+00:00  6.400625  2.100104  3.163021  3.402917   \n",
       "3652  2024-01-01 00:00:00+00:00  6.525417  1.994375  3.060729  3.337708   \n",
       "3653  2024-01-02 00:00:00+00:00  6.473750  1.934583  3.015417  3.305417   \n",
       "\n",
       "      05498150  05498700  05500000  05501000  05502000  ...  07185700  \\\n",
       "0     3.157778  3.334722  1.635694  3.778750  2.672143  ...  2.079861   \n",
       "1     3.153333  3.353958  1.635694  3.764783  2.692609  ...  2.055312   \n",
       "2     3.151354  3.336413  1.648625  3.623636  2.747660  ...  2.014063   \n",
       "3     3.133125  3.318854  1.657917  3.661458  2.772211  ...  1.993229   \n",
       "4     3.149167  3.317917  1.670556  3.795000  2.759375  ...  1.995417   \n",
       "...        ...       ...       ...       ...       ...  ...       ...   \n",
       "3649  3.987375  2.894479  1.643646  3.999792  3.169063  ...  1.754706   \n",
       "3650  3.849565  2.931354  1.917500  3.974896  3.145104  ...  1.716667   \n",
       "3651  3.764687  2.871354  1.803854  3.997708  3.115729  ...  1.668316   \n",
       "3652  3.718958  2.782917  1.751042  3.955000  3.092812  ...  1.621771   \n",
       "3653  3.709583  2.738333  1.755417  3.941250  3.073750  ...  1.593043   \n",
       "\n",
       "      07185765  07185910  07186000  07187000  07188653  07188838  07188885  \\\n",
       "0     3.695217  3.393333  2.450972  2.715556  4.609861  3.495915  1.900278   \n",
       "1     3.675889  3.366042  2.410978  2.694167  4.581979  3.453333  1.873125   \n",
       "2     3.634842  3.253229  2.345978  2.652917  4.541042  3.400989  1.832500   \n",
       "3     3.611236  3.220625  2.295417  2.620417  4.517917  3.358864  1.804062   \n",
       "4     3.611444  3.244167  2.276458  2.629583  4.518542  3.363579  1.808523   \n",
       "...        ...       ...       ...       ...       ...       ...       ...   \n",
       "3649  3.398438  3.893646  2.442500  2.211364  5.833542  3.732188  1.945109   \n",
       "3650  3.352500  3.697083  2.271771  2.145217  5.728333  3.596042  1.802604   \n",
       "3651  3.305417  3.555208  2.153229  2.089130  5.636354  3.485521  1.692796   \n",
       "3652  3.260521  3.443229  2.055938  2.031905  5.553646  3.395000  1.607895   \n",
       "3653  3.234167  3.378750  2.000833  1.998000  5.509167  3.344583  1.560435   \n",
       "\n",
       "      07189000  07189100  \n",
       "0     4.412083  2.979118  \n",
       "1     4.340521  2.961279  \n",
       "2     4.257191  2.934891  \n",
       "3     4.179136  2.917766  \n",
       "4     4.159367  2.909667  \n",
       "...        ...       ...  \n",
       "3649  4.830417  3.062708  \n",
       "3650  4.572813  2.934479  \n",
       "3651  4.360833  2.833261  \n",
       "3652  4.188750  2.736875  \n",
       "3653  4.093750  2.683333  \n",
       "\n",
       "[3654 rows x 245 columns]"
      ]
     },
     "execution_count": 117,
     "metadata": {},
     "output_type": "execute_result"
    }
   ],
   "source": [
    "dfaf\n"
   ]
  },
  {
   "cell_type": "code",
   "execution_count": 118,
   "metadata": {},
   "outputs": [],
   "source": [
    "for col in dfaf.columns:\n",
    "    if col not in str(gage_gdf['site_no'].values):\n",
    "        dfaf.drop(columns=col,axis=1,inplace=True)"
   ]
  },
  {
   "cell_type": "code",
   "execution_count": 119,
   "metadata": {},
   "outputs": [
    {
     "data": {
      "text/plain": [
       "(244, 244, 244, 244)"
      ]
     },
     "execution_count": 119,
     "metadata": {},
     "output_type": "execute_result"
    }
   ],
   "source": [
    "len(dfaf.columns),len(gage_gdf),dfaf.columns.nunique(),gage_gdf['site_no'].nunique()"
   ]
  },
  {
   "cell_type": "code",
   "execution_count": 120,
   "metadata": {},
   "outputs": [
    {
     "data": {
      "text/plain": [
       "(Index(['05490600', '05495000', '05496000', '05497150', '05498150', '05498700',\n",
       "        '05500000', '05501000', '05502000', '05502300',\n",
       "        ...\n",
       "        '07185700', '07185765', '07185910', '07186000', '07187000', '07188653',\n",
       "        '07188838', '07188885', '07189000', '07189100'],\n",
       "       dtype='object', length=244),\n",
       " 0      05490600\n",
       " 1      05495000\n",
       " 2      05496000\n",
       " 3      05497150\n",
       " 4      05498150\n",
       "          ...   \n",
       " 239    07188653\n",
       " 240    07188838\n",
       " 241    07188885\n",
       " 242    07189000\n",
       " 243    07189100\n",
       " Name: site_no, Length: 244, dtype: object)"
      ]
     },
     "execution_count": 120,
     "metadata": {},
     "output_type": "execute_result"
    }
   ],
   "source": [
    "dfaf.columns, gage_gdf['site_no']"
   ]
  },
  {
   "cell_type": "code",
   "execution_count": 121,
   "metadata": {},
   "outputs": [],
   "source": [
    "import warnings\n",
    "\n",
    "warnings.filterwarnings('ignore', category=UserWarning)"
   ]
  },
  {
   "cell_type": "code",
   "execution_count": 122,
   "metadata": {},
   "outputs": [],
   "source": [
    "import geopandas as gpd\n",
    "from shapely.ops import nearest_points\n",
    "\n",
    "# Function to find the closest row in the geodataframe based on a point\n",
    "def get_nearest_row(point, gdf):\n",
    "    # Compute the distances from the point to all geometries in gdf\n",
    "    distances = gdf.geometry.distance(point)\n",
    "    # Get the index of the minimum distance\n",
    "    nearest_idx = distances.idxmin()\n",
    "    # Return the nearest row\n",
    "    return gdf.loc[nearest_idx]\n",
    "\n",
    "# Initialize an empty list to store the merged rows\n",
    "merged_rows = []\n",
    "\n",
    "# Loop through each point in gage_df\n",
    "for idx, gage_point in gage_gdf.iterrows():\n",
    "    # Check for intersections in the geodataframe bridges_on_rivers\n",
    "    intersecting_rows = gdf_copy3[gdf_copy3.geometry.intersects(gage_point.geometry)]\n",
    "\n",
    "    if not intersecting_rows.empty:\n",
    "        # If there's an intersecting row, pick the first (or any relevant intersecting row)\n",
    "        selected_row = intersecting_rows.iloc[0]  # You can modify to choose based on a certain criteria if needed\n",
    "    else:\n",
    "        # If no intersections are found, find the closest row\n",
    "        selected_row = get_nearest_row(gage_point.geometry, gdf_copy3)\n",
    "\n",
    "    # Append the selected row with the point from gage_df\n",
    "        combined_rows=pd.concat([gage_point, selected_row])\n",
    "        merged_rows.append(combined_rows)\n",
    "# Convert the merged rows into a GeoDataFrame or DataFrame as needed\n",
    "final_merged_df = gpd.GeoDataFrame(merged_rows)\n",
    "\n",
    "# You can then merge or further process the final_merged_df as required\n",
    "intersected_gages=final_merged_df"
   ]
  },
  {
   "cell_type": "code",
   "execution_count": 123,
   "metadata": {},
   "outputs": [
    {
     "data": {
      "text/plain": [
       "(244, True, 244)"
      ]
     },
     "execution_count": 123,
     "metadata": {},
     "output_type": "execute_result"
    }
   ],
   "source": [
    "len(final_merged_df), len(final_merged_df)==len(dfaf.columns), len(dfaf.columns)\n",
    "#one of the gages is missing"
   ]
  },
  {
   "cell_type": "code",
   "execution_count": 124,
   "metadata": {},
   "outputs": [],
   "source": [
    "gages_list_from_gdf=intersected_gages['site_no']"
   ]
  },
  {
   "cell_type": "code",
   "execution_count": 125,
   "metadata": {
    "scrolled": true
   },
   "outputs": [
    {
     "data": {
      "text/plain": [
       "(33,\n",
       " 29,\n",
       " Index(['site_no', 'longitude', 'latitude', 'geometry', 'COMID', 'LENGTHKM',\n",
       "        'GEOMETRY', 'MAXELEVSMO', 'MINELEVSMO', 'SLOPE', 'SLOPELENKM',\n",
       "        'STREAMORDE', 'LEVELPATHI', 'PATHLENGTH', 'TERMINALPA', 'ARBOLATESU',\n",
       "        'DIVERGENCE', 'UPLEVELPAT', 'DNLEVELPAT', 'AREASQKM', 'TOTDASQKM',\n",
       "        'DIVDASQKM', 'HUC_8', 'HUC_10', 'HUC_12', 'cumDistance', 'cumMinElev',\n",
       "        'cumMaxElev', 'cumSlope', 'cumAveElev', 'HydroConn', 'cumArea',\n",
       "        'cumElev'],\n",
       "       dtype='object'))"
      ]
     },
     "execution_count": 125,
     "metadata": {},
     "output_type": "execute_result"
    }
   ],
   "source": [
    "len(intersected_gages.columns), len(final_dataset.columns),intersected_gages.columns"
   ]
  },
  {
   "cell_type": "code",
   "execution_count": 126,
   "metadata": {},
   "outputs": [
    {
     "data": {
      "text/plain": [
       "237"
      ]
     },
     "execution_count": 126,
     "metadata": {},
     "output_type": "execute_result"
    }
   ],
   "source": [
    "intersected_gages['COMID'].nunique()"
   ]
  },
  {
   "cell_type": "code",
   "execution_count": 127,
   "metadata": {},
   "outputs": [
    {
     "data": {
      "text/plain": [
       "3624227    3\n",
       "5829127    2\n",
       "4461478    2\n",
       "4390865    2\n",
       "4390979    2\n",
       "          ..\n",
       "2985390    1\n",
       "2984150    1\n",
       "7374295    1\n",
       "7374577    1\n",
       "7600551    1\n",
       "Name: COMID, Length: 237, dtype: int64"
      ]
     },
     "execution_count": 127,
     "metadata": {},
     "output_type": "execute_result"
    }
   ],
   "source": [
    "intersected_gages['COMID'].value_counts()"
   ]
  },
  {
   "cell_type": "code",
   "execution_count": 128,
   "metadata": {},
   "outputs": [],
   "source": [
    "nonunique_gages=intersected_gages['COMID'].value_counts()!=1"
   ]
  },
  {
   "cell_type": "code",
   "execution_count": 129,
   "metadata": {},
   "outputs": [
    {
     "data": {
      "text/plain": [
       "3624227     True\n",
       "5829127     True\n",
       "4461478     True\n",
       "4390865     True\n",
       "4390979     True\n",
       "           ...  \n",
       "2985390    False\n",
       "2984150    False\n",
       "7374295    False\n",
       "7374577    False\n",
       "7600551    False\n",
       "Name: COMID, Length: 237, dtype: bool"
      ]
     },
     "execution_count": 129,
     "metadata": {},
     "output_type": "execute_result"
    }
   ],
   "source": [
    "nonunique_gages"
   ]
  },
  {
   "cell_type": "code",
   "execution_count": 130,
   "metadata": {},
   "outputs": [],
   "source": [
    "indices=nonunique_gages[nonunique_gages].index"
   ]
  },
  {
   "cell_type": "code",
   "execution_count": 131,
   "metadata": {},
   "outputs": [
    {
     "data": {
      "text/html": [
       "<div>\n",
       "<style scoped>\n",
       "    .dataframe tbody tr th:only-of-type {\n",
       "        vertical-align: middle;\n",
       "    }\n",
       "\n",
       "    .dataframe tbody tr th {\n",
       "        vertical-align: top;\n",
       "    }\n",
       "\n",
       "    .dataframe thead th {\n",
       "        text-align: right;\n",
       "    }\n",
       "</style>\n",
       "<table border=\"1\" class=\"dataframe\">\n",
       "  <thead>\n",
       "    <tr style=\"text-align: right;\">\n",
       "      <th></th>\n",
       "      <th>site_no</th>\n",
       "      <th>longitude</th>\n",
       "      <th>latitude</th>\n",
       "      <th>geometry</th>\n",
       "      <th>COMID</th>\n",
       "      <th>LENGTHKM</th>\n",
       "      <th>GEOMETRY</th>\n",
       "      <th>MAXELEVSMO</th>\n",
       "      <th>MINELEVSMO</th>\n",
       "      <th>SLOPE</th>\n",
       "      <th>...</th>\n",
       "      <th>HUC_10</th>\n",
       "      <th>HUC_12</th>\n",
       "      <th>cumDistance</th>\n",
       "      <th>cumMinElev</th>\n",
       "      <th>cumMaxElev</th>\n",
       "      <th>cumSlope</th>\n",
       "      <th>cumAveElev</th>\n",
       "      <th>HydroConn</th>\n",
       "      <th>cumArea</th>\n",
       "      <th>cumElev</th>\n",
       "    </tr>\n",
       "  </thead>\n",
       "  <tbody>\n",
       "    <tr>\n",
       "      <th>39</th>\n",
       "      <td>06893557</td>\n",
       "      <td>-94.605389</td>\n",
       "      <td>39.033083</td>\n",
       "      <td>POINT (-94.60539 39.03308)</td>\n",
       "      <td>4390865</td>\n",
       "      <td>7.793</td>\n",
       "      <td>LINESTRING Z (-94.61660483024276 39.0245232727...</td>\n",
       "      <td>26202.0</td>\n",
       "      <td>23821.0</td>\n",
       "      <td>0.003055</td>\n",
       "      <td>...</td>\n",
       "      <td>1030010101</td>\n",
       "      <td>103001010105</td>\n",
       "      <td>13.245</td>\n",
       "      <td>[28419.0, 27401.0, 26202.0, 23821.0]</td>\n",
       "      <td>[31635.0, 28419.0, 27401.0, 26202.0]</td>\n",
       "      <td>0.031990</td>\n",
       "      <td>[30027.0, 27910.0, 26801.5, 25011.5]</td>\n",
       "      <td>550140281.0</td>\n",
       "      <td>37.0413</td>\n",
       "      <td>109750.0</td>\n",
       "    </tr>\n",
       "    <tr>\n",
       "      <th>40</th>\n",
       "      <td>06893562</td>\n",
       "      <td>-94.578722</td>\n",
       "      <td>39.039250</td>\n",
       "      <td>POINT (-94.57872 39.03925)</td>\n",
       "      <td>4390865</td>\n",
       "      <td>7.793</td>\n",
       "      <td>LINESTRING Z (-94.61660483024276 39.0245232727...</td>\n",
       "      <td>26202.0</td>\n",
       "      <td>23821.0</td>\n",
       "      <td>0.003055</td>\n",
       "      <td>...</td>\n",
       "      <td>1030010101</td>\n",
       "      <td>103001010105</td>\n",
       "      <td>13.245</td>\n",
       "      <td>[28419.0, 27401.0, 26202.0, 23821.0]</td>\n",
       "      <td>[31635.0, 28419.0, 27401.0, 26202.0]</td>\n",
       "      <td>0.031990</td>\n",
       "      <td>[30027.0, 27910.0, 26801.5, 25011.5]</td>\n",
       "      <td>550140281.0</td>\n",
       "      <td>37.0413</td>\n",
       "      <td>109750.0</td>\n",
       "    </tr>\n",
       "    <tr>\n",
       "      <th>47</th>\n",
       "      <td>06893885</td>\n",
       "      <td>-94.335250</td>\n",
       "      <td>39.017500</td>\n",
       "      <td>POINT (-94.33525 39.0175)</td>\n",
       "      <td>4390979</td>\n",
       "      <td>7.015</td>\n",
       "      <td>LINESTRING Z (-94.33425083068104 39.0028152727...</td>\n",
       "      <td>24435.0</td>\n",
       "      <td>23151.0</td>\n",
       "      <td>0.001830</td>\n",
       "      <td>...</td>\n",
       "      <td>1030010102</td>\n",
       "      <td>103001010205</td>\n",
       "      <td>24.703</td>\n",
       "      <td>[27383.0, 26876.0, 26876.0, 26761.0, 26159.0, ...</td>\n",
       "      <td>[30597.0, 27383.0, 26876.0, 26876.0, 26761.0, ...</td>\n",
       "      <td>0.141287</td>\n",
       "      <td>[28990.0, 27129.5, 26876.0, 26818.5, 26460.0, ...</td>\n",
       "      <td>550140460.0</td>\n",
       "      <td>30.5253</td>\n",
       "      <td>436583.0</td>\n",
       "    </tr>\n",
       "    <tr>\n",
       "      <th>48</th>\n",
       "      <td>06893890</td>\n",
       "      <td>-94.343839</td>\n",
       "      <td>39.025562</td>\n",
       "      <td>POINT (-94.34384 39.02556)</td>\n",
       "      <td>4390979</td>\n",
       "      <td>7.015</td>\n",
       "      <td>LINESTRING Z (-94.33425083068104 39.0028152727...</td>\n",
       "      <td>24435.0</td>\n",
       "      <td>23151.0</td>\n",
       "      <td>0.001830</td>\n",
       "      <td>...</td>\n",
       "      <td>1030010102</td>\n",
       "      <td>103001010205</td>\n",
       "      <td>24.703</td>\n",
       "      <td>[27383.0, 26876.0, 26876.0, 26761.0, 26159.0, ...</td>\n",
       "      <td>[30597.0, 27383.0, 26876.0, 26876.0, 26761.0, ...</td>\n",
       "      <td>0.141287</td>\n",
       "      <td>[28990.0, 27129.5, 26876.0, 26818.5, 26460.0, ...</td>\n",
       "      <td>550140460.0</td>\n",
       "      <td>30.5253</td>\n",
       "      <td>436583.0</td>\n",
       "    </tr>\n",
       "    <tr>\n",
       "      <th>72</th>\n",
       "      <td>06906190</td>\n",
       "      <td>-92.518056</td>\n",
       "      <td>39.753333</td>\n",
       "      <td>POINT (-92.51806 39.75333)</td>\n",
       "      <td>4461478</td>\n",
       "      <td>1.277</td>\n",
       "      <td>LINESTRING Z (-92.51575890017037 39.7504368716...</td>\n",
       "      <td>23532.0</td>\n",
       "      <td>22945.0</td>\n",
       "      <td>0.004597</td>\n",
       "      <td>...</td>\n",
       "      <td>1028020302</td>\n",
       "      <td>102802030201</td>\n",
       "      <td>56.892</td>\n",
       "      <td>[28171.0, 27434.0, 27430.0, 27278.0, 27256.0, ...</td>\n",
       "      <td>[29244.0, 28171.0, 27434.0, 27430.0, 27278.0, ...</td>\n",
       "      <td>0.052366</td>\n",
       "      <td>[28707.5, 27802.5, 27432.0, 27354.0, 27267.0, ...</td>\n",
       "      <td>550140583.0</td>\n",
       "      <td>84.3120</td>\n",
       "      <td>620213.5</td>\n",
       "    </tr>\n",
       "    <tr>\n",
       "      <th>73</th>\n",
       "      <td>06906200</td>\n",
       "      <td>-92.518944</td>\n",
       "      <td>39.751444</td>\n",
       "      <td>POINT (-92.51894 39.75144)</td>\n",
       "      <td>4461478</td>\n",
       "      <td>1.277</td>\n",
       "      <td>LINESTRING Z (-92.51575890017037 39.7504368716...</td>\n",
       "      <td>23532.0</td>\n",
       "      <td>22945.0</td>\n",
       "      <td>0.004597</td>\n",
       "      <td>...</td>\n",
       "      <td>1028020302</td>\n",
       "      <td>102802030201</td>\n",
       "      <td>56.892</td>\n",
       "      <td>[28171.0, 27434.0, 27430.0, 27278.0, 27256.0, ...</td>\n",
       "      <td>[29244.0, 28171.0, 27434.0, 27430.0, 27278.0, ...</td>\n",
       "      <td>0.052366</td>\n",
       "      <td>[28707.5, 27802.5, 27432.0, 27354.0, 27267.0, ...</td>\n",
       "      <td>550140583.0</td>\n",
       "      <td>84.3120</td>\n",
       "      <td>620213.5</td>\n",
       "    </tr>\n",
       "    <tr>\n",
       "      <th>108</th>\n",
       "      <td>06922440</td>\n",
       "      <td>-93.395222</td>\n",
       "      <td>38.256611</td>\n",
       "      <td>POINT (-93.39522 38.25661)</td>\n",
       "      <td>5829127</td>\n",
       "      <td>4.958</td>\n",
       "      <td>LINESTRING Z (-93.4058278987888 38.26311700727...</td>\n",
       "      <td>21488.0</td>\n",
       "      <td>20116.0</td>\n",
       "      <td>0.002767</td>\n",
       "      <td>...</td>\n",
       "      <td>1029010505</td>\n",
       "      <td>102901050507</td>\n",
       "      <td>387.120</td>\n",
       "      <td>[29927.0, 29283.0, 29132.0, 29128.0, 28632.0, ...</td>\n",
       "      <td>[32819.0, 29927.0, 29283.0, 29132.0, 29128.0, ...</td>\n",
       "      <td>-9997.868298</td>\n",
       "      <td>[31373.0, 29605.0, 29207.5, 29130.0, 28880.0, ...</td>\n",
       "      <td>550133099.0</td>\n",
       "      <td>438.1614</td>\n",
       "      <td>4740666.0</td>\n",
       "    </tr>\n",
       "    <tr>\n",
       "      <th>109</th>\n",
       "      <td>06922500</td>\n",
       "      <td>-93.387111</td>\n",
       "      <td>38.244500</td>\n",
       "      <td>POINT (-93.38711 38.2445)</td>\n",
       "      <td>5829127</td>\n",
       "      <td>4.958</td>\n",
       "      <td>LINESTRING Z (-93.4058278987888 38.26311700727...</td>\n",
       "      <td>21488.0</td>\n",
       "      <td>20116.0</td>\n",
       "      <td>0.002767</td>\n",
       "      <td>...</td>\n",
       "      <td>1029010505</td>\n",
       "      <td>102901050507</td>\n",
       "      <td>387.120</td>\n",
       "      <td>[29927.0, 29283.0, 29132.0, 29128.0, 28632.0, ...</td>\n",
       "      <td>[32819.0, 29927.0, 29283.0, 29132.0, 29128.0, ...</td>\n",
       "      <td>-9997.868298</td>\n",
       "      <td>[31373.0, 29605.0, 29207.5, 29130.0, 28880.0, ...</td>\n",
       "      <td>550133099.0</td>\n",
       "      <td>438.1614</td>\n",
       "      <td>4740666.0</td>\n",
       "    </tr>\n",
       "    <tr>\n",
       "      <th>146</th>\n",
       "      <td>07010022</td>\n",
       "      <td>-90.323556</td>\n",
       "      <td>38.668556</td>\n",
       "      <td>POINT (-90.32356 38.66856)</td>\n",
       "      <td>3624227</td>\n",
       "      <td>3.990</td>\n",
       "      <td>LINESTRING Z (-90.34304337020956 38.6740212066...</td>\n",
       "      <td>15846.0</td>\n",
       "      <td>13832.0</td>\n",
       "      <td>0.005048</td>\n",
       "      <td>...</td>\n",
       "      <td>0714010104</td>\n",
       "      <td>071401010403</td>\n",
       "      <td>9.943</td>\n",
       "      <td>[16675.0, 16088.0, 15846.0, 13832.0]</td>\n",
       "      <td>[20621.0, 16675.0, 16088.0, 15846.0]</td>\n",
       "      <td>0.025837</td>\n",
       "      <td>[18648.0, 16381.5, 15967.0, 14839.0]</td>\n",
       "      <td>510129398.0</td>\n",
       "      <td>52.8669</td>\n",
       "      <td>65835.5</td>\n",
       "    </tr>\n",
       "    <tr>\n",
       "      <th>147</th>\n",
       "      <td>07010030</td>\n",
       "      <td>-90.314833</td>\n",
       "      <td>38.676833</td>\n",
       "      <td>POINT (-90.31483 38.67683)</td>\n",
       "      <td>3624227</td>\n",
       "      <td>3.990</td>\n",
       "      <td>LINESTRING Z (-90.34304337020956 38.6740212066...</td>\n",
       "      <td>15846.0</td>\n",
       "      <td>13832.0</td>\n",
       "      <td>0.005048</td>\n",
       "      <td>...</td>\n",
       "      <td>0714010104</td>\n",
       "      <td>071401010403</td>\n",
       "      <td>9.943</td>\n",
       "      <td>[16675.0, 16088.0, 15846.0, 13832.0]</td>\n",
       "      <td>[20621.0, 16675.0, 16088.0, 15846.0]</td>\n",
       "      <td>0.025837</td>\n",
       "      <td>[18648.0, 16381.5, 15967.0, 14839.0]</td>\n",
       "      <td>510129398.0</td>\n",
       "      <td>52.8669</td>\n",
       "      <td>65835.5</td>\n",
       "    </tr>\n",
       "    <tr>\n",
       "      <th>148</th>\n",
       "      <td>07010035</td>\n",
       "      <td>-90.302472</td>\n",
       "      <td>38.683111</td>\n",
       "      <td>POINT (-90.30247 38.68311)</td>\n",
       "      <td>3624227</td>\n",
       "      <td>3.990</td>\n",
       "      <td>LINESTRING Z (-90.34304337020956 38.6740212066...</td>\n",
       "      <td>15846.0</td>\n",
       "      <td>13832.0</td>\n",
       "      <td>0.005048</td>\n",
       "      <td>...</td>\n",
       "      <td>0714010104</td>\n",
       "      <td>071401010403</td>\n",
       "      <td>9.943</td>\n",
       "      <td>[16675.0, 16088.0, 15846.0, 13832.0]</td>\n",
       "      <td>[20621.0, 16675.0, 16088.0, 15846.0]</td>\n",
       "      <td>0.025837</td>\n",
       "      <td>[18648.0, 16381.5, 15967.0, 14839.0]</td>\n",
       "      <td>510129398.0</td>\n",
       "      <td>52.8669</td>\n",
       "      <td>65835.5</td>\n",
       "    </tr>\n",
       "    <tr>\n",
       "      <th>159</th>\n",
       "      <td>07010094</td>\n",
       "      <td>-90.309361</td>\n",
       "      <td>38.564528</td>\n",
       "      <td>POINT (-90.30936 38.56453)</td>\n",
       "      <td>3624471</td>\n",
       "      <td>4.845</td>\n",
       "      <td>LINESTRING Z (-90.30993270359426 38.5791410734...</td>\n",
       "      <td>12448.0</td>\n",
       "      <td>12016.0</td>\n",
       "      <td>0.000892</td>\n",
       "      <td>...</td>\n",
       "      <td>0714010105</td>\n",
       "      <td>071401010506</td>\n",
       "      <td>24.051</td>\n",
       "      <td>[16130.0, 15839.0, 15230.0, 14697.0, 14466.0, ...</td>\n",
       "      <td>[18834.0, 16130.0, 15839.0, 15230.0, 14697.0, ...</td>\n",
       "      <td>0.036561</td>\n",
       "      <td>[17482.0, 15984.5, 15534.5, 14963.5, 14581.5, ...</td>\n",
       "      <td>510129405.0</td>\n",
       "      <td>56.5353</td>\n",
       "      <td>185038.0</td>\n",
       "    </tr>\n",
       "    <tr>\n",
       "      <th>160</th>\n",
       "      <td>07010097</td>\n",
       "      <td>-90.283278</td>\n",
       "      <td>38.559250</td>\n",
       "      <td>POINT (-90.28328 38.55925)</td>\n",
       "      <td>3624471</td>\n",
       "      <td>4.845</td>\n",
       "      <td>LINESTRING Z (-90.30993270359426 38.5791410734...</td>\n",
       "      <td>12448.0</td>\n",
       "      <td>12016.0</td>\n",
       "      <td>0.000892</td>\n",
       "      <td>...</td>\n",
       "      <td>0714010105</td>\n",
       "      <td>071401010506</td>\n",
       "      <td>24.051</td>\n",
       "      <td>[16130.0, 15839.0, 15230.0, 14697.0, 14466.0, ...</td>\n",
       "      <td>[18834.0, 16130.0, 15839.0, 15230.0, 14697.0, ...</td>\n",
       "      <td>0.036561</td>\n",
       "      <td>[17482.0, 15984.5, 15534.5, 14963.5, 14581.5, ...</td>\n",
       "      <td>510129405.0</td>\n",
       "      <td>56.5353</td>\n",
       "      <td>185038.0</td>\n",
       "    </tr>\n",
       "  </tbody>\n",
       "</table>\n",
       "<p>13 rows × 33 columns</p>\n",
       "</div>"
      ],
      "text/plain": [
       "      site_no  longitude   latitude                    geometry    COMID  \\\n",
       "39   06893557 -94.605389  39.033083  POINT (-94.60539 39.03308)  4390865   \n",
       "40   06893562 -94.578722  39.039250  POINT (-94.57872 39.03925)  4390865   \n",
       "47   06893885 -94.335250  39.017500   POINT (-94.33525 39.0175)  4390979   \n",
       "48   06893890 -94.343839  39.025562  POINT (-94.34384 39.02556)  4390979   \n",
       "72   06906190 -92.518056  39.753333  POINT (-92.51806 39.75333)  4461478   \n",
       "73   06906200 -92.518944  39.751444  POINT (-92.51894 39.75144)  4461478   \n",
       "108  06922440 -93.395222  38.256611  POINT (-93.39522 38.25661)  5829127   \n",
       "109  06922500 -93.387111  38.244500   POINT (-93.38711 38.2445)  5829127   \n",
       "146  07010022 -90.323556  38.668556  POINT (-90.32356 38.66856)  3624227   \n",
       "147  07010030 -90.314833  38.676833  POINT (-90.31483 38.67683)  3624227   \n",
       "148  07010035 -90.302472  38.683111  POINT (-90.30247 38.68311)  3624227   \n",
       "159  07010094 -90.309361  38.564528  POINT (-90.30936 38.56453)  3624471   \n",
       "160  07010097 -90.283278  38.559250  POINT (-90.28328 38.55925)  3624471   \n",
       "\n",
       "     LENGTHKM                                           GEOMETRY  MAXELEVSMO  \\\n",
       "39      7.793  LINESTRING Z (-94.61660483024276 39.0245232727...     26202.0   \n",
       "40      7.793  LINESTRING Z (-94.61660483024276 39.0245232727...     26202.0   \n",
       "47      7.015  LINESTRING Z (-94.33425083068104 39.0028152727...     24435.0   \n",
       "48      7.015  LINESTRING Z (-94.33425083068104 39.0028152727...     24435.0   \n",
       "72      1.277  LINESTRING Z (-92.51575890017037 39.7504368716...     23532.0   \n",
       "73      1.277  LINESTRING Z (-92.51575890017037 39.7504368716...     23532.0   \n",
       "108     4.958  LINESTRING Z (-93.4058278987888 38.26311700727...     21488.0   \n",
       "109     4.958  LINESTRING Z (-93.4058278987888 38.26311700727...     21488.0   \n",
       "146     3.990  LINESTRING Z (-90.34304337020956 38.6740212066...     15846.0   \n",
       "147     3.990  LINESTRING Z (-90.34304337020956 38.6740212066...     15846.0   \n",
       "148     3.990  LINESTRING Z (-90.34304337020956 38.6740212066...     15846.0   \n",
       "159     4.845  LINESTRING Z (-90.30993270359426 38.5791410734...     12448.0   \n",
       "160     4.845  LINESTRING Z (-90.30993270359426 38.5791410734...     12448.0   \n",
       "\n",
       "     MINELEVSMO     SLOPE  ...      HUC_10        HUC_12  cumDistance  \\\n",
       "39      23821.0  0.003055  ...  1030010101  103001010105       13.245   \n",
       "40      23821.0  0.003055  ...  1030010101  103001010105       13.245   \n",
       "47      23151.0  0.001830  ...  1030010102  103001010205       24.703   \n",
       "48      23151.0  0.001830  ...  1030010102  103001010205       24.703   \n",
       "72      22945.0  0.004597  ...  1028020302  102802030201       56.892   \n",
       "73      22945.0  0.004597  ...  1028020302  102802030201       56.892   \n",
       "108     20116.0  0.002767  ...  1029010505  102901050507      387.120   \n",
       "109     20116.0  0.002767  ...  1029010505  102901050507      387.120   \n",
       "146     13832.0  0.005048  ...  0714010104  071401010403        9.943   \n",
       "147     13832.0  0.005048  ...  0714010104  071401010403        9.943   \n",
       "148     13832.0  0.005048  ...  0714010104  071401010403        9.943   \n",
       "159     12016.0  0.000892  ...  0714010105  071401010506       24.051   \n",
       "160     12016.0  0.000892  ...  0714010105  071401010506       24.051   \n",
       "\n",
       "                                            cumMinElev  \\\n",
       "39                [28419.0, 27401.0, 26202.0, 23821.0]   \n",
       "40                [28419.0, 27401.0, 26202.0, 23821.0]   \n",
       "47   [27383.0, 26876.0, 26876.0, 26761.0, 26159.0, ...   \n",
       "48   [27383.0, 26876.0, 26876.0, 26761.0, 26159.0, ...   \n",
       "72   [28171.0, 27434.0, 27430.0, 27278.0, 27256.0, ...   \n",
       "73   [28171.0, 27434.0, 27430.0, 27278.0, 27256.0, ...   \n",
       "108  [29927.0, 29283.0, 29132.0, 29128.0, 28632.0, ...   \n",
       "109  [29927.0, 29283.0, 29132.0, 29128.0, 28632.0, ...   \n",
       "146               [16675.0, 16088.0, 15846.0, 13832.0]   \n",
       "147               [16675.0, 16088.0, 15846.0, 13832.0]   \n",
       "148               [16675.0, 16088.0, 15846.0, 13832.0]   \n",
       "159  [16130.0, 15839.0, 15230.0, 14697.0, 14466.0, ...   \n",
       "160  [16130.0, 15839.0, 15230.0, 14697.0, 14466.0, ...   \n",
       "\n",
       "                                            cumMaxElev     cumSlope  \\\n",
       "39                [31635.0, 28419.0, 27401.0, 26202.0]     0.031990   \n",
       "40                [31635.0, 28419.0, 27401.0, 26202.0]     0.031990   \n",
       "47   [30597.0, 27383.0, 26876.0, 26876.0, 26761.0, ...     0.141287   \n",
       "48   [30597.0, 27383.0, 26876.0, 26876.0, 26761.0, ...     0.141287   \n",
       "72   [29244.0, 28171.0, 27434.0, 27430.0, 27278.0, ...     0.052366   \n",
       "73   [29244.0, 28171.0, 27434.0, 27430.0, 27278.0, ...     0.052366   \n",
       "108  [32819.0, 29927.0, 29283.0, 29132.0, 29128.0, ... -9997.868298   \n",
       "109  [32819.0, 29927.0, 29283.0, 29132.0, 29128.0, ... -9997.868298   \n",
       "146               [20621.0, 16675.0, 16088.0, 15846.0]     0.025837   \n",
       "147               [20621.0, 16675.0, 16088.0, 15846.0]     0.025837   \n",
       "148               [20621.0, 16675.0, 16088.0, 15846.0]     0.025837   \n",
       "159  [18834.0, 16130.0, 15839.0, 15230.0, 14697.0, ...     0.036561   \n",
       "160  [18834.0, 16130.0, 15839.0, 15230.0, 14697.0, ...     0.036561   \n",
       "\n",
       "                                            cumAveElev    HydroConn   cumArea  \\\n",
       "39                [30027.0, 27910.0, 26801.5, 25011.5]  550140281.0   37.0413   \n",
       "40                [30027.0, 27910.0, 26801.5, 25011.5]  550140281.0   37.0413   \n",
       "47   [28990.0, 27129.5, 26876.0, 26818.5, 26460.0, ...  550140460.0   30.5253   \n",
       "48   [28990.0, 27129.5, 26876.0, 26818.5, 26460.0, ...  550140460.0   30.5253   \n",
       "72   [28707.5, 27802.5, 27432.0, 27354.0, 27267.0, ...  550140583.0   84.3120   \n",
       "73   [28707.5, 27802.5, 27432.0, 27354.0, 27267.0, ...  550140583.0   84.3120   \n",
       "108  [31373.0, 29605.0, 29207.5, 29130.0, 28880.0, ...  550133099.0  438.1614   \n",
       "109  [31373.0, 29605.0, 29207.5, 29130.0, 28880.0, ...  550133099.0  438.1614   \n",
       "146               [18648.0, 16381.5, 15967.0, 14839.0]  510129398.0   52.8669   \n",
       "147               [18648.0, 16381.5, 15967.0, 14839.0]  510129398.0   52.8669   \n",
       "148               [18648.0, 16381.5, 15967.0, 14839.0]  510129398.0   52.8669   \n",
       "159  [17482.0, 15984.5, 15534.5, 14963.5, 14581.5, ...  510129405.0   56.5353   \n",
       "160  [17482.0, 15984.5, 15534.5, 14963.5, 14581.5, ...  510129405.0   56.5353   \n",
       "\n",
       "       cumElev  \n",
       "39    109750.0  \n",
       "40    109750.0  \n",
       "47    436583.0  \n",
       "48    436583.0  \n",
       "72    620213.5  \n",
       "73    620213.5  \n",
       "108  4740666.0  \n",
       "109  4740666.0  \n",
       "146    65835.5  \n",
       "147    65835.5  \n",
       "148    65835.5  \n",
       "159   185038.0  \n",
       "160   185038.0  \n",
       "\n",
       "[13 rows x 33 columns]"
      ]
     },
     "execution_count": 131,
     "metadata": {},
     "output_type": "execute_result"
    }
   ],
   "source": [
    "intersected_gages[intersected_gages['COMID'].isin(indices)]"
   ]
  },
  {
   "cell_type": "code",
   "execution_count": 132,
   "metadata": {},
   "outputs": [
    {
     "data": {
      "text/plain": [
       "(13, False, False)"
      ]
     },
     "execution_count": 132,
     "metadata": {},
     "output_type": "execute_result"
    }
   ],
   "source": [
    "\n",
    "len(intersected_gages[intersected_gages['COMID'].isin(indices)]),\\\n",
    "len(intersected_gages[intersected_gages['COMID'].isin(indices)])+intersected_gages['COMID'].nunique()==254, 6+247==254"
   ]
  },
  {
   "cell_type": "markdown",
   "metadata": {},
   "source": [
    "idx = intersected_gages.groupby('site_no')['cumulativeDistance'].idxmax()"
   ]
  },
  {
   "cell_type": "code",
   "execution_count": 133,
   "metadata": {},
   "outputs": [],
   "source": [
    "intersected_gagesf=intersected_gages.loc[intersected_gages.groupby('site_no')['cumDistance'].idxmax()].reset_index(drop=True)"
   ]
  },
  {
   "cell_type": "code",
   "execution_count": 135,
   "metadata": {},
   "outputs": [
    {
     "name": "stdout",
     "output_type": "stream",
     "text": [
      "0\n"
     ]
    }
   ],
   "source": [
    "import geopandas as gpd\n",
    "\n",
    "# Ensure 'site_no' is treated consistently as a string (in case of mixed types)\n",
    "intersected_gages['site_no'] = intersected_gages['site_no'].astype(str)\n",
    "\n",
    "# Drop rows where cumulativeDistance is NaN (if there are any)\n",
    "intersected_gages = intersected_gages.dropna(subset=['cumDistance'])\n",
    "\n",
    "# Group by 'site_no', find the index of the row with the largest cumulativeDistance\n",
    "idx = intersected_gages.groupby('site_no')['cumDistance'].idxmax()\n",
    "\n",
    "# Use the index to filter the original GeoDataFrame while preserving the original index\n",
    "gdf_filtered = intersected_gages.loc[idx].sort_index()\n",
    "\n",
    "# Check if duplicates were removed\n",
    "print(gdf_filtered['site_no'].duplicated().sum())  # Should print 0 if no duplicates remain\n"
   ]
  },
  {
   "cell_type": "code",
   "execution_count": 136,
   "metadata": {},
   "outputs": [
    {
     "data": {
      "text/plain": [
       "05490600    1\n",
       "07010070    1\n",
       "07010082    1\n",
       "07010086    1\n",
       "07010088    1\n",
       "           ..\n",
       "06917560    1\n",
       "06917630    1\n",
       "06918060    1\n",
       "06918070    1\n",
       "07189100    1\n",
       "Name: site_no, Length: 244, dtype: int64"
      ]
     },
     "execution_count": 136,
     "metadata": {},
     "output_type": "execute_result"
    }
   ],
   "source": [
    "intersected_gagesf['site_no'].value_counts()"
   ]
  },
  {
   "cell_type": "code",
   "execution_count": 137,
   "metadata": {},
   "outputs": [
    {
     "data": {
      "text/html": [
       "<div>\n",
       "<style scoped>\n",
       "    .dataframe tbody tr th:only-of-type {\n",
       "        vertical-align: middle;\n",
       "    }\n",
       "\n",
       "    .dataframe tbody tr th {\n",
       "        vertical-align: top;\n",
       "    }\n",
       "\n",
       "    .dataframe thead th {\n",
       "        text-align: right;\n",
       "    }\n",
       "</style>\n",
       "<table border=\"1\" class=\"dataframe\">\n",
       "  <thead>\n",
       "    <tr style=\"text-align: right;\">\n",
       "      <th></th>\n",
       "      <th>site_no</th>\n",
       "      <th>longitude</th>\n",
       "      <th>latitude</th>\n",
       "      <th>geometry</th>\n",
       "      <th>COMID</th>\n",
       "      <th>LENGTHKM</th>\n",
       "      <th>GEOMETRY</th>\n",
       "      <th>MAXELEVSMO</th>\n",
       "      <th>MINELEVSMO</th>\n",
       "      <th>SLOPE</th>\n",
       "      <th>...</th>\n",
       "      <th>HUC_10</th>\n",
       "      <th>HUC_12</th>\n",
       "      <th>cumDistance</th>\n",
       "      <th>cumMinElev</th>\n",
       "      <th>cumMaxElev</th>\n",
       "      <th>cumSlope</th>\n",
       "      <th>cumAveElev</th>\n",
       "      <th>HydroConn</th>\n",
       "      <th>cumArea</th>\n",
       "      <th>cumElev</th>\n",
       "    </tr>\n",
       "  </thead>\n",
       "  <tbody>\n",
       "    <tr>\n",
       "      <th>0</th>\n",
       "      <td>05490600</td>\n",
       "      <td>-91.566964</td>\n",
       "      <td>40.462408</td>\n",
       "      <td>POINT (-91.56696 40.46241)</td>\n",
       "      <td>5002731</td>\n",
       "      <td>2.999</td>\n",
       "      <td>LINESTRING Z (-91.56809570164137 40.4624400038...</td>\n",
       "      <td>15441.0</td>\n",
       "      <td>15441.0</td>\n",
       "      <td>0.000010</td>\n",
       "      <td>...</td>\n",
       "      <td>0710000912</td>\n",
       "      <td>071000091211</td>\n",
       "      <td>178.384</td>\n",
       "      <td>[27073.0, 26366.0, 26211.0, 26088.0, 25158.0, ...</td>\n",
       "      <td>[29594.0, 27073.0, 26366.0, 26211.0, 26088.0, ...</td>\n",
       "      <td>-9997.891244</td>\n",
       "      <td>[28333.5, 26719.5, 26288.5, 26149.5, 25623.0, ...</td>\n",
       "      <td>510137240.0</td>\n",
       "      <td>218.0565</td>\n",
       "      <td>2853630.5</td>\n",
       "    </tr>\n",
       "    <tr>\n",
       "      <th>1</th>\n",
       "      <td>05495000</td>\n",
       "      <td>-91.597889</td>\n",
       "      <td>40.392417</td>\n",
       "      <td>POINT (-91.59789 40.39242)</td>\n",
       "      <td>5802762</td>\n",
       "      <td>6.390</td>\n",
       "      <td>LINESTRING Z (-91.62061196822651 40.3983564706...</td>\n",
       "      <td>15853.0</td>\n",
       "      <td>15659.0</td>\n",
       "      <td>0.000304</td>\n",
       "      <td>...</td>\n",
       "      <td>0711000103</td>\n",
       "      <td>071100010301</td>\n",
       "      <td>146.382</td>\n",
       "      <td>[26993.0, 25551.0, 25010.0, 24996.0, 24996.0, ...</td>\n",
       "      <td>[29585.0, 26993.0, 25551.0, 25010.0, 24996.0, ...</td>\n",
       "      <td>0.073799</td>\n",
       "      <td>[28289.0, 26272.0, 25280.5, 25003.0, 24996.0, ...</td>\n",
       "      <td>510143095.0</td>\n",
       "      <td>180.1071</td>\n",
       "      <td>2159074.0</td>\n",
       "    </tr>\n",
       "    <tr>\n",
       "      <th>2</th>\n",
       "      <td>05496000</td>\n",
       "      <td>-91.565694</td>\n",
       "      <td>40.142111</td>\n",
       "      <td>POINT (-91.56569 40.14211)</td>\n",
       "      <td>5802280</td>\n",
       "      <td>3.919</td>\n",
       "      <td>LINESTRING Z (-91.5607573683194 40.14774540434...</td>\n",
       "      <td>16362.0</td>\n",
       "      <td>15880.0</td>\n",
       "      <td>0.001230</td>\n",
       "      <td>...</td>\n",
       "      <td>0711000109</td>\n",
       "      <td>071100010905</td>\n",
       "      <td>150.525</td>\n",
       "      <td>[25572.0, 24925.0, 24786.0, 24224.0, 23708.0, ...</td>\n",
       "      <td>[26452.0, 25572.0, 24925.0, 24786.0, 24224.0, ...</td>\n",
       "      <td>0.207728</td>\n",
       "      <td>[26012.0, 25248.5, 24855.5, 24505.0, 23966.0, ...</td>\n",
       "      <td>510143145.0</td>\n",
       "      <td>155.0934</td>\n",
       "      <td>2602226.0</td>\n",
       "    </tr>\n",
       "    <tr>\n",
       "      <th>3</th>\n",
       "      <td>05497150</td>\n",
       "      <td>-91.622342</td>\n",
       "      <td>40.018903</td>\n",
       "      <td>POINT (-91.62234 40.0189)</td>\n",
       "      <td>5017066</td>\n",
       "      <td>3.337</td>\n",
       "      <td>LINESTRING Z (-91.61977670156114 40.0250766712...</td>\n",
       "      <td>15830.0</td>\n",
       "      <td>15788.0</td>\n",
       "      <td>0.000126</td>\n",
       "      <td>...</td>\n",
       "      <td>0711000204</td>\n",
       "      <td>071100020404</td>\n",
       "      <td>159.902</td>\n",
       "      <td>[28548.0, 26057.0, 26024.0, 25836.0, 25610.0, ...</td>\n",
       "      <td>[29226.0, 28548.0, 26057.0, 26024.0, 25836.0, ...</td>\n",
       "      <td>-19995.899113</td>\n",
       "      <td>[28887.0, 27302.5, 26040.5, 25930.0, 25723.0, ...</td>\n",
       "      <td>510137648.0</td>\n",
       "      <td>179.2737</td>\n",
       "      <td>2111465.0</td>\n",
       "    </tr>\n",
       "    <tr>\n",
       "      <th>4</th>\n",
       "      <td>05498150</td>\n",
       "      <td>-91.705718</td>\n",
       "      <td>40.028933</td>\n",
       "      <td>POINT (-91.70572 40.02893)</td>\n",
       "      <td>5017044</td>\n",
       "      <td>3.320</td>\n",
       "      <td>LINESTRING Z (-91.71915416807354 40.0460668045...</td>\n",
       "      <td>16481.0</td>\n",
       "      <td>16237.0</td>\n",
       "      <td>0.000735</td>\n",
       "      <td>...</td>\n",
       "      <td>0711000203</td>\n",
       "      <td>071100020306</td>\n",
       "      <td>153.659</td>\n",
       "      <td>[27868.0, 27277.0, 26683.0, 26548.0, 25519.0, ...</td>\n",
       "      <td>[29359.0, 27868.0, 27277.0, 26683.0, 26548.0, ...</td>\n",
       "      <td>0.084820</td>\n",
       "      <td>[28613.5, 27572.5, 26980.0, 26615.5, 26033.5, ...</td>\n",
       "      <td>510137727.0</td>\n",
       "      <td>170.4510</td>\n",
       "      <td>1984101.0</td>\n",
       "    </tr>\n",
       "    <tr>\n",
       "      <th>...</th>\n",
       "      <td>...</td>\n",
       "      <td>...</td>\n",
       "      <td>...</td>\n",
       "      <td>...</td>\n",
       "      <td>...</td>\n",
       "      <td>...</td>\n",
       "      <td>...</td>\n",
       "      <td>...</td>\n",
       "      <td>...</td>\n",
       "      <td>...</td>\n",
       "      <td>...</td>\n",
       "      <td>...</td>\n",
       "      <td>...</td>\n",
       "      <td>...</td>\n",
       "      <td>...</td>\n",
       "      <td>...</td>\n",
       "      <td>...</td>\n",
       "      <td>...</td>\n",
       "      <td>...</td>\n",
       "      <td>...</td>\n",
       "      <td>...</td>\n",
       "    </tr>\n",
       "    <tr>\n",
       "      <th>239</th>\n",
       "      <td>07188653</td>\n",
       "      <td>-94.182222</td>\n",
       "      <td>36.615861</td>\n",
       "      <td>POINT (-94.18222 36.61586)</td>\n",
       "      <td>7600617</td>\n",
       "      <td>1.192</td>\n",
       "      <td>LINESTRING Z (-94.18175243091775 36.6157136098...</td>\n",
       "      <td>29854.0</td>\n",
       "      <td>29286.0</td>\n",
       "      <td>0.004765</td>\n",
       "      <td>...</td>\n",
       "      <td>1107020801</td>\n",
       "      <td>110702080107</td>\n",
       "      <td>49.349</td>\n",
       "      <td>[46698.0, 45744.0, 45300.0, 45300.0, 45300.0, ...</td>\n",
       "      <td>[47968.0, 46698.0, 45744.0, 45300.0, 45300.0, ...</td>\n",
       "      <td>0.126581</td>\n",
       "      <td>[47333.0, 46221.0, 45522.0, 45300.0, 45300.0, ...</td>\n",
       "      <td>390158990.0</td>\n",
       "      <td>67.3938</td>\n",
       "      <td>1143993.0</td>\n",
       "    </tr>\n",
       "    <tr>\n",
       "      <th>240</th>\n",
       "      <td>07188838</td>\n",
       "      <td>-94.372972</td>\n",
       "      <td>36.584056</td>\n",
       "      <td>POINT (-94.37297 36.58406)</td>\n",
       "      <td>7600673</td>\n",
       "      <td>1.250</td>\n",
       "      <td>LINESTRING Z (-94.3737062306198 36.58237287655...</td>\n",
       "      <td>26503.0</td>\n",
       "      <td>26154.0</td>\n",
       "      <td>0.002792</td>\n",
       "      <td>...</td>\n",
       "      <td>1107020802</td>\n",
       "      <td>110702080206</td>\n",
       "      <td>78.478</td>\n",
       "      <td>[46698.0, 45744.0, 45300.0, 45300.0, 45300.0, ...</td>\n",
       "      <td>[47968.0, 46698.0, 45744.0, 45300.0, 45300.0, ...</td>\n",
       "      <td>0.136534</td>\n",
       "      <td>[47333.0, 46221.0, 45522.0, 45300.0, 45300.0, ...</td>\n",
       "      <td>390158990.0</td>\n",
       "      <td>121.5081</td>\n",
       "      <td>1424352.0</td>\n",
       "    </tr>\n",
       "    <tr>\n",
       "      <th>241</th>\n",
       "      <td>07188885</td>\n",
       "      <td>-94.449639</td>\n",
       "      <td>36.599278</td>\n",
       "      <td>POINT (-94.44964 36.59928)</td>\n",
       "      <td>7600671</td>\n",
       "      <td>4.018</td>\n",
       "      <td>LINESTRING Z (-94.44609103050749 36.6090896098...</td>\n",
       "      <td>26122.0</td>\n",
       "      <td>25001.0</td>\n",
       "      <td>0.002790</td>\n",
       "      <td>...</td>\n",
       "      <td>1107020803</td>\n",
       "      <td>110702080307</td>\n",
       "      <td>87.811</td>\n",
       "      <td>[46698.0, 45744.0, 45300.0, 45300.0, 45300.0, ...</td>\n",
       "      <td>[47968.0, 46698.0, 45744.0, 45300.0, 45300.0, ...</td>\n",
       "      <td>0.139686</td>\n",
       "      <td>[47333.0, 46221.0, 45522.0, 45300.0, 45300.0, ...</td>\n",
       "      <td>390158990.0</td>\n",
       "      <td>140.2254</td>\n",
       "      <td>1501645.5</td>\n",
       "    </tr>\n",
       "    <tr>\n",
       "      <th>242</th>\n",
       "      <td>07189000</td>\n",
       "      <td>-94.586889</td>\n",
       "      <td>36.631461</td>\n",
       "      <td>POINT (-94.58689 36.63146)</td>\n",
       "      <td>7601075</td>\n",
       "      <td>5.698</td>\n",
       "      <td>LINESTRING Z (-94.5800634969662 36.62572747648...</td>\n",
       "      <td>23253.0</td>\n",
       "      <td>22705.0</td>\n",
       "      <td>0.000962</td>\n",
       "      <td>...</td>\n",
       "      <td>1107020805</td>\n",
       "      <td>110702080505</td>\n",
       "      <td>116.523</td>\n",
       "      <td>[46698.0, 45744.0, 45300.0, 45300.0, 45300.0, ...</td>\n",
       "      <td>[47968.0, 46698.0, 45744.0, 45300.0, 45300.0, ...</td>\n",
       "      <td>0.150022</td>\n",
       "      <td>[47333.0, 46221.0, 45522.0, 45300.0, 45300.0, ...</td>\n",
       "      <td>390158990.0</td>\n",
       "      <td>219.6387</td>\n",
       "      <td>1768961.5</td>\n",
       "    </tr>\n",
       "    <tr>\n",
       "      <th>243</th>\n",
       "      <td>07189100</td>\n",
       "      <td>-94.604000</td>\n",
       "      <td>36.670806</td>\n",
       "      <td>POINT (-94.604 36.67081)</td>\n",
       "      <td>7600551</td>\n",
       "      <td>7.862</td>\n",
       "      <td>LINESTRING Z (-94.58127963029762 36.6952750097...</td>\n",
       "      <td>24894.0</td>\n",
       "      <td>23163.0</td>\n",
       "      <td>0.002202</td>\n",
       "      <td>...</td>\n",
       "      <td>1107020804</td>\n",
       "      <td>110702080403</td>\n",
       "      <td>39.539</td>\n",
       "      <td>[33524.0, 30087.0, 27223.0, 25839.0, 25343.0, ...</td>\n",
       "      <td>[36596.0, 33524.0, 30087.0, 27223.0, 25839.0, ...</td>\n",
       "      <td>0.023345</td>\n",
       "      <td>[35060.0, 31805.5, 28655.0, 26531.0, 25591.0, ...</td>\n",
       "      <td>390158871.0</td>\n",
       "      <td>138.9897</td>\n",
       "      <td>196789.5</td>\n",
       "    </tr>\n",
       "  </tbody>\n",
       "</table>\n",
       "<p>244 rows × 33 columns</p>\n",
       "</div>"
      ],
      "text/plain": [
       "      site_no  longitude   latitude                    geometry    COMID  \\\n",
       "0    05490600 -91.566964  40.462408  POINT (-91.56696 40.46241)  5002731   \n",
       "1    05495000 -91.597889  40.392417  POINT (-91.59789 40.39242)  5802762   \n",
       "2    05496000 -91.565694  40.142111  POINT (-91.56569 40.14211)  5802280   \n",
       "3    05497150 -91.622342  40.018903   POINT (-91.62234 40.0189)  5017066   \n",
       "4    05498150 -91.705718  40.028933  POINT (-91.70572 40.02893)  5017044   \n",
       "..        ...        ...        ...                         ...      ...   \n",
       "239  07188653 -94.182222  36.615861  POINT (-94.18222 36.61586)  7600617   \n",
       "240  07188838 -94.372972  36.584056  POINT (-94.37297 36.58406)  7600673   \n",
       "241  07188885 -94.449639  36.599278  POINT (-94.44964 36.59928)  7600671   \n",
       "242  07189000 -94.586889  36.631461  POINT (-94.58689 36.63146)  7601075   \n",
       "243  07189100 -94.604000  36.670806    POINT (-94.604 36.67081)  7600551   \n",
       "\n",
       "     LENGTHKM                                           GEOMETRY  MAXELEVSMO  \\\n",
       "0       2.999  LINESTRING Z (-91.56809570164137 40.4624400038...     15441.0   \n",
       "1       6.390  LINESTRING Z (-91.62061196822651 40.3983564706...     15853.0   \n",
       "2       3.919  LINESTRING Z (-91.5607573683194 40.14774540434...     16362.0   \n",
       "3       3.337  LINESTRING Z (-91.61977670156114 40.0250766712...     15830.0   \n",
       "4       3.320  LINESTRING Z (-91.71915416807354 40.0460668045...     16481.0   \n",
       "..        ...                                                ...         ...   \n",
       "239     1.192  LINESTRING Z (-94.18175243091775 36.6157136098...     29854.0   \n",
       "240     1.250  LINESTRING Z (-94.3737062306198 36.58237287655...     26503.0   \n",
       "241     4.018  LINESTRING Z (-94.44609103050749 36.6090896098...     26122.0   \n",
       "242     5.698  LINESTRING Z (-94.5800634969662 36.62572747648...     23253.0   \n",
       "243     7.862  LINESTRING Z (-94.58127963029762 36.6952750097...     24894.0   \n",
       "\n",
       "     MINELEVSMO     SLOPE  ...      HUC_10        HUC_12  cumDistance  \\\n",
       "0       15441.0  0.000010  ...  0710000912  071000091211      178.384   \n",
       "1       15659.0  0.000304  ...  0711000103  071100010301      146.382   \n",
       "2       15880.0  0.001230  ...  0711000109  071100010905      150.525   \n",
       "3       15788.0  0.000126  ...  0711000204  071100020404      159.902   \n",
       "4       16237.0  0.000735  ...  0711000203  071100020306      153.659   \n",
       "..          ...       ...  ...         ...           ...          ...   \n",
       "239     29286.0  0.004765  ...  1107020801  110702080107       49.349   \n",
       "240     26154.0  0.002792  ...  1107020802  110702080206       78.478   \n",
       "241     25001.0  0.002790  ...  1107020803  110702080307       87.811   \n",
       "242     22705.0  0.000962  ...  1107020805  110702080505      116.523   \n",
       "243     23163.0  0.002202  ...  1107020804  110702080403       39.539   \n",
       "\n",
       "                                            cumMinElev  \\\n",
       "0    [27073.0, 26366.0, 26211.0, 26088.0, 25158.0, ...   \n",
       "1    [26993.0, 25551.0, 25010.0, 24996.0, 24996.0, ...   \n",
       "2    [25572.0, 24925.0, 24786.0, 24224.0, 23708.0, ...   \n",
       "3    [28548.0, 26057.0, 26024.0, 25836.0, 25610.0, ...   \n",
       "4    [27868.0, 27277.0, 26683.0, 26548.0, 25519.0, ...   \n",
       "..                                                 ...   \n",
       "239  [46698.0, 45744.0, 45300.0, 45300.0, 45300.0, ...   \n",
       "240  [46698.0, 45744.0, 45300.0, 45300.0, 45300.0, ...   \n",
       "241  [46698.0, 45744.0, 45300.0, 45300.0, 45300.0, ...   \n",
       "242  [46698.0, 45744.0, 45300.0, 45300.0, 45300.0, ...   \n",
       "243  [33524.0, 30087.0, 27223.0, 25839.0, 25343.0, ...   \n",
       "\n",
       "                                            cumMaxElev      cumSlope  \\\n",
       "0    [29594.0, 27073.0, 26366.0, 26211.0, 26088.0, ...  -9997.891244   \n",
       "1    [29585.0, 26993.0, 25551.0, 25010.0, 24996.0, ...      0.073799   \n",
       "2    [26452.0, 25572.0, 24925.0, 24786.0, 24224.0, ...      0.207728   \n",
       "3    [29226.0, 28548.0, 26057.0, 26024.0, 25836.0, ... -19995.899113   \n",
       "4    [29359.0, 27868.0, 27277.0, 26683.0, 26548.0, ...      0.084820   \n",
       "..                                                 ...           ...   \n",
       "239  [47968.0, 46698.0, 45744.0, 45300.0, 45300.0, ...      0.126581   \n",
       "240  [47968.0, 46698.0, 45744.0, 45300.0, 45300.0, ...      0.136534   \n",
       "241  [47968.0, 46698.0, 45744.0, 45300.0, 45300.0, ...      0.139686   \n",
       "242  [47968.0, 46698.0, 45744.0, 45300.0, 45300.0, ...      0.150022   \n",
       "243  [36596.0, 33524.0, 30087.0, 27223.0, 25839.0, ...      0.023345   \n",
       "\n",
       "                                            cumAveElev    HydroConn   cumArea  \\\n",
       "0    [28333.5, 26719.5, 26288.5, 26149.5, 25623.0, ...  510137240.0  218.0565   \n",
       "1    [28289.0, 26272.0, 25280.5, 25003.0, 24996.0, ...  510143095.0  180.1071   \n",
       "2    [26012.0, 25248.5, 24855.5, 24505.0, 23966.0, ...  510143145.0  155.0934   \n",
       "3    [28887.0, 27302.5, 26040.5, 25930.0, 25723.0, ...  510137648.0  179.2737   \n",
       "4    [28613.5, 27572.5, 26980.0, 26615.5, 26033.5, ...  510137727.0  170.4510   \n",
       "..                                                 ...          ...       ...   \n",
       "239  [47333.0, 46221.0, 45522.0, 45300.0, 45300.0, ...  390158990.0   67.3938   \n",
       "240  [47333.0, 46221.0, 45522.0, 45300.0, 45300.0, ...  390158990.0  121.5081   \n",
       "241  [47333.0, 46221.0, 45522.0, 45300.0, 45300.0, ...  390158990.0  140.2254   \n",
       "242  [47333.0, 46221.0, 45522.0, 45300.0, 45300.0, ...  390158990.0  219.6387   \n",
       "243  [35060.0, 31805.5, 28655.0, 26531.0, 25591.0, ...  390158871.0  138.9897   \n",
       "\n",
       "       cumElev  \n",
       "0    2853630.5  \n",
       "1    2159074.0  \n",
       "2    2602226.0  \n",
       "3    2111465.0  \n",
       "4    1984101.0  \n",
       "..         ...  \n",
       "239  1143993.0  \n",
       "240  1424352.0  \n",
       "241  1501645.5  \n",
       "242  1768961.5  \n",
       "243   196789.5  \n",
       "\n",
       "[244 rows x 33 columns]"
      ]
     },
     "execution_count": 137,
     "metadata": {},
     "output_type": "execute_result"
    }
   ],
   "source": [
    "intersected_gages"
   ]
  },
  {
   "cell_type": "code",
   "execution_count": null,
   "metadata": {},
   "outputs": [],
   "source": [
    "bridges_on_rivers.to_excel(r\"C:\\Users\\fsgg7\\Downloads\\gage_height_data\\bridges_on_rivers.xlsx\")\n"
   ]
  },
  {
   "cell_type": "code",
   "execution_count": 223,
   "metadata": {},
   "outputs": [],
   "source": [
    "intersected_gages.to_excel(r\"C:\\Users\\fsgg7\\Downloads\\gage_height_data\\intersected_gages_9_23_2024.xlsx\")"
   ]
  },
  {
   "cell_type": "code",
   "execution_count": null,
   "metadata": {},
   "outputs": [],
   "source": []
  }
 ],
 "metadata": {
  "colab": {
   "provenance": []
  },
  "kernelspec": {
   "display_name": "Python 3 (ipykernel)",
   "language": "python",
   "name": "python3"
  },
  "language_info": {
   "codemirror_mode": {
    "name": "ipython",
    "version": 3
   },
   "file_extension": ".py",
   "mimetype": "text/x-python",
   "name": "python",
   "nbconvert_exporter": "python",
   "pygments_lexer": "ipython3",
   "version": "3.10.9"
  }
 },
 "nbformat": 4,
 "nbformat_minor": 4
}
